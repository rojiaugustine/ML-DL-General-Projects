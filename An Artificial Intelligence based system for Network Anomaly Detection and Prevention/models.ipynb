{
  "nbformat": 4,
  "nbformat_minor": 0,
  "metadata": {
    "colab": {
      "name": "network_mar8.ipynb",
      "version": "0.3.2",
      "provenance": [],
      "collapsed_sections": []
    },
    "kernelspec": {
      "name": "python3",
      "display_name": "Python 3"
    },
    "accelerator": "GPU"
  },
  "cells": [
    {
      "metadata": {
        "id": "FzyRVVPN8X3W",
        "colab_type": "text"
      },
      "cell_type": "markdown",
      "source": [
        "# NETWORK ANAMOLY DETECTION MODELS\n",
        "\n",
        "\n"
      ]
    },
    {
      "metadata": {
        "id": "wLSyOSZI8BVj",
        "colab_type": "text"
      },
      "cell_type": "markdown",
      "source": [
        "Roji Augustine\n",
        "\n",
        "roji.augustine@techmahindra.com\n",
        "\n",
        "rojiaugustine@gmail.com"
      ]
    },
    {
      "metadata": {
        "id": "n-neSEba8X3Z",
        "colab_type": "code",
        "colab": {}
      },
      "cell_type": "code",
      "source": [
        "# importing required modules\n",
        "from fastai.tabular import *\n",
        "from sklearn.ensemble import RandomForestRegressor, RandomForestClassifier\n",
        "from sklearn import preprocessing, model_selection, neighbors, metrics\n",
        "from sklearn.metrics import confusion_matrix\n",
        "import pickle\n",
        "import os\n",
        "\n"
      ],
      "execution_count": 0,
      "outputs": []
    },
    {
      "metadata": {
        "id": "x_KZPHJ_wOn0",
        "colab_type": "code",
        "outputId": "aabbc139-ae56-4c4d-a543-feaca9becabe",
        "colab": {
          "base_uri": "https://localhost:8080/",
          "height": 35
        }
      },
      "cell_type": "code",
      "source": [
        "# mounting google drive to access the data files \n",
        "from google.colab import drive\n",
        "drive.mount('/content/gdrive', force_remount=True)\n",
        "root_dir = \"/content/gdrive/My Drive/\"\n",
        "path = Path(root_dir + 'hackathon/')"
      ],
      "execution_count": 176,
      "outputs": [
        {
          "output_type": "stream",
          "text": [
            "Mounted at /content/gdrive\n"
          ],
          "name": "stdout"
        }
      ]
    },
    {
      "metadata": {
        "id": "D2xAEfojod2-",
        "colab_type": "code",
        "outputId": "23eebf43-0c0a-404f-99af-3578701c0a86",
        "colab": {
          "base_uri": "https://localhost:8080/",
          "height": 17
        }
      },
      "cell_type": "code",
      "source": [
        "# enable scroll for output cell\n",
        "%%javascript\n",
        "IPython.OutputArea.auto_scroll_threshold = 50000;"
      ],
      "execution_count": 177,
      "outputs": [
        {
          "output_type": "display_data",
          "data": {
            "application/javascript": [
              "IPython.OutputArea.auto_scroll_threshold = 50000;"
            ],
            "text/plain": [
              "<IPython.core.display.Javascript object>"
            ]
          },
          "metadata": {
            "tags": []
          }
        }
      ]
    },
    {
      "metadata": {
        "id": "Ms_eynQEar_s",
        "colab_type": "code",
        "colab": {}
      },
      "cell_type": "code",
      "source": [
        "# defining the dictionary to map attack name to the attack category. eg : smurf belong to category DOS. This dictionary is used for model 2\n",
        "dict_attack_to_category = {'normal' : 'normal','back': 'DOS', 'land': 'DOS', 'neptune': 'DOS', 'pod': 'DOS', 'smurf': 'DOS', 'teardrop': 'DOS', 'apache2': 'DOS', 'processtable': 'DOS', 'worm': 'DOS', 'udpstorm': 'DOS', 'mailbomb': 'DOS', 'buffer_overflow': 'U2R', 'loadmodule': 'U2R', 'perl': 'U2R', 'rootkit': 'U2R', 'sqlattack': 'U2R', 'xterm': 'U2R', 'ps': 'U2R', 'ftp_write': 'R2L', 'guess_passwd': 'R2L', 'imap': 'R2L', 'phf': 'R2L', 'multihop': 'R2L', 'warezclient': 'R2L', 'warezmaster': 'R2L', 'spy': 'R2L', 'xlock': 'R2L', 'xsnoop': 'R2L', 'snmpgetattack': 'R2L', 'snmpguess': 'R2L', 'httptunnel': 'R2L', 'sendmail': 'R2L', 'named': 'R2L', 'satan': 'PROBE', 'ipsweep': 'PROBE', 'portsweep': 'PROBE', 'nmap': 'PROBE', 'mscan': 'PROBE', 'saint': 'PROBE'}"
      ],
      "execution_count": 0,
      "outputs": []
    },
    {
      "metadata": {
        "id": "drWxXnBsd5CF",
        "colab_type": "text"
      },
      "cell_type": "markdown",
      "source": [
        "##Method definitions"
      ]
    },
    {
      "metadata": {
        "id": "Jovxam7ddyhH",
        "colab_type": "code",
        "colab": {}
      },
      "cell_type": "code",
      "source": [
        "def neural_network(df,dep_var,cat_names,cont_names,epoch,learning_rate,procs,model_name=None):  \n",
        "    '''\n",
        "    To create Neural Network with the given arguements\n",
        "    \n",
        "    Arguements\n",
        "    df : Pandas data set contains train and test data\n",
        "    dep_var : Dependent variable / label / target\n",
        "    cat_names : Categorical feature names in the data set\n",
        "    cont_names : Continuous feature names in the data set\n",
        "    epoch : Number of epochs \n",
        "    learning_rate : Learning rate of the neural network\n",
        "    procs : List of arguements for preprocessing\n",
        "    model_name : (Optional) : Model name, if the model needs to be saved\n",
        "    \n",
        "    '''\n",
        "    # calculating the train and test size of the data from test_percent\n",
        "    train_size = int(len(df)-len(df) * test_percent)\n",
        "    test_size =  int(len(df) * test_percent)\n",
        "    print(\"Total Data Size {}, Train data size {}, Test Data size {}\".format(len(df),train_size,test_size))\n",
        "    \n",
        "    test = TabularList.from_df(df.iloc[0:test_size].copy(), path=path, cat_names=cat_names, cont_names=cont_names)\n",
        "\n",
        "    data = (TabularList.from_df(df, path=path, cat_names=cat_names, cont_names=cont_names, procs=procs)\n",
        "                               .split_by_idx(list(range(0,test_size)))\n",
        "                               .label_from_df(cols=dep_var)\n",
        "                               .add_test(test)\n",
        "                               .databunch())\n",
        "\n",
        "    #  Neural network with two hidden fully connected layers of size 200 and 100 \n",
        "    learn = tabular_learner(data, layers=[200,100], metrics=accuracy)\n",
        "    print(\"\\nNumber of classes : {}\".format(learn.data.c))\n",
        "    print(\"The classes are : {}\\n\".format(learn.data.classes))\n",
        "\n",
        "    learn.fit(epoch,learning_rate)\n",
        "    interp = ClassificationInterpretation.from_learner(learn)\n",
        "\n",
        "    # Actual , Predicted , number of times times\n",
        "    print(\"\\nMost confused items are below : Actual , Predicted , Number of times times \\n\")\n",
        "    print(interp.most_confused())\n",
        "\n",
        "    print(\"\\nConfusion Matrix\\n\")\n",
        "    interp.plot_confusion_matrix()\n",
        "    \n",
        "    # to save the model    \n",
        "    if model_name:\n",
        "        print(\"Saving model as {}\".format(model_name))\n",
        "        learn.export(model_name)     \n",
        "       \n",
        "        \n",
        "def handle_non_numerical_data(df):\n",
        "     '''\n",
        "     To map non numerical values to numerical in the Pandas data frame\n",
        "\n",
        "     Arguements\n",
        "     df : Pandas data set contains train and test data\n",
        "\n",
        "     '''\n",
        "  \n",
        "     columns = df.columns.values\n",
        "   \n",
        "     for column in columns:\n",
        "          text_digit_vals = {}\n",
        "          def convert_to_int(val):\n",
        "               return text_digit_vals[val]\n",
        "\n",
        "          if df[column].dtype != np.int64 and df[column].dtype != np.float64:\n",
        "               column_contents = df[column].values.tolist()\n",
        "               unique_elements = set(column_contents)\n",
        "               x=0\n",
        "               for unique in unique_elements:\n",
        "                   if unique not in text_digit_vals:\n",
        "                        text_digit_vals[unique] = x\n",
        "                        x+=1\n",
        "               df[column] = list(map(convert_to_int,df[column]))\n",
        "     return df        \n",
        "\n",
        "\n",
        "def random_forest(df,label,n_jobs,model_name=None):\n",
        "    '''\n",
        "    To create Random Forest model with the given arguements\n",
        "    \n",
        "    Arguements\n",
        "    df : Pandas data set contains train and test data\n",
        "    label : The label \n",
        "    n_jobs : The number of jobs to run in parallel for both fit and predict\n",
        "    model_name : (Optional) : Model name, if the model needs to be saved\n",
        "    \n",
        "    '''\n",
        "\n",
        "    df = handle_non_numerical_data(df)\n",
        "    X = np.array(df.drop([label],1))\n",
        "    y = np.array(df[label])\n",
        "    X_train,X_test,y_train,y_test = model_selection.train_test_split(X,y,test_size=test_percent)\n",
        "\n",
        "    clf = RandomForestClassifier(n_jobs=n_jobs)\n",
        "    clf.fit(df.drop(label, axis=1), df[label])\n",
        "\n",
        "    accuracy=clf.score(X_test,y_test)\n",
        "    prediction=clf.predict(np.array(X_test))\n",
        "    \n",
        "    print(\"Number of classes : {}\".format(clf.n_classes_))\n",
        "    print(\"The classes are : {}\".format(clf.classes_))    \n",
        "    \n",
        "    #Confusion Matrix\n",
        "    print(\"Confusion Matrix\\n\")\n",
        "    confusion_matrix(y_test,prediction)\n",
        "\n",
        "    #Compute Area Under the Curve (AUC) Metrics for Binary classification\n",
        "    if clf.n_classes_ == 2:\n",
        "        auc_metric = metrics.roc_auc_score(y_test, prediction)                         \n",
        "        print(\"Accuracy : {}, AUC Metric : {}\".format(accuracy,auc_metric))\n",
        "    else:\n",
        "        print(\"Accuracy : {}\".format(accuracy))\n",
        "\n",
        "    # to save the model    \n",
        "    if model_name:\n",
        "        print(\"Saving model as {}\".format(model_name))\n",
        "        with open(os.path.join(path,model_name),\"wb\") as f:\n",
        "            pickle.dump(clf,f) \n",
        "    \n",
        "\n",
        "def KNearest_neighbors(df,label,n_jobs,model_name=None):\n",
        "    '''\n",
        "    To create K-Nearest Neighbors model with the given arguements\n",
        "    \n",
        "    Arguements\n",
        "    df : Pandas data set contains train and test data\n",
        "    label : The label \n",
        "    n_jobs : The number of jobs to run in parallel for both fit and predict\n",
        "    model_name : (Optional) : Model name, if the model needs to be saved\n",
        "    \n",
        "    '''\n",
        "  \n",
        "    df = handle_non_numerical_data(df)\n",
        "    X = np.array(df.drop([label],1))\n",
        "    y = np.array(df[label])\n",
        "    X_train,X_test,y_train,y_test = model_selection.train_test_split(X,y,test_size=test_percent)\n",
        "    clf = neighbors.KNeighborsClassifier(n_jobs=n_jobs)\n",
        "    clf.fit(X_train,y_train)\n",
        "    accuracy=clf.score(X_test,y_test)\n",
        "    prediction=clf.predict(np.array(X_test))\n",
        "\n",
        "    print(\"Number of classes : {}\".format(len(clf.classes_)))\n",
        "    print(\"The classes are : {}\".format(clf.classes_))      \n",
        "          \n",
        "    #Confusion Matrix\n",
        "    print(\"Confusion Matrix\\n\")\n",
        "    confusion_matrix(y_test,prediction)\n",
        "\n",
        "    #Compute Area Under the Curve (AUC) Metrics for Binary classification\n",
        "    if len(clf.classes_) == 2:\n",
        "        auc_metric = metrics.roc_auc_score(y_test, prediction)                         \n",
        "        print(\"Accuracy : {}, AUC Metric : {}\".format(accuracy,auc_metric))\n",
        "    else:\n",
        "        print(\"Accuracy : {}\".format(accuracy))\n",
        "\n",
        "    # to save the model    \n",
        "    if model_name:\n",
        "        print(\"Saving model as {}\".format(model_name))\n",
        "        with open(os.path.join(path,model_name),\"wb\") as f:\n",
        "            pickle.dump(clf,f) \n",
        "\n",
        "    \n"
      ],
      "execution_count": 0,
      "outputs": []
    },
    {
      "metadata": {
        "id": "d4loHvAtL7zB",
        "colab_type": "code",
        "colab": {}
      },
      "cell_type": "code",
      "source": [
        "# 20% of data is used as testing data\n",
        "test_percent = 0.2\n",
        "\n",
        "# Column names for the test / train data\n",
        "columns = [\"duration\",\"protocol_type\",\"service\",\"flag\",\"src_bytes\",\"dst_bytes\",\"land\",\n",
        "\"wrong_fragment\",\"urgent\",\"hot\",\"num_failed_logins\",\"logged_in\",\n",
        "\"num_compromised\",\"root_shell\",\"su_attempted\",\"num_root\",\"num_file_creations\",\n",
        "\"num_shells\",\"num_access_files\",\"num_outbound_cmds\",\"is_host_login\",\n",
        "\"is_guest_login\",\"count\",\"srv_count\",\"serror_rate\", \"srv_serror_rate\",\n",
        "\"rerror_rate\",\"srv_rerror_rate\",\"same_srv_rate\", \"diff_srv_rate\", \"srv_diff_host_rate\",\n",
        "\"dst_host_count\",\"dst_host_srv_count\",\"dst_host_same_srv_rate\",\n",
        "\"dst_host_diff_srv_rate\",\"dst_host_same_src_port_rate\",\n",
        "\"dst_host_srv_diff_host_rate\",\"dst_host_serror_rate\",\"dst_host_srv_serror_rate\",\n",
        "\"dst_host_rerror_rate\",\"dst_host_srv_rerror_rate\",\"attack\", \"last_flag\"]\n"
      ],
      "execution_count": 0,
      "outputs": []
    },
    {
      "metadata": {
        "id": "6vjFIy2x8X3d",
        "colab_type": "text"
      },
      "cell_type": "markdown",
      "source": [
        "Reading the test and train data into Pandas `DataFrame`."
      ]
    },
    {
      "metadata": {
        "id": "oCYhPgtm8X3e",
        "colab_type": "code",
        "colab": {}
      },
      "cell_type": "code",
      "source": [
        "# reading train data\n",
        "df_train = pd.read_csv(path/'train.csv')\n",
        "df_train.columns = columns"
      ],
      "execution_count": 0,
      "outputs": []
    },
    {
      "metadata": {
        "id": "H0rfpy0AOcKm",
        "colab_type": "code",
        "colab": {}
      },
      "cell_type": "code",
      "source": [
        "# reading test data\n",
        "df_test = pd.read_csv(path/'test.csv')\n",
        "df_test.columns = columns"
      ],
      "execution_count": 0,
      "outputs": []
    },
    {
      "metadata": {
        "id": "GTg1Bh2eK1mH",
        "colab_type": "code",
        "colab": {}
      },
      "cell_type": "code",
      "source": [
        "# merging train and test dataset\n",
        "df_test_train=pd.concat([df_train,df_test])"
      ],
      "execution_count": 0,
      "outputs": []
    },
    {
      "metadata": {
        "id": "XPT2uwH9gF_z",
        "colab_type": "text"
      },
      "cell_type": "markdown",
      "source": [
        "Dropping the last_flag column as this doesnt have any signifance "
      ]
    },
    {
      "metadata": {
        "id": "z9ILuCDagDOE",
        "colab_type": "code",
        "colab": {
          "base_uri": "https://localhost:8080/",
          "height": 251
        },
        "outputId": "0c2e814f-bc43-4576-b4d9-b96b5a103827"
      },
      "cell_type": "code",
      "source": [
        "# dropping the 'last_flag' column, which is not significant\n",
        "df_test_train.drop(['last_flag'],axis = 1,inplace=True)\n",
        "df_test_train.head()"
      ],
      "execution_count": 184,
      "outputs": [
        {
          "output_type": "execute_result",
          "data": {
            "text/html": [
              "<div>\n",
              "<style scoped>\n",
              "    .dataframe tbody tr th:only-of-type {\n",
              "        vertical-align: middle;\n",
              "    }\n",
              "\n",
              "    .dataframe tbody tr th {\n",
              "        vertical-align: top;\n",
              "    }\n",
              "\n",
              "    .dataframe thead th {\n",
              "        text-align: right;\n",
              "    }\n",
              "</style>\n",
              "<table border=\"1\" class=\"dataframe\">\n",
              "  <thead>\n",
              "    <tr style=\"text-align: right;\">\n",
              "      <th></th>\n",
              "      <th>duration</th>\n",
              "      <th>protocol_type</th>\n",
              "      <th>service</th>\n",
              "      <th>flag</th>\n",
              "      <th>src_bytes</th>\n",
              "      <th>dst_bytes</th>\n",
              "      <th>land</th>\n",
              "      <th>wrong_fragment</th>\n",
              "      <th>urgent</th>\n",
              "      <th>hot</th>\n",
              "      <th>...</th>\n",
              "      <th>dst_host_srv_count</th>\n",
              "      <th>dst_host_same_srv_rate</th>\n",
              "      <th>dst_host_diff_srv_rate</th>\n",
              "      <th>dst_host_same_src_port_rate</th>\n",
              "      <th>dst_host_srv_diff_host_rate</th>\n",
              "      <th>dst_host_serror_rate</th>\n",
              "      <th>dst_host_srv_serror_rate</th>\n",
              "      <th>dst_host_rerror_rate</th>\n",
              "      <th>dst_host_srv_rerror_rate</th>\n",
              "      <th>attack</th>\n",
              "    </tr>\n",
              "  </thead>\n",
              "  <tbody>\n",
              "    <tr>\n",
              "      <th>0</th>\n",
              "      <td>0</td>\n",
              "      <td>udp</td>\n",
              "      <td>other</td>\n",
              "      <td>SF</td>\n",
              "      <td>146</td>\n",
              "      <td>0</td>\n",
              "      <td>0</td>\n",
              "      <td>0</td>\n",
              "      <td>0</td>\n",
              "      <td>0</td>\n",
              "      <td>...</td>\n",
              "      <td>1</td>\n",
              "      <td>0.00</td>\n",
              "      <td>0.60</td>\n",
              "      <td>0.88</td>\n",
              "      <td>0.00</td>\n",
              "      <td>0.00</td>\n",
              "      <td>0.00</td>\n",
              "      <td>0.0</td>\n",
              "      <td>0.00</td>\n",
              "      <td>normal</td>\n",
              "    </tr>\n",
              "    <tr>\n",
              "      <th>1</th>\n",
              "      <td>0</td>\n",
              "      <td>tcp</td>\n",
              "      <td>private</td>\n",
              "      <td>S0</td>\n",
              "      <td>0</td>\n",
              "      <td>0</td>\n",
              "      <td>0</td>\n",
              "      <td>0</td>\n",
              "      <td>0</td>\n",
              "      <td>0</td>\n",
              "      <td>...</td>\n",
              "      <td>26</td>\n",
              "      <td>0.10</td>\n",
              "      <td>0.05</td>\n",
              "      <td>0.00</td>\n",
              "      <td>0.00</td>\n",
              "      <td>1.00</td>\n",
              "      <td>1.00</td>\n",
              "      <td>0.0</td>\n",
              "      <td>0.00</td>\n",
              "      <td>neptune</td>\n",
              "    </tr>\n",
              "    <tr>\n",
              "      <th>2</th>\n",
              "      <td>0</td>\n",
              "      <td>tcp</td>\n",
              "      <td>http</td>\n",
              "      <td>SF</td>\n",
              "      <td>232</td>\n",
              "      <td>8153</td>\n",
              "      <td>0</td>\n",
              "      <td>0</td>\n",
              "      <td>0</td>\n",
              "      <td>0</td>\n",
              "      <td>...</td>\n",
              "      <td>255</td>\n",
              "      <td>1.00</td>\n",
              "      <td>0.00</td>\n",
              "      <td>0.03</td>\n",
              "      <td>0.04</td>\n",
              "      <td>0.03</td>\n",
              "      <td>0.01</td>\n",
              "      <td>0.0</td>\n",
              "      <td>0.01</td>\n",
              "      <td>normal</td>\n",
              "    </tr>\n",
              "    <tr>\n",
              "      <th>3</th>\n",
              "      <td>0</td>\n",
              "      <td>tcp</td>\n",
              "      <td>http</td>\n",
              "      <td>SF</td>\n",
              "      <td>199</td>\n",
              "      <td>420</td>\n",
              "      <td>0</td>\n",
              "      <td>0</td>\n",
              "      <td>0</td>\n",
              "      <td>0</td>\n",
              "      <td>...</td>\n",
              "      <td>255</td>\n",
              "      <td>1.00</td>\n",
              "      <td>0.00</td>\n",
              "      <td>0.00</td>\n",
              "      <td>0.00</td>\n",
              "      <td>0.00</td>\n",
              "      <td>0.00</td>\n",
              "      <td>0.0</td>\n",
              "      <td>0.00</td>\n",
              "      <td>normal</td>\n",
              "    </tr>\n",
              "    <tr>\n",
              "      <th>4</th>\n",
              "      <td>0</td>\n",
              "      <td>tcp</td>\n",
              "      <td>private</td>\n",
              "      <td>REJ</td>\n",
              "      <td>0</td>\n",
              "      <td>0</td>\n",
              "      <td>0</td>\n",
              "      <td>0</td>\n",
              "      <td>0</td>\n",
              "      <td>0</td>\n",
              "      <td>...</td>\n",
              "      <td>19</td>\n",
              "      <td>0.07</td>\n",
              "      <td>0.07</td>\n",
              "      <td>0.00</td>\n",
              "      <td>0.00</td>\n",
              "      <td>0.00</td>\n",
              "      <td>0.00</td>\n",
              "      <td>1.0</td>\n",
              "      <td>1.00</td>\n",
              "      <td>neptune</td>\n",
              "    </tr>\n",
              "  </tbody>\n",
              "</table>\n",
              "<p>5 rows × 42 columns</p>\n",
              "</div>"
            ],
            "text/plain": [
              "   duration protocol_type  service flag  src_bytes  dst_bytes  land  \\\n",
              "0         0           udp    other   SF        146          0     0   \n",
              "1         0           tcp  private   S0          0          0     0   \n",
              "2         0           tcp     http   SF        232       8153     0   \n",
              "3         0           tcp     http   SF        199        420     0   \n",
              "4         0           tcp  private  REJ          0          0     0   \n",
              "\n",
              "   wrong_fragment  urgent  hot   ...     dst_host_srv_count  \\\n",
              "0               0       0    0   ...                      1   \n",
              "1               0       0    0   ...                     26   \n",
              "2               0       0    0   ...                    255   \n",
              "3               0       0    0   ...                    255   \n",
              "4               0       0    0   ...                     19   \n",
              "\n",
              "   dst_host_same_srv_rate  dst_host_diff_srv_rate  \\\n",
              "0                    0.00                    0.60   \n",
              "1                    0.10                    0.05   \n",
              "2                    1.00                    0.00   \n",
              "3                    1.00                    0.00   \n",
              "4                    0.07                    0.07   \n",
              "\n",
              "   dst_host_same_src_port_rate  dst_host_srv_diff_host_rate  \\\n",
              "0                         0.88                         0.00   \n",
              "1                         0.00                         0.00   \n",
              "2                         0.03                         0.04   \n",
              "3                         0.00                         0.00   \n",
              "4                         0.00                         0.00   \n",
              "\n",
              "   dst_host_serror_rate  dst_host_srv_serror_rate  dst_host_rerror_rate  \\\n",
              "0                  0.00                      0.00                   0.0   \n",
              "1                  1.00                      1.00                   0.0   \n",
              "2                  0.03                      0.01                   0.0   \n",
              "3                  0.00                      0.00                   0.0   \n",
              "4                  0.00                      0.00                   1.0   \n",
              "\n",
              "   dst_host_srv_rerror_rate   attack  \n",
              "0                      0.00   normal  \n",
              "1                      0.00  neptune  \n",
              "2                      0.01   normal  \n",
              "3                      0.00   normal  \n",
              "4                      1.00  neptune  \n",
              "\n",
              "[5 rows x 42 columns]"
            ]
          },
          "metadata": {
            "tags": []
          },
          "execution_count": 184
        }
      ]
    },
    {
      "metadata": {
        "id": "AObMcXYHaZ2t",
        "colab_type": "text"
      },
      "cell_type": "markdown",
      "source": [
        "## We are going to create two models. For first model (Model 1), is for predicting only if it is attack or not. Second model (Model 2) will predict attack type, if there is a attack.\n",
        "\n",
        "\n"
      ]
    },
    {
      "metadata": {
        "id": "OK_ih1sqda0d",
        "colab_type": "text"
      },
      "cell_type": "markdown",
      "source": [
        "Making a copy of the original datafarme for this model"
      ]
    },
    {
      "metadata": {
        "id": "UmSiJfp7dhpE",
        "colab_type": "code",
        "colab": {}
      },
      "cell_type": "code",
      "source": [
        "df1 = df_test_train.copy(deep = True)\n"
      ],
      "execution_count": 0,
      "outputs": []
    },
    {
      "metadata": {
        "id": "qZXG0nsy_f8m",
        "colab_type": "text"
      },
      "cell_type": "markdown",
      "source": [
        "### Adding another column attack_flag (label for model 1) :  some type of attack = 1, nomal = 0"
      ]
    },
    {
      "metadata": {
        "id": "iNas5qIl_eNc",
        "colab_type": "code",
        "colab": {}
      },
      "cell_type": "code",
      "source": [
        "# creating new column (label for model 1)\n",
        "df1['attack_flag'] = df1['attack'].apply(lambda attack : attack if attack == 'normal' else 'attack') "
      ],
      "execution_count": 0,
      "outputs": []
    },
    {
      "metadata": {
        "id": "yhXZVqOjtIZ-",
        "colab_type": "code",
        "colab": {}
      },
      "cell_type": "code",
      "source": [
        "# removing the \"attack\" column as we have 'attack_flag' column already derived from \"attack\" column\n",
        "df1.drop(['attack'],axis = 1,inplace=True)"
      ],
      "execution_count": 0,
      "outputs": []
    },
    {
      "metadata": {
        "id": "IDJdnb8TUD3z",
        "colab_type": "code",
        "colab": {}
      },
      "cell_type": "code",
      "source": [
        "dep_var = 'attack_flag'\n",
        "\n",
        "\n",
        "# categorical features\n",
        "cat_names = [\"protocol_type\", \"service\", \"flag\", \"land\", \"logged_in\", \"root_shell\", \"su_attempted\", \"is_host_login\",\"is_guest_login\"]\n",
        "\n",
        "# continuous features\n",
        "cont_names = [\"duration\",\"src_bytes\",\"dst_bytes\",\n",
        "\"wrong_fragment\",\"urgent\",\"hot\",\"num_failed_logins\",\n",
        "\"num_compromised\",\"num_root\",\"num_file_creations\",\n",
        "\"num_shells\",\"num_access_files\",\"num_outbound_cmds\",\"count\",\"srv_count\",\"serror_rate\", \"srv_serror_rate\",\n",
        "\"rerror_rate\",\"srv_rerror_rate\",\"same_srv_rate\", \"diff_srv_rate\",\n",
        "\"srv_diff_host_rate\",\"dst_host_count\",\"dst_host_srv_count\",\"dst_host_same_srv_rate\",\n",
        "\"dst_host_diff_srv_rate\",\"dst_host_same_src_port_rate\",\n",
        "\"dst_host_srv_diff_host_rate\",\"dst_host_serror_rate\",\"dst_host_srv_serror_rate\",\n",
        "\"dst_host_rerror_rate\",\"dst_host_srv_rerror_rate\"]\n",
        "\n",
        "# preprocessing parameters\n",
        "procs = [FillMissing, Categorify, Normalize]"
      ],
      "execution_count": 0,
      "outputs": []
    },
    {
      "metadata": {
        "id": "Co_Smr3f5pM3",
        "colab_type": "text"
      },
      "cell_type": "markdown",
      "source": [
        "### Model 1 : predicting if there is attack or not with neural network (Binomial Classification)"
      ]
    },
    {
      "metadata": {
        "id": "cvb2CRXRzvZf",
        "colab_type": "text"
      },
      "cell_type": "markdown",
      "source": [
        "        To create Neural Network with the given arguements\n",
        "    \n",
        "    Arguements\n",
        "    df : Pandas data set contains train and test data\n",
        "    dep_var : Dependent variable / label / target\n",
        "    cat_names : Categorical feature names in the data set\n",
        "    cont_names : Continuous feature names in the data set\n",
        "    epoch : Number of epochs \n",
        "    learning_rate : Learning rate of the neural network\n",
        "    procs : List of arguements for preprocessing\n",
        "    model_name : (Optional) : Model name, if the model needs to be saved"
      ]
    },
    {
      "metadata": {
        "id": "15w81KYVjgIq",
        "colab_type": "code",
        "outputId": "6bd513a3-c9ac-41d8-d37d-40d6bec077ca",
        "colab": {
          "base_uri": "https://localhost:8080/",
          "height": 537
        }
      },
      "cell_type": "code",
      "source": [
        "neural_network(df1,dep_var,cat_names,cont_names,2,1e-3,procs)"
      ],
      "execution_count": 189,
      "outputs": [
        {
          "output_type": "stream",
          "text": [
            "\n",
            "Most confused items are below : Actual , Predicted , Number of times times \n",
            "\n",
            "[('attack', 'normal', 273), ('normal', 'attack', 260)]\n",
            "\n",
            "Confusion Matrix\n",
            "\n"
          ],
          "name": "stdout"
        },
        {
          "output_type": "display_data",
          "data": {
            "image/png": "[encoded data removed]",
            "text/plain": [
              "<Figure size 576x396 with 1 Axes>"
            ]
          },
          "metadata": {
            "tags": []
          }
        }
      ]
    },
    {
      "metadata": {
        "id": "bhy9zCQwj506",
        "colab_type": "text"
      },
      "cell_type": "markdown",
      "source": [
        "### Model 1 : predicting only if there is attack or not with Random Forest (Binomial Classification)"
      ]
    },
    {
      "metadata": {
        "id": "qyw7XQM90Goh",
        "colab_type": "text"
      },
      "cell_type": "markdown",
      "source": [
        "    To create Random Forest model with the given arguements\n",
        "    \n",
        "    Arguements\n",
        "    df : Pandas data set contains train and test data\n",
        "    label : The label \n",
        "    n_jobs : The number of jobs to run in parallel for both fit and predict\n",
        "    model_name : (Optional) : Model name, if the model needs to be saved\n"
      ]
    },
    {
      "metadata": {
        "id": "lM-5hPWFlBJZ",
        "colab_type": "code",
        "outputId": "d794442a-6eb8-42a8-d795-2cc99b0fdcdc",
        "colab": {
          "base_uri": "https://localhost:8080/",
          "height": 159
        }
      },
      "cell_type": "code",
      "source": [
        "random_forest(df1,dep_var,-1)"
      ],
      "execution_count": 190,
      "outputs": [
        {
          "output_type": "stream",
          "text": [
            "/usr/local/lib/python3.6/dist-packages/sklearn/ensemble/forest.py:246: FutureWarning: The default value of n_estimators will change from 10 in version 0.20 to 100 in 0.22.\n",
            "  \"10 in version 0.20 to 100 in 0.22.\", FutureWarning)\n"
          ],
          "name": "stderr"
        },
        {
          "output_type": "stream",
          "text": [
            "Number of classes : 2\n",
            "The classes are : [0 1]\n",
            "Confusion Matrix\n",
            "\n",
            "Accuracy : 0.9988216678449988, AUC Metric : 0.9988065169164295\n"
          ],
          "name": "stdout"
        }
      ]
    },
    {
      "metadata": {
        "id": "vMlgjICPzJOB",
        "colab_type": "text"
      },
      "cell_type": "markdown",
      "source": [
        "### Model 1 : predicting only if there is attack or not with KNearest Neighbors (Binomial Classification)"
      ]
    },
    {
      "metadata": {
        "id": "vs77F-8c0V_1",
        "colab_type": "text"
      },
      "cell_type": "markdown",
      "source": [
        "    To create K-Nearest Neighbors model with the given arguements\n",
        "    \n",
        "    Arguements\n",
        "    df : Pandas data set contains train and test data\n",
        "    label : The label \n",
        "    n_jobs : The number of jobs to run in parallel for both fit and predict\n",
        "    model_name : (Optional) : Model name, if the model needs to be saved\n",
        "    \n"
      ]
    },
    {
      "metadata": {
        "id": "S5LV9fJqqSqb",
        "colab_type": "code",
        "outputId": "855021c8-f12f-470d-a396-a5a7c15ae3c1",
        "colab": {
          "base_uri": "https://localhost:8080/",
          "height": 104
        }
      },
      "cell_type": "code",
      "source": [
        "KNearest_neighbors(df1,dep_var,-1)"
      ],
      "execution_count": 191,
      "outputs": [
        {
          "output_type": "stream",
          "text": [
            "Number of classes : 2\n",
            "The classes are : [0 1]\n",
            "Confusion Matrix\n",
            "\n",
            "Accuracy : 0.991011008988991, AUC Metric : 0.9910172966232388\n"
          ],
          "name": "stdout"
        }
      ]
    },
    {
      "metadata": {
        "id": "y8cOAbnuUlQo",
        "colab_type": "text"
      },
      "cell_type": "markdown",
      "source": [
        "## Model 2 : predicting attack type - Activity is normal or DOS or PROBE or R2L or U2R etc  (Multinomial classification)"
      ]
    },
    {
      "metadata": {
        "id": "-qVwDqogE6nE",
        "colab_type": "text"
      },
      "cell_type": "markdown",
      "source": [
        "Making a copy of the original datafarme for this mode"
      ]
    },
    {
      "metadata": {
        "id": "yCT0BFFZE8Fy",
        "colab_type": "code",
        "colab": {}
      },
      "cell_type": "code",
      "source": [
        "df2 = df_test_train.copy(deep = True)"
      ],
      "execution_count": 0,
      "outputs": []
    },
    {
      "metadata": {
        "id": "j_S7fh2AgXKX",
        "colab_type": "code",
        "colab": {}
      },
      "cell_type": "code",
      "source": [
        "# creating label for Model 2\n",
        "df2['attack_category'] = df2['attack'].apply(lambda attack : dict_attack_to_category[attack])"
      ],
      "execution_count": 0,
      "outputs": []
    },
    {
      "metadata": {
        "id": "feI3pUQJtXhx",
        "colab_type": "code",
        "colab": {}
      },
      "cell_type": "code",
      "source": [
        "# created new label 'attack_category' for model 2. We dont require 'attack' column\n",
        "df2.drop(['attack'],axis = 1,inplace=True)"
      ],
      "execution_count": 0,
      "outputs": []
    },
    {
      "metadata": {
        "id": "8I7qiex_8X3g",
        "colab_type": "code",
        "colab": {}
      },
      "cell_type": "code",
      "source": [
        "dep_var = 'attack_category'\n",
        "\n",
        "cat_names = [\"protocol_type\", \"service\", \"flag\", \"land\", \"logged_in\", \"root_shell\", \"su_attempted\", \"is_host_login\",\n",
        "\"is_guest_login\"]\n",
        "\n",
        "\n",
        "cont_names = [\"duration\",\"src_bytes\",\"dst_bytes\",\n",
        "\"wrong_fragment\",\"urgent\",\"hot\",\"num_failed_logins\",\n",
        "\"num_compromised\",\"num_root\",\"num_file_creations\",\n",
        "\"num_shells\",\"num_access_files\",\"num_outbound_cmds\",\"count\",\"srv_count\",\"serror_rate\", \"srv_serror_rate\",\n",
        "\"rerror_rate\",\"srv_rerror_rate\",\"same_srv_rate\", \"diff_srv_rate\",\n",
        "\"srv_diff_host_rate\",\"dst_host_count\",\"dst_host_srv_count\",\"dst_host_same_srv_rate\",\n",
        "\"dst_host_diff_srv_rate\",\"dst_host_same_src_port_rate\",\n",
        "\"dst_host_srv_diff_host_rate\",\"dst_host_serror_rate\",\"dst_host_srv_serror_rate\",\n",
        "\"dst_host_rerror_rate\",\"dst_host_srv_rerror_rate\"]\n",
        "\n",
        "# preprocessing parameters\n",
        "procs = [FillMissing, Categorify, Normalize]\n"
      ],
      "execution_count": 0,
      "outputs": []
    },
    {
      "metadata": {
        "id": "v1cp3G8N6X7y",
        "colab_type": "text"
      },
      "cell_type": "markdown",
      "source": [
        "### Model 2 : predicting attack type (binomial classification) with neural network"
      ]
    },
    {
      "metadata": {
        "id": "b-Nyi7tM0xRb",
        "colab_type": "text"
      },
      "cell_type": "markdown",
      "source": [
        "    To create Neural Network with the given arguements\n",
        "    \n",
        "    Arguements\n",
        "    df : Pandas data set contains train and test data\n",
        "    dep_var : Dependent variable / label / target\n",
        "    cat_names : Categorical feature names in the data set\n",
        "    cont_names : Continuous feature names in the data set\n",
        "    epoch : Number of epochs \n",
        "    learning_rate : Learning rate of the neural network\n",
        "    procs : List of arguements for preprocessing\n",
        "    model_name : (Optional) : Model name, if the model needs to be saved\n",
        "    "
      ]
    },
    {
      "metadata": {
        "id": "sOx-JR_knZRO",
        "colab_type": "code",
        "outputId": "19ae8c36-80e0-40e0-d1d1-b26af8bf8f52",
        "colab": {
          "base_uri": "https://localhost:8080/",
          "height": 557
        }
      },
      "cell_type": "code",
      "source": [
        "neural_network(df2,dep_var,cat_names,cont_names,2,1e-3,procs)"
      ],
      "execution_count": 196,
      "outputs": [
        {
          "output_type": "stream",
          "text": [
            "\n",
            "Most confused items are below : Actual , Predicted , Number of times times \n",
            "\n",
            "[('DOS', 'normal', 123), ('normal', 'R2L', 103), ('R2L', 'normal', 53), ('PROBE', 'normal', 50), ('normal', 'U2R', 39), ('normal', 'PROBE', 26), ('U2R', 'normal', 8), ('normal', 'DOS', 8), ('U2R', 'R2L', 4), ('R2L', 'PROBE', 3), ('DOS', 'PROBE', 2), ('R2L', 'U2R', 2), ('DOS', 'R2L', 1), ('PROBE', 'DOS', 1), ('PROBE', 'R2L', 1), ('PROBE', 'U2R', 1)]\n",
            "\n",
            "Confusion Matrix\n",
            "\n"
          ],
          "name": "stdout"
        },
        {
          "output_type": "display_data",
          "data": {
            "image/png": "[encoded data removed]",
            "text/plain": [
              "<Figure size 576x396 with 1 Axes>"
            ]
          },
          "metadata": {
            "tags": []
          }
        }
      ]
    },
    {
      "metadata": {
        "id": "SNt-SFcn6bZ5",
        "colab_type": "text"
      },
      "cell_type": "markdown",
      "source": [
        "### Model 2 : predicting attack type (binomial classification) with Random Forest"
      ]
    },
    {
      "metadata": {
        "id": "odvYOAkv0uss",
        "colab_type": "text"
      },
      "cell_type": "markdown",
      "source": [
        "    To create Random Forest model with the given arguements\n",
        "    \n",
        "    Arguements\n",
        "    df : Pandas data set contains train and test data\n",
        "    label : The label \n",
        "    n_jobs : The number of jobs to run in parallel for both fit and predict\n",
        "    model_name : (Optional) : Model name, if the model needs to be saved\n",
        "    \n"
      ]
    },
    {
      "metadata": {
        "id": "tl1d4Q9KyOPg",
        "colab_type": "code",
        "outputId": "d19d2a82-f352-4e80-b721-0f6266b8bac8",
        "colab": {
          "base_uri": "https://localhost:8080/",
          "height": 159
        }
      },
      "cell_type": "code",
      "source": [
        "random_forest(df2,dep_var,-1)"
      ],
      "execution_count": 197,
      "outputs": [
        {
          "output_type": "stream",
          "text": [
            "/usr/local/lib/python3.6/dist-packages/sklearn/ensemble/forest.py:246: FutureWarning: The default value of n_estimators will change from 10 in version 0.20 to 100 in 0.22.\n",
            "  \"10 in version 0.20 to 100 in 0.22.\", FutureWarning)\n"
          ],
          "name": "stderr"
        },
        {
          "output_type": "stream",
          "text": [
            "Number of classes : 5\n",
            "The classes are : [0 1 2 3 4]\n",
            "Confusion Matrix\n",
            "\n",
            "Accuracy : 0.9991920008079992\n"
          ],
          "name": "stdout"
        }
      ]
    },
    {
      "metadata": {
        "id": "ZjIWl5-O6aaI",
        "colab_type": "text"
      },
      "cell_type": "markdown",
      "source": [
        "### Model 2 : predicting attack type (binomial classification) with KNearest Neighbors"
      ]
    },
    {
      "metadata": {
        "id": "S9enRqoo0eSW",
        "colab_type": "text"
      },
      "cell_type": "markdown",
      "source": [
        "    To create K-Nearest Neighbors model with the given arguements\n",
        "    \n",
        "    Arguements\n",
        "    df : Pandas data set contains train and test data\n",
        "    label : The label \n",
        "    n_jobs : The number of jobs to run in parallel for both fit and predict\n",
        "    model_name : (Optional) : Model name, if the model needs to be saved\n",
        "    \n",
        "\n"
      ]
    },
    {
      "metadata": {
        "id": "qpofhpd0zAss",
        "colab_type": "code",
        "outputId": "2d938e4e-5859-4c60-9b48-91dee20a28f3",
        "colab": {
          "base_uri": "https://localhost:8080/",
          "height": 104
        }
      },
      "cell_type": "code",
      "source": [
        "KNearest_neighbors(df2,dep_var,-1)"
      ],
      "execution_count": 198,
      "outputs": [
        {
          "output_type": "stream",
          "text": [
            "Number of classes : 5\n",
            "The classes are : [0 1 2 3 4]\n",
            "Confusion Matrix\n",
            "\n",
            "Accuracy : 0.9886206780459886\n"
          ],
          "name": "stdout"
        }
      ]
    }
  ]
}