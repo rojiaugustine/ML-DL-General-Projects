{
  "nbformat": 4,
  "nbformat_minor": 0,
  "metadata": {
    "colab": {
      "name": "network_apr16.ipynb",
      "provenance": [],
      "collapsed_sections": []
    },
    "kernelspec": {
      "name": "python3",
      "display_name": "Python 3"
    },
    "accelerator": "GPU"
  },
  "cells": [
    {
      "cell_type": "markdown",
      "source": [
        "Savior : An Artificial Intelligence based system for Network Anomaly Detection and Prevention\n",
        "\n",
        "Roji Augustine\n",
        "\n",
        "rojiaugustine@gmail.com\n",
        "\n",
        "1-JAN-2019"
      ],
      "metadata": {
        "id": "JnkKkpTs12sL"
      }
    },
    {
      "cell_type": "markdown",
      "metadata": {
        "id": "FzyRVVPN8X3W"
      },
      "source": [
        "# NETWORK ANAMOLY DETECTION MODELS\n",
        "\n",
        "\n"
      ]
    },
    {
      "cell_type": "code",
      "metadata": {
        "id": "n-neSEba8X3Z"
      },
      "source": [
        "# importing required modules\n",
        "from fastai.tabular import *\n",
        "from sklearn.ensemble import RandomForestRegressor, RandomForestClassifier\n",
        "from sklearn import preprocessing, model_selection, neighbors, metrics\n",
        "from sklearn.metrics import confusion_matrix\n",
        "import pickle\n",
        "import os\n",
        "from time import sleep \n",
        "\n"
      ],
      "execution_count": null,
      "outputs": []
    },
    {
      "cell_type": "code",
      "metadata": {
        "id": "x_KZPHJ_wOn0",
        "outputId": "23545270-b30a-4f69-db8e-51ff28b8af53",
        "colab": {
          "base_uri": "https://localhost:8080/",
          "height": 122
        }
      },
      "source": [
        "# mounting google drive to access the data files \n",
        "from google.colab import drive\n",
        "drive.mount('/content/gdrive', force_remount=True)\n",
        "root_dir = \"/content/gdrive/My Drive/\"\n",
        "path = Path(root_dir + 'hackathon/')"
      ],
      "execution_count": null,
      "outputs": [
        {
          "output_type": "stream",
          "text": [
            "Go to this URL in a browser: https://accounts.google.com/o/oauth2/auth?client_id=947318989803-6bn6qk8qdgf4n4g3pfee6491hc0brc4i.apps.googleusercontent.com&redirect_uri=urn%3Aietf%3Awg%3Aoauth%3A2.0%3Aoob&scope=email%20https%3A%2F%2Fwww.googleapis.com%2Fauth%2Fdocs.test%20https%3A%2F%2Fwww.googleapis.com%2Fauth%2Fdrive%20https%3A%2F%2Fwww.googleapis.com%2Fauth%2Fdrive.photos.readonly%20https%3A%2F%2Fwww.googleapis.com%2Fauth%2Fpeopleapi.readonly&response_type=code\n",
            "\n",
            "Enter your authorization code:\n",
            "··········\n",
            "Mounted at /content/gdrive\n"
          ],
          "name": "stdout"
        }
      ]
    },
    {
      "cell_type": "code",
      "metadata": {
        "id": "D2xAEfojod2-",
        "outputId": "981dc9d8-ecad-494f-daad-0529449d9bfe",
        "colab": {
          "base_uri": "https://localhost:8080/",
          "height": 17
        }
      },
      "source": [
        "# enable scroll for output cell\n",
        "%%javascript\n",
        "IPython.OutputArea.auto_scroll_threshold = 50000;"
      ],
      "execution_count": null,
      "outputs": [
        {
          "output_type": "display_data",
          "data": {
            "application/javascript": [
              "IPython.OutputArea.auto_scroll_threshold = 50000;"
            ],
            "text/plain": [
              "<IPython.core.display.Javascript object>"
            ]
          },
          "metadata": {
            "tags": []
          }
        }
      ]
    },
    {
      "cell_type": "code",
      "metadata": {
        "id": "Ms_eynQEar_s"
      },
      "source": [
        "# defining the dictionary to map attack name to the attack category. eg : smurf belong to category DOS. This dictionary is used for model 2\n",
        "dict_attack_to_category = {'normal' : 'normal','back': 'DOS', 'land': 'DOS', 'neptune': 'DOS', 'pod': 'DOS', 'smurf': 'DOS', 'teardrop': 'DOS', 'apache2': 'DOS', 'processtable': 'DOS', 'worm': 'DOS', 'udpstorm': 'DOS', 'mailbomb': 'DOS', 'buffer_overflow': 'U2R', 'loadmodule': 'U2R', 'perl': 'U2R', 'rootkit': 'U2R', 'sqlattack': 'U2R', 'xterm': 'U2R', 'ps': 'U2R', 'ftp_write': 'R2L', 'guess_passwd': 'R2L', 'imap': 'R2L', 'phf': 'R2L', 'multihop': 'R2L', 'warezclient': 'R2L', 'warezmaster': 'R2L', 'spy': 'R2L', 'xlock': 'R2L', 'xsnoop': 'R2L', 'snmpgetattack': 'R2L', 'snmpguess': 'R2L', 'httptunnel': 'R2L', 'sendmail': 'R2L', 'named': 'R2L', 'satan': 'PROBE', 'ipsweep': 'PROBE', 'portsweep': 'PROBE', 'nmap': 'PROBE', 'mscan': 'PROBE', 'saint': 'PROBE'}"
      ],
      "execution_count": null,
      "outputs": []
    },
    {
      "cell_type": "markdown",
      "metadata": {
        "id": "drWxXnBsd5CF"
      },
      "source": [
        "##Method definitions"
      ]
    },
    {
      "cell_type": "code",
      "metadata": {
        "id": "Jovxam7ddyhH"
      },
      "source": [
        "def neural_network(df,dep_var,cat_names,cont_names,epoch,learning_rate,procs,save_model=True):  \n",
        "    '''\n",
        "    To create Neural Network with the given arguements\n",
        "    \n",
        "    Arguements\n",
        "    df : Pandas data set contains train and test data\n",
        "    dep_var : Dependent variable / label / target\n",
        "    cat_names : Categorical feature names in the data set\n",
        "    cont_names : Continuous feature names in the data set\n",
        "    epoch : Number of epochs \n",
        "    learning_rate : Learning rate of the neural network\n",
        "    procs : List of arguements for preprocessing\n",
        "    save_model : (Optional) : To save the model\n",
        "    \n",
        "    '''\n",
        "    # calculating the train and test size of the data from test_percent\n",
        "    train_size = int(len(df)-len(df) * test_percent)\n",
        "    test_size =  int(len(df) * test_percent)\n",
        "    print(\"Total Data Size {}, Train data size {}, Test Data size {}\".format(len(df),train_size,test_size))\n",
        "    \n",
        "    data = (TabularList.from_df(df, path=path, cat_names=cat_names, cont_names=cont_names, procs=procs)\n",
        "                               .split_by_idx(list(range(0,test_size)))\n",
        "                               .label_from_df(cols=dep_var)\n",
        "                               .databunch())\n",
        "\n",
        "    #  Neural network with two hidden fully connected layers of size 200 and 100 \n",
        "    learn = tabular_learner(data, layers=[200,100], metrics=accuracy)\n",
        "    \n",
        "    print(\"\\nNumber of classes : {}\".format(learn.data.c))\n",
        "    print(\"The classes are : {}\\n\".format(learn.data.classes))\n",
        "\n",
        "    learn.fit(epoch,learning_rate)\n",
        "    sleep(10)\n",
        "    interp = ClassificationInterpretation.from_learner(learn)\n",
        "\n",
        "    # Actual , Predicted , number of times times\n",
        "    print(\"\\nMost confused items are below : Actual , Predicted , Number of times times \\n\")\n",
        "    print(interp.most_confused())\n",
        "\n",
        "    print(\"\\nConfusion Matrix\\n\")\n",
        "    interp.plot_confusion_matrix()\n",
        "\n",
        "    # to save the model    \n",
        "    if save_model:\n",
        "        print(\"Saving model as {}\".format(path/\"export.pkl\"))\n",
        "        #learn.export(model_name)     \n",
        "        learn.export(path/\"export.pkl\")     \n",
        "        \n",
        "        print(\"------------ Inference ------------\")\n",
        "        learn = load_learner(path)\n",
        "        for i in range(0,10):  \n",
        "            print(\"Row : {}  Attack : {}   Prediction : {}\".format(i,df_test_train.iloc[i]['attack'], learn.data.classes[learn.predict(df.iloc[i])[1]]))\n",
        "       \n",
        "        \n",
        "def handle_non_numerical_data(df):\n",
        "     '''\n",
        "     To map non numerical values to numerical in the Pandas data frame\n",
        "\n",
        "     Arguements\n",
        "     df : Pandas data set contains train and test data\n",
        "\n",
        "     '''\n",
        "  \n",
        "     columns = df.columns.values\n",
        "   \n",
        "     for column in columns:\n",
        "          text_digit_vals = {}\n",
        "          def convert_to_int(val):\n",
        "               return text_digit_vals[val]\n",
        "\n",
        "          if df[column].dtype != np.int64 and df[column].dtype != np.float64:\n",
        "               column_contents = df[column].values.tolist()\n",
        "               unique_elements = set(column_contents)\n",
        "               x=0\n",
        "               for unique in unique_elements:\n",
        "                   if unique not in text_digit_vals:\n",
        "                        text_digit_vals[unique] = x\n",
        "                        x+=1\n",
        "               df[column] = list(map(convert_to_int,df[column]))\n",
        "     return df        \n",
        "\n",
        "\n",
        "def random_forest(df,label,n_jobs,model_name=None):\n",
        "    '''\n",
        "    To create Random Forest model with the given arguements\n",
        "    \n",
        "    Arguements\n",
        "    df : Pandas data set contains train and test data\n",
        "    label : The label \n",
        "    n_jobs : The number of jobs to run in parallel for both fit and predict\n",
        "    model_name : (Optional) : Model name, if the model needs to be saved\n",
        "    \n",
        "    '''\n",
        "\n",
        "    df = handle_non_numerical_data(df)\n",
        "    X = np.array(df.drop([label],1))\n",
        "    y = np.array(df[label])\n",
        "    X_train,X_test,y_train,y_test = model_selection.train_test_split(X,y,test_size=test_percent)\n",
        "\n",
        "    clf = RandomForestClassifier(n_jobs=n_jobs)\n",
        "    clf.fit(df.drop(label, axis=1), df[label])\n",
        "\n",
        "    accuracy=clf.score(X_test,y_test)\n",
        "    prediction=clf.predict(np.array(X_test))\n",
        "    \n",
        "    print(\"Number of classes : {}\".format(clf.n_classes_))\n",
        "    print(\"The classes are : {}\".format(clf.classes_))    \n",
        "    \n",
        "    #Confusion Matrix\n",
        "    print(\"Confusion Matrix\\n\")\n",
        "    confusion_matrix(y_test,prediction)\n",
        "\n",
        "    #Compute Area Under the Curve (AUC) Metrics for Binary classification\n",
        "    if clf.n_classes_ == 2:\n",
        "        auc_metric = metrics.roc_auc_score(y_test, prediction)                         \n",
        "        print(\"Accuracy : {}, AUC Metric : {}\".format(accuracy,auc_metric))\n",
        "    else:\n",
        "        print(\"Accuracy : {}\".format(accuracy))\n",
        "\n",
        "    # to save the model    \n",
        "    if model_name:\n",
        "        print(\"Saving model as {}\".format(model_name))\n",
        "        with open(os.path.join(path,model_name),\"wb\") as f:\n",
        "            pickle.dump(clf,f) \n",
        "            \n",
        "\n",
        "def KNearest_neighbors(df,label,n_jobs,model_name=None):\n",
        "    '''\n",
        "    To create K-Nearest Neighbors model with the given arguements\n",
        "    \n",
        "    Arguements\n",
        "    df : Pandas data set contains train and test data\n",
        "    label : The label \n",
        "    n_jobs : The number of jobs to run in parallel for both fit and predict\n",
        "    model_name : (Optional) : Model name, if the model needs to be saved\n",
        "    \n",
        "    '''\n",
        "  \n",
        "    df = handle_non_numerical_data(df)\n",
        "    X = np.array(df.drop([label],1))\n",
        "    y = np.array(df[label])\n",
        "    X_train,X_test,y_train,y_test = model_selection.train_test_split(X,y,test_size=test_percent)\n",
        "    clf = neighbors.KNeighborsClassifier(n_jobs=n_jobs)\n",
        "    clf.fit(X_train,y_train)\n",
        "    accuracy=clf.score(X_test,y_test)\n",
        "    prediction=clf.predict(np.array(X_test))\n",
        "\n",
        "    print(\"Number of classes : {}\".format(len(clf.classes_)))\n",
        "    print(\"The classes are : {}\".format(clf.classes_))      \n",
        "          \n",
        "    #Confusion Matrix\n",
        "    print(\"Confusion Matrix\\n\")\n",
        "    confusion_matrix(y_test,prediction)\n",
        "\n",
        "    #Compute Area Under the Curve (AUC) Metrics for Binary classification\n",
        "    if len(clf.classes_) == 2:\n",
        "        auc_metric = metrics.roc_auc_score(y_test, prediction)                         \n",
        "        print(\"Accuracy : {}, AUC Metric : {}\".format(accuracy,auc_metric))\n",
        "    else:\n",
        "        print(\"Accuracy : {}\".format(accuracy))\n",
        "\n",
        "    # to save the model    \n",
        "    if model_name:\n",
        "        print(\"Saving model as {}\".format(model_name))\n",
        "        with open(os.path.join(path,model_name),\"wb\") as f:\n",
        "            pickle.dump(clf,f) \n",
        "\n",
        "    \n"
      ],
      "execution_count": null,
      "outputs": []
    },
    {
      "cell_type": "code",
      "metadata": {
        "id": "d4loHvAtL7zB"
      },
      "source": [
        "# 20% of data is used as testing data\n",
        "test_percent = 0.2\n",
        "\n",
        "# Column names for the test / train data\n",
        "columns = [\"duration\",\"protocol_type\",\"service\",\"flag\",\"src_bytes\",\"dst_bytes\",\"land\",\n",
        "\"wrong_fragment\",\"urgent\",\"hot\",\"num_failed_logins\",\"logged_in\",\n",
        "\"num_compromised\",\"root_shell\",\"su_attempted\",\"num_root\",\"num_file_creations\",\n",
        "\"num_shells\",\"num_access_files\",\"num_outbound_cmds\",\"is_host_login\",\n",
        "\"is_guest_login\",\"count\",\"srv_count\",\"serror_rate\", \"srv_serror_rate\",\n",
        "\"rerror_rate\",\"srv_rerror_rate\",\"same_srv_rate\", \"diff_srv_rate\", \"srv_diff_host_rate\",\n",
        "\"dst_host_count\",\"dst_host_srv_count\",\"dst_host_same_srv_rate\",\n",
        "\"dst_host_diff_srv_rate\",\"dst_host_same_src_port_rate\",\n",
        "\"dst_host_srv_diff_host_rate\",\"dst_host_serror_rate\",\"dst_host_srv_serror_rate\",\n",
        "\"dst_host_rerror_rate\",\"dst_host_srv_rerror_rate\",\"attack\", \"last_flag\"]\n"
      ],
      "execution_count": null,
      "outputs": []
    },
    {
      "cell_type": "markdown",
      "metadata": {
        "id": "6vjFIy2x8X3d"
      },
      "source": [
        "Reading the test and train data into Pandas `DataFrame`."
      ]
    },
    {
      "cell_type": "code",
      "metadata": {
        "id": "oCYhPgtm8X3e"
      },
      "source": [
        "# reading train data\n",
        "df_train = pd.read_csv(path/'train.csv')\n",
        "df_train.columns = columns"
      ],
      "execution_count": null,
      "outputs": []
    },
    {
      "cell_type": "code",
      "metadata": {
        "id": "H0rfpy0AOcKm"
      },
      "source": [
        "# reading test data\n",
        "df_test = pd.read_csv(path/'test.csv')\n",
        "df_test.columns = columns"
      ],
      "execution_count": null,
      "outputs": []
    },
    {
      "cell_type": "code",
      "metadata": {
        "id": "GTg1Bh2eK1mH"
      },
      "source": [
        "# merging train and test dataset\n",
        "df_test_train=pd.concat([df_train,df_test])"
      ],
      "execution_count": null,
      "outputs": []
    },
    {
      "cell_type": "markdown",
      "metadata": {
        "id": "XPT2uwH9gF_z"
      },
      "source": [
        "Dropping the last_flag column as this doesnt have any signifance "
      ]
    },
    {
      "cell_type": "code",
      "metadata": {
        "id": "z9ILuCDagDOE",
        "outputId": "0e8ab2ce-b1ca-44a7-ecd0-7142460b9098",
        "colab": {
          "base_uri": "https://localhost:8080/",
          "height": 224
        }
      },
      "source": [
        "# dropping the 'last_flag' column, which is not significant\n",
        "df_test_train.drop(['last_flag'],axis = 1,inplace=True)\n",
        "df_test_train.head()"
      ],
      "execution_count": null,
      "outputs": [
        {
          "output_type": "execute_result",
          "data": {
            "text/html": [
              "<div>\n",
              "<style scoped>\n",
              "    .dataframe tbody tr th:only-of-type {\n",
              "        vertical-align: middle;\n",
              "    }\n",
              "\n",
              "    .dataframe tbody tr th {\n",
              "        vertical-align: top;\n",
              "    }\n",
              "\n",
              "    .dataframe thead th {\n",
              "        text-align: right;\n",
              "    }\n",
              "</style>\n",
              "<table border=\"1\" class=\"dataframe\">\n",
              "  <thead>\n",
              "    <tr style=\"text-align: right;\">\n",
              "      <th></th>\n",
              "      <th>duration</th>\n",
              "      <th>protocol_type</th>\n",
              "      <th>service</th>\n",
              "      <th>flag</th>\n",
              "      <th>src_bytes</th>\n",
              "      <th>dst_bytes</th>\n",
              "      <th>land</th>\n",
              "      <th>wrong_fragment</th>\n",
              "      <th>urgent</th>\n",
              "      <th>hot</th>\n",
              "      <th>num_failed_logins</th>\n",
              "      <th>logged_in</th>\n",
              "      <th>num_compromised</th>\n",
              "      <th>root_shell</th>\n",
              "      <th>su_attempted</th>\n",
              "      <th>num_root</th>\n",
              "      <th>num_file_creations</th>\n",
              "      <th>num_shells</th>\n",
              "      <th>num_access_files</th>\n",
              "      <th>num_outbound_cmds</th>\n",
              "      <th>is_host_login</th>\n",
              "      <th>is_guest_login</th>\n",
              "      <th>count</th>\n",
              "      <th>srv_count</th>\n",
              "      <th>serror_rate</th>\n",
              "      <th>srv_serror_rate</th>\n",
              "      <th>rerror_rate</th>\n",
              "      <th>srv_rerror_rate</th>\n",
              "      <th>same_srv_rate</th>\n",
              "      <th>diff_srv_rate</th>\n",
              "      <th>srv_diff_host_rate</th>\n",
              "      <th>dst_host_count</th>\n",
              "      <th>dst_host_srv_count</th>\n",
              "      <th>dst_host_same_srv_rate</th>\n",
              "      <th>dst_host_diff_srv_rate</th>\n",
              "      <th>dst_host_same_src_port_rate</th>\n",
              "      <th>dst_host_srv_diff_host_rate</th>\n",
              "      <th>dst_host_serror_rate</th>\n",
              "      <th>dst_host_srv_serror_rate</th>\n",
              "      <th>dst_host_rerror_rate</th>\n",
              "      <th>dst_host_srv_rerror_rate</th>\n",
              "      <th>attack</th>\n",
              "    </tr>\n",
              "  </thead>\n",
              "  <tbody>\n",
              "    <tr>\n",
              "      <th>0</th>\n",
              "      <td>0</td>\n",
              "      <td>udp</td>\n",
              "      <td>other</td>\n",
              "      <td>SF</td>\n",
              "      <td>146</td>\n",
              "      <td>0</td>\n",
              "      <td>0</td>\n",
              "      <td>0</td>\n",
              "      <td>0</td>\n",
              "      <td>0</td>\n",
              "      <td>0</td>\n",
              "      <td>0</td>\n",
              "      <td>0</td>\n",
              "      <td>0</td>\n",
              "      <td>0</td>\n",
              "      <td>0</td>\n",
              "      <td>0</td>\n",
              "      <td>0</td>\n",
              "      <td>0</td>\n",
              "      <td>0</td>\n",
              "      <td>0</td>\n",
              "      <td>0</td>\n",
              "      <td>13</td>\n",
              "      <td>1</td>\n",
              "      <td>0.0</td>\n",
              "      <td>0.0</td>\n",
              "      <td>0.0</td>\n",
              "      <td>0.0</td>\n",
              "      <td>0.08</td>\n",
              "      <td>0.15</td>\n",
              "      <td>0.00</td>\n",
              "      <td>255</td>\n",
              "      <td>1</td>\n",
              "      <td>0.00</td>\n",
              "      <td>0.60</td>\n",
              "      <td>0.88</td>\n",
              "      <td>0.00</td>\n",
              "      <td>0.00</td>\n",
              "      <td>0.00</td>\n",
              "      <td>0.0</td>\n",
              "      <td>0.00</td>\n",
              "      <td>normal</td>\n",
              "    </tr>\n",
              "    <tr>\n",
              "      <th>1</th>\n",
              "      <td>0</td>\n",
              "      <td>tcp</td>\n",
              "      <td>private</td>\n",
              "      <td>S0</td>\n",
              "      <td>0</td>\n",
              "      <td>0</td>\n",
              "      <td>0</td>\n",
              "      <td>0</td>\n",
              "      <td>0</td>\n",
              "      <td>0</td>\n",
              "      <td>0</td>\n",
              "      <td>0</td>\n",
              "      <td>0</td>\n",
              "      <td>0</td>\n",
              "      <td>0</td>\n",
              "      <td>0</td>\n",
              "      <td>0</td>\n",
              "      <td>0</td>\n",
              "      <td>0</td>\n",
              "      <td>0</td>\n",
              "      <td>0</td>\n",
              "      <td>0</td>\n",
              "      <td>123</td>\n",
              "      <td>6</td>\n",
              "      <td>1.0</td>\n",
              "      <td>1.0</td>\n",
              "      <td>0.0</td>\n",
              "      <td>0.0</td>\n",
              "      <td>0.05</td>\n",
              "      <td>0.07</td>\n",
              "      <td>0.00</td>\n",
              "      <td>255</td>\n",
              "      <td>26</td>\n",
              "      <td>0.10</td>\n",
              "      <td>0.05</td>\n",
              "      <td>0.00</td>\n",
              "      <td>0.00</td>\n",
              "      <td>1.00</td>\n",
              "      <td>1.00</td>\n",
              "      <td>0.0</td>\n",
              "      <td>0.00</td>\n",
              "      <td>neptune</td>\n",
              "    </tr>\n",
              "    <tr>\n",
              "      <th>2</th>\n",
              "      <td>0</td>\n",
              "      <td>tcp</td>\n",
              "      <td>http</td>\n",
              "      <td>SF</td>\n",
              "      <td>232</td>\n",
              "      <td>8153</td>\n",
              "      <td>0</td>\n",
              "      <td>0</td>\n",
              "      <td>0</td>\n",
              "      <td>0</td>\n",
              "      <td>0</td>\n",
              "      <td>1</td>\n",
              "      <td>0</td>\n",
              "      <td>0</td>\n",
              "      <td>0</td>\n",
              "      <td>0</td>\n",
              "      <td>0</td>\n",
              "      <td>0</td>\n",
              "      <td>0</td>\n",
              "      <td>0</td>\n",
              "      <td>0</td>\n",
              "      <td>0</td>\n",
              "      <td>5</td>\n",
              "      <td>5</td>\n",
              "      <td>0.2</td>\n",
              "      <td>0.2</td>\n",
              "      <td>0.0</td>\n",
              "      <td>0.0</td>\n",
              "      <td>1.00</td>\n",
              "      <td>0.00</td>\n",
              "      <td>0.00</td>\n",
              "      <td>30</td>\n",
              "      <td>255</td>\n",
              "      <td>1.00</td>\n",
              "      <td>0.00</td>\n",
              "      <td>0.03</td>\n",
              "      <td>0.04</td>\n",
              "      <td>0.03</td>\n",
              "      <td>0.01</td>\n",
              "      <td>0.0</td>\n",
              "      <td>0.01</td>\n",
              "      <td>normal</td>\n",
              "    </tr>\n",
              "    <tr>\n",
              "      <th>3</th>\n",
              "      <td>0</td>\n",
              "      <td>tcp</td>\n",
              "      <td>http</td>\n",
              "      <td>SF</td>\n",
              "      <td>199</td>\n",
              "      <td>420</td>\n",
              "      <td>0</td>\n",
              "      <td>0</td>\n",
              "      <td>0</td>\n",
              "      <td>0</td>\n",
              "      <td>0</td>\n",
              "      <td>1</td>\n",
              "      <td>0</td>\n",
              "      <td>0</td>\n",
              "      <td>0</td>\n",
              "      <td>0</td>\n",
              "      <td>0</td>\n",
              "      <td>0</td>\n",
              "      <td>0</td>\n",
              "      <td>0</td>\n",
              "      <td>0</td>\n",
              "      <td>0</td>\n",
              "      <td>30</td>\n",
              "      <td>32</td>\n",
              "      <td>0.0</td>\n",
              "      <td>0.0</td>\n",
              "      <td>0.0</td>\n",
              "      <td>0.0</td>\n",
              "      <td>1.00</td>\n",
              "      <td>0.00</td>\n",
              "      <td>0.09</td>\n",
              "      <td>255</td>\n",
              "      <td>255</td>\n",
              "      <td>1.00</td>\n",
              "      <td>0.00</td>\n",
              "      <td>0.00</td>\n",
              "      <td>0.00</td>\n",
              "      <td>0.00</td>\n",
              "      <td>0.00</td>\n",
              "      <td>0.0</td>\n",
              "      <td>0.00</td>\n",
              "      <td>normal</td>\n",
              "    </tr>\n",
              "    <tr>\n",
              "      <th>4</th>\n",
              "      <td>0</td>\n",
              "      <td>tcp</td>\n",
              "      <td>private</td>\n",
              "      <td>REJ</td>\n",
              "      <td>0</td>\n",
              "      <td>0</td>\n",
              "      <td>0</td>\n",
              "      <td>0</td>\n",
              "      <td>0</td>\n",
              "      <td>0</td>\n",
              "      <td>0</td>\n",
              "      <td>0</td>\n",
              "      <td>0</td>\n",
              "      <td>0</td>\n",
              "      <td>0</td>\n",
              "      <td>0</td>\n",
              "      <td>0</td>\n",
              "      <td>0</td>\n",
              "      <td>0</td>\n",
              "      <td>0</td>\n",
              "      <td>0</td>\n",
              "      <td>0</td>\n",
              "      <td>121</td>\n",
              "      <td>19</td>\n",
              "      <td>0.0</td>\n",
              "      <td>0.0</td>\n",
              "      <td>1.0</td>\n",
              "      <td>1.0</td>\n",
              "      <td>0.16</td>\n",
              "      <td>0.06</td>\n",
              "      <td>0.00</td>\n",
              "      <td>255</td>\n",
              "      <td>19</td>\n",
              "      <td>0.07</td>\n",
              "      <td>0.07</td>\n",
              "      <td>0.00</td>\n",
              "      <td>0.00</td>\n",
              "      <td>0.00</td>\n",
              "      <td>0.00</td>\n",
              "      <td>1.0</td>\n",
              "      <td>1.00</td>\n",
              "      <td>neptune</td>\n",
              "    </tr>\n",
              "  </tbody>\n",
              "</table>\n",
              "</div>"
            ],
            "text/plain": [
              "   duration protocol_type  ... dst_host_srv_rerror_rate   attack\n",
              "0         0           udp  ...                     0.00   normal\n",
              "1         0           tcp  ...                     0.00  neptune\n",
              "2         0           tcp  ...                     0.01   normal\n",
              "3         0           tcp  ...                     0.00   normal\n",
              "4         0           tcp  ...                     1.00  neptune\n",
              "\n",
              "[5 rows x 42 columns]"
            ]
          },
          "metadata": {
            "tags": []
          },
          "execution_count": 10
        }
      ]
    },
    {
      "cell_type": "markdown",
      "metadata": {
        "id": "AObMcXYHaZ2t"
      },
      "source": [
        "## We are going to create two models. For first model (Model 1), is for predicting only if it is attack or not. Second model (Model 2) will predict attack type, if there is a attack.\n",
        "\n",
        "\n"
      ]
    },
    {
      "cell_type": "markdown",
      "metadata": {
        "id": "OK_ih1sqda0d"
      },
      "source": [
        "Making a copy of the original datafarme for this model"
      ]
    },
    {
      "cell_type": "code",
      "metadata": {
        "id": "UmSiJfp7dhpE"
      },
      "source": [
        "df1 = df_test_train.copy(deep = True)\n"
      ],
      "execution_count": null,
      "outputs": []
    },
    {
      "cell_type": "markdown",
      "metadata": {
        "id": "qZXG0nsy_f8m"
      },
      "source": [
        "### Adding another column attack_flag (label for model 1) :  some type of attack = 1, nomal = 0"
      ]
    },
    {
      "cell_type": "code",
      "metadata": {
        "id": "iNas5qIl_eNc"
      },
      "source": [
        "# creating new column (label for model 1)\n",
        "df1['attack_flag'] = df1['attack'].apply(lambda attack : attack if attack == 'normal' else 'attack') "
      ],
      "execution_count": null,
      "outputs": []
    },
    {
      "cell_type": "code",
      "metadata": {
        "id": "yhXZVqOjtIZ-"
      },
      "source": [
        "# removing the \"attack\" column as we have 'attack_flag' column already derived from \"attack\" column\n",
        "df1.drop(['attack'],axis = 1,inplace=True)"
      ],
      "execution_count": null,
      "outputs": []
    },
    {
      "cell_type": "code",
      "metadata": {
        "id": "IDJdnb8TUD3z"
      },
      "source": [
        "dep_var = 'attack_flag'\n",
        "\n",
        "\n",
        "# categorical features\n",
        "cat_names = [\"protocol_type\", \"service\", \"flag\", \"land\", \"logged_in\", \"root_shell\", \"su_attempted\", \"is_host_login\",\"is_guest_login\"]\n",
        "\n",
        "# continuous features\n",
        "cont_names = [\"duration\",\"src_bytes\",\"dst_bytes\",\n",
        "\"wrong_fragment\",\"urgent\",\"hot\",\"num_failed_logins\",\n",
        "\"num_compromised\",\"num_root\",\"num_file_creations\",\n",
        "\"num_shells\",\"num_access_files\",\"num_outbound_cmds\",\"count\",\"srv_count\",\"serror_rate\", \"srv_serror_rate\",\n",
        "\"rerror_rate\",\"srv_rerror_rate\",\"same_srv_rate\", \"diff_srv_rate\",\n",
        "\"srv_diff_host_rate\",\"dst_host_count\",\"dst_host_srv_count\",\"dst_host_same_srv_rate\",\n",
        "\"dst_host_diff_srv_rate\",\"dst_host_same_src_port_rate\",\n",
        "\"dst_host_srv_diff_host_rate\",\"dst_host_serror_rate\",\"dst_host_srv_serror_rate\",\n",
        "\"dst_host_rerror_rate\",\"dst_host_srv_rerror_rate\"]\n",
        "\n",
        "# preprocessing parameters\n",
        "procs = [FillMissing, Categorify, Normalize]"
      ],
      "execution_count": null,
      "outputs": []
    },
    {
      "cell_type": "markdown",
      "metadata": {
        "id": "Co_Smr3f5pM3"
      },
      "source": [
        "### Model 1 : predicting if there is attack or not with neural network (Binomial Classification)"
      ]
    },
    {
      "cell_type": "markdown",
      "metadata": {
        "id": "cvb2CRXRzvZf"
      },
      "source": [
        "    '''\n",
        "    To create Neural Network with the given arguements\n",
        "    \n",
        "    Arguements\n",
        "    df : Pandas data set contains train and test data\n",
        "    dep_var : Dependent variable / label / target\n",
        "    cat_names : Categorical feature names in the data set\n",
        "    cont_names : Continuous feature names in the data set\n",
        "    epoch : Number of epochs \n",
        "    learning_rate : Learning rate of the neural network\n",
        "    procs : List of arguements for preprocessing\n",
        "    save_model : (Optional) : True / False - To save the model\n",
        "    \n",
        "    '''\n"
      ]
    },
    {
      "cell_type": "code",
      "metadata": {
        "id": "15w81KYVjgIq",
        "outputId": "a957176b-c745-41da-fc3d-f9f1c18908e9",
        "colab": {
          "base_uri": "https://localhost:8080/",
          "height": 136
        }
      },
      "source": [
        "neural_network(df1,dep_var,cat_names,cont_names,2,1e-3,procs,save_model = True)"
      ],
      "execution_count": null,
      "outputs": [
        {
          "output_type": "stream",
          "text": [
            "\n",
            "Most confused items are below : Actual , Predicted , Number of times times \n",
            "\n",
            "[('attack', 'normal', 274), ('normal', 'attack', 174)]\n",
            "\n",
            "Confusion Matrix\n",
            "\n"
          ],
          "name": "stdout"
        }
      ]
    },
    {
      "cell_type": "markdown",
      "metadata": {
        "id": "bhy9zCQwj506"
      },
      "source": [
        "### Model 1 : predicting only if there is attack or not with Random Forest (Binomial Classification)"
      ]
    },
    {
      "cell_type": "markdown",
      "metadata": {
        "id": "qyw7XQM90Goh"
      },
      "source": [
        "    '''\n",
        "    To create Random Forest model with the given arguements\n",
        "    \n",
        "    Arguements\n",
        "    df : Pandas data set contains train and test data\n",
        "    label : The label \n",
        "    n_jobs : The number of jobs to run in parallel for both fit and predict\n",
        "    model_name : (Optional) : Model name, if the model needs to be saved\n",
        "    \n",
        "    '''\n"
      ]
    },
    {
      "cell_type": "code",
      "metadata": {
        "id": "lM-5hPWFlBJZ",
        "outputId": "7042a4f0-dc72-466a-ff2a-892f461f9f90",
        "colab": {
          "base_uri": "https://localhost:8080/",
          "height": 176
        }
      },
      "source": [
        "random_forest(df1,dep_var,-1,model_name = \"random_forest_model_1\")"
      ],
      "execution_count": null,
      "outputs": [
        {
          "output_type": "stream",
          "text": [
            "/usr/local/lib/python3.6/dist-packages/sklearn/ensemble/forest.py:246: FutureWarning: The default value of n_estimators will change from 10 in version 0.20 to 100 in 0.22.\n",
            "  \"10 in version 0.20 to 100 in 0.22.\", FutureWarning)\n"
          ],
          "name": "stderr"
        },
        {
          "output_type": "stream",
          "text": [
            "Number of classes : 2\n",
            "The classes are : [0 1]\n",
            "Confusion Matrix\n",
            "\n",
            "Accuracy : 0.9990573342759991, AUC Metric : 0.9990563216500747\n",
            "Saving model as random_forest_model_1\n"
          ],
          "name": "stdout"
        }
      ]
    },
    {
      "cell_type": "markdown",
      "metadata": {
        "id": "vMlgjICPzJOB"
      },
      "source": [
        "### Model 1 : predicting only if there is attack or not with KNearest Neighbors (Binomial Classification)"
      ]
    },
    {
      "cell_type": "markdown",
      "metadata": {
        "id": "vs77F-8c0V_1"
      },
      "source": [
        "    '''\n",
        "    To create K-Nearest Neighbors model with the given arguements\n",
        "    \n",
        "    Arguements\n",
        "    df : Pandas data set contains train and test data\n",
        "    label : The label \n",
        "    n_jobs : The number of jobs to run in parallel for both fit and predict\n",
        "    model_name : (Optional) : Model name, if the model needs to be saved\n",
        "    \n",
        "    '''\n"
      ]
    },
    {
      "cell_type": "code",
      "metadata": {
        "id": "S5LV9fJqqSqb",
        "outputId": "495f50b5-031d-44b8-b50c-7f1c1a5d8d82",
        "colab": {
          "base_uri": "https://localhost:8080/",
          "height": 121
        }
      },
      "source": [
        "KNearest_neighbors(df1,dep_var,-1,model_name=\"knn_model_1\")"
      ],
      "execution_count": null,
      "outputs": [
        {
          "output_type": "stream",
          "text": [
            "Number of classes : 2\n",
            "The classes are : [0 1]\n",
            "Confusion Matrix\n",
            "\n",
            "Accuracy : 0.991953674712992, AUC Metric : 0.9919453441349734\n",
            "Saving model as knn_model_1\n"
          ],
          "name": "stdout"
        }
      ]
    },
    {
      "cell_type": "markdown",
      "metadata": {
        "id": "y8cOAbnuUlQo"
      },
      "source": [
        "## Model 2 : predicting attack type - Activity is normal or DOS or PROBE or R2L or U2R etc  (Multinomial classification)"
      ]
    },
    {
      "cell_type": "markdown",
      "metadata": {
        "id": "-qVwDqogE6nE"
      },
      "source": [
        "Making a copy of the original datafarme for this mode"
      ]
    },
    {
      "cell_type": "code",
      "metadata": {
        "id": "yCT0BFFZE8Fy"
      },
      "source": [
        "df2 = df_test_train.copy(deep = True)"
      ],
      "execution_count": null,
      "outputs": []
    },
    {
      "cell_type": "code",
      "metadata": {
        "id": "j_S7fh2AgXKX"
      },
      "source": [
        "# creating label for Model 2\n",
        "df2['attack_category'] = df2['attack'].apply(lambda attack : dict_attack_to_category[attack])"
      ],
      "execution_count": null,
      "outputs": []
    },
    {
      "cell_type": "code",
      "metadata": {
        "id": "feI3pUQJtXhx"
      },
      "source": [
        "# created new label 'attack_category' for model 2. We dont require 'attack' column\n",
        "df2.drop(['attack'],axis = 1,inplace=True)"
      ],
      "execution_count": null,
      "outputs": []
    },
    {
      "cell_type": "code",
      "metadata": {
        "id": "8I7qiex_8X3g"
      },
      "source": [
        "dep_var = 'attack_category'\n",
        "\n",
        "#cat_names = [\"protocol_type\", \"service\", \"flag\", \"land\", \"logged_in\", \"root_shell\", \"su_attempted\", \"is_host_login\",\"is_guest_login\", \"last_flag\"]\n",
        "cat_names = [\"protocol_type\", \"service\", \"flag\", \"land\", \"logged_in\", \"root_shell\", \"su_attempted\", \"is_host_login\",\n",
        "\"is_guest_login\"]\n",
        "\n",
        "\n",
        "cont_names = [\"duration\",\"src_bytes\",\"dst_bytes\",\n",
        "\"wrong_fragment\",\"urgent\",\"hot\",\"num_failed_logins\",\n",
        "\"num_compromised\",\"num_root\",\"num_file_creations\",\n",
        "\"num_shells\",\"num_access_files\",\"num_outbound_cmds\",\"count\",\"srv_count\",\"serror_rate\", \"srv_serror_rate\",\n",
        "\"rerror_rate\",\"srv_rerror_rate\",\"same_srv_rate\", \"diff_srv_rate\",\n",
        "\"srv_diff_host_rate\",\"dst_host_count\",\"dst_host_srv_count\",\"dst_host_same_srv_rate\",\n",
        "\"dst_host_diff_srv_rate\",\"dst_host_same_src_port_rate\",\n",
        "\"dst_host_srv_diff_host_rate\",\"dst_host_serror_rate\",\"dst_host_srv_serror_rate\",\n",
        "\"dst_host_rerror_rate\",\"dst_host_srv_rerror_rate\"]\n",
        "\n",
        "# preprocessing parameters\n",
        "procs = [FillMissing, Categorify, Normalize]\n"
      ],
      "execution_count": null,
      "outputs": []
    },
    {
      "cell_type": "markdown",
      "metadata": {
        "id": "v1cp3G8N6X7y"
      },
      "source": [
        "### Model 2 : predicting attack type (binomial classification) with neural network"
      ]
    },
    {
      "cell_type": "markdown",
      "metadata": {
        "id": "b-Nyi7tM0xRb"
      },
      "source": [
        "    '''\n",
        "    To create Neural Network with the given arguements\n",
        "    \n",
        "    Arguements\n",
        "    df : Pandas data set contains train and test data\n",
        "    dep_var : Dependent variable / label / target\n",
        "    cat_names : Categorical feature names in the data set\n",
        "    cont_names : Continuous feature names in the data set\n",
        "    epoch : Number of epochs \n",
        "    learning_rate : Learning rate of the neural network\n",
        "    procs : List of arguements for preprocessing\n",
        "    save_model : (Optional) : True / False - To save the model\n",
        "    \n",
        "    '''"
      ]
    },
    {
      "cell_type": "code",
      "metadata": {
        "id": "sOx-JR_knZRO",
        "outputId": "83d7768d-6278-4665-c81d-2d78f02058b6",
        "colab": {
          "base_uri": "https://localhost:8080/",
          "height": 661
        }
      },
      "source": [
        "neural_network(df2,dep_var,cat_names,cont_names,2,1e-3,procs,save_model=True)"
      ],
      "execution_count": null,
      "outputs": [
        {
          "output_type": "stream",
          "text": [
            "\n",
            "Most confused items are below : Actual , Predicted , Number of times times \n",
            "\n",
            "[('normal', 'R2L', 133), ('normal', 'PROBE', 59), ('R2L', 'normal', 35), ('PROBE', 'normal', 34), ('normal', 'U2R', 33), ('DOS', 'normal', 15), ('normal', 'DOS', 13), ('DOS', 'PROBE', 8), ('U2R', 'R2L', 6), ('R2L', 'U2R', 4), ('R2L', 'PROBE', 3), ('U2R', 'normal', 3), ('PROBE', 'DOS', 1), ('PROBE', 'R2L', 1), ('PROBE', 'U2R', 1), ('R2L', 'DOS', 1)]\n",
            "\n",
            "Confusion Matrix\n",
            "\n",
            "Saving model as /content/gdrive/My Drive/hackathon/export.pkl\n",
            "------------ Inference ------------\n",
            "Row : 0  Attack : normal   Prediction : normal\n",
            "Row : 1  Attack : neptune   Prediction : DOS\n",
            "Row : 2  Attack : normal   Prediction : normal\n",
            "Row : 3  Attack : normal   Prediction : normal\n",
            "Row : 4  Attack : neptune   Prediction : DOS\n",
            "Row : 5  Attack : neptune   Prediction : DOS\n",
            "Row : 6  Attack : neptune   Prediction : DOS\n",
            "Row : 7  Attack : neptune   Prediction : DOS\n",
            "Row : 8  Attack : neptune   Prediction : DOS\n",
            "Row : 9  Attack : neptune   Prediction : DOS\n"
          ],
          "name": "stdout"
        },
        {
          "output_type": "display_data",
          "data": {
            "image/png": "[encoded data removed]",
            "text/plain": [
              "<Figure size 432x288 with 1 Axes>"
            ]
          },
          "metadata": {
            "tags": []
          }
        }
      ]
    },
    {
      "cell_type": "markdown",
      "metadata": {
        "id": "SNt-SFcn6bZ5"
      },
      "source": [
        "### Model 2 : predicting attack type (binomial classification) with Random Forest"
      ]
    },
    {
      "cell_type": "markdown",
      "metadata": {
        "id": "odvYOAkv0uss"
      },
      "source": [
        "    '''\n",
        "    To create Random Forest model with the given arguements\n",
        "    \n",
        "    Arguements\n",
        "    df : Pandas data set contains train and test data\n",
        "    label : The label \n",
        "    n_jobs : The number of jobs to run in parallel for both fit and predict\n",
        "    model_name : (Optional) : Model name, if the model needs to be saved\n",
        "    \n",
        "    '''\n"
      ]
    },
    {
      "cell_type": "code",
      "metadata": {
        "id": "tl1d4Q9KyOPg",
        "outputId": "b1754ed7-2d3e-4dc0-e453-e03fae3ddcd2",
        "colab": {
          "base_uri": "https://localhost:8080/",
          "height": 159
        }
      },
      "source": [
        "random_forest(df2,dep_var,-1)"
      ],
      "execution_count": null,
      "outputs": [
        {
          "output_type": "stream",
          "text": [
            "/usr/local/lib/python3.6/dist-packages/sklearn/ensemble/forest.py:246: FutureWarning: The default value of n_estimators will change from 10 in version 0.20 to 100 in 0.22.\n",
            "  \"10 in version 0.20 to 100 in 0.22.\", FutureWarning)\n"
          ],
          "name": "stderr"
        },
        {
          "output_type": "stream",
          "text": [
            "Number of classes : 5\n",
            "The classes are : [0 1 2 3 4]\n",
            "Confusion Matrix\n",
            "\n",
            "Accuracy : 0.9991583341749991\n"
          ],
          "name": "stdout"
        }
      ]
    },
    {
      "cell_type": "markdown",
      "metadata": {
        "id": "ZjIWl5-O6aaI"
      },
      "source": [
        "### Model 2 : predicting attack type (binomial classification) with KNearest Neighbors"
      ]
    },
    {
      "cell_type": "markdown",
      "metadata": {
        "id": "S9enRqoo0eSW"
      },
      "source": [
        "    '''\n",
        "    To create K-Nearest Neighbors model with the given arguements\n",
        "    \n",
        "    Arguements\n",
        "    df : Pandas data set contains train and test data\n",
        "    label : The label \n",
        "    n_jobs : The number of jobs to run in parallel for both fit and predict\n",
        "    model_name : (Optional) : Model name, if the model needs to be saved\n",
        "    \n",
        "    '''\n"
      ]
    },
    {
      "cell_type": "code",
      "metadata": {
        "id": "qpofhpd0zAss",
        "outputId": "cf60f435-2c3a-40b9-e4ad-5e964fa73ded",
        "colab": {
          "base_uri": "https://localhost:8080/",
          "height": 104
        }
      },
      "source": [
        "KNearest_neighbors(df2,dep_var,-1)"
      ],
      "execution_count": null,
      "outputs": [
        {
          "output_type": "stream",
          "text": [
            "Number of classes : 5\n",
            "The classes are : [0 1 2 3 4]\n",
            "Confusion Matrix\n",
            "\n",
            "Accuracy : 0.9866680133319866\n"
          ],
          "name": "stdout"
        }
      ]
    },
    {
      "cell_type": "markdown",
      "metadata": {
        "id": "HfKdRzc82FjO"
      },
      "source": [
        "##  Feature Reduction with Random Forest\n",
        "Reference : https://towardsdatascience.com/improving-random-forest-in-python-part-1-893916666cd"
      ]
    },
    {
      "cell_type": "code",
      "metadata": {
        "id": "SsLms2SaHTNW"
      },
      "source": [
        "feature_list = ['duration', 'protocol_type', 'service', 'flag', 'src_bytes',\n",
        "       'dst_bytes', 'land', 'wrong_fragment', 'urgent', 'hot',\n",
        "       'num_failed_logins', 'logged_in', 'num_compromised', 'root_shell',\n",
        "       'su_attempted', 'num_root', 'num_file_creations', 'num_shells',\n",
        "       'num_access_files', 'num_outbound_cmds', 'is_host_login',\n",
        "       'is_guest_login', 'count', 'srv_count', 'serror_rate',\n",
        "       'srv_serror_rate', 'rerror_rate', 'srv_rerror_rate', 'same_srv_rate',\n",
        "       'diff_srv_rate', 'srv_diff_host_rate', 'dst_host_count',\n",
        "       'dst_host_srv_count', 'dst_host_same_srv_rate',\n",
        "       'dst_host_diff_srv_rate', 'dst_host_same_src_port_rate',\n",
        "       'dst_host_srv_diff_host_rate', 'dst_host_serror_rate',\n",
        "       'dst_host_srv_serror_rate', 'dst_host_rerror_rate',\n",
        "       'dst_host_srv_rerror_rate']\n",
        "x_values = feature_list"
      ],
      "execution_count": null,
      "outputs": []
    },
    {
      "cell_type": "code",
      "metadata": {
        "id": "uDVawSGEDXG0",
        "outputId": "a8f0b632-586d-4453-a07a-a35dba271f70",
        "colab": {
          "base_uri": "https://localhost:8080/",
          "height": 129
        }
      },
      "source": [
        "df2.head(1)"
      ],
      "execution_count": null,
      "outputs": [
        {
          "output_type": "execute_result",
          "data": {
            "text/html": [
              "<div>\n",
              "<style scoped>\n",
              "    .dataframe tbody tr th:only-of-type {\n",
              "        vertical-align: middle;\n",
              "    }\n",
              "\n",
              "    .dataframe tbody tr th {\n",
              "        vertical-align: top;\n",
              "    }\n",
              "\n",
              "    .dataframe thead th {\n",
              "        text-align: right;\n",
              "    }\n",
              "</style>\n",
              "<table border=\"1\" class=\"dataframe\">\n",
              "  <thead>\n",
              "    <tr style=\"text-align: right;\">\n",
              "      <th></th>\n",
              "      <th>duration</th>\n",
              "      <th>protocol_type</th>\n",
              "      <th>service</th>\n",
              "      <th>flag</th>\n",
              "      <th>src_bytes</th>\n",
              "      <th>dst_bytes</th>\n",
              "      <th>land</th>\n",
              "      <th>wrong_fragment</th>\n",
              "      <th>urgent</th>\n",
              "      <th>hot</th>\n",
              "      <th>...</th>\n",
              "      <th>dst_host_srv_count</th>\n",
              "      <th>dst_host_same_srv_rate</th>\n",
              "      <th>dst_host_diff_srv_rate</th>\n",
              "      <th>dst_host_same_src_port_rate</th>\n",
              "      <th>dst_host_srv_diff_host_rate</th>\n",
              "      <th>dst_host_serror_rate</th>\n",
              "      <th>dst_host_srv_serror_rate</th>\n",
              "      <th>dst_host_rerror_rate</th>\n",
              "      <th>dst_host_srv_rerror_rate</th>\n",
              "      <th>attack_category</th>\n",
              "    </tr>\n",
              "  </thead>\n",
              "  <tbody>\n",
              "    <tr>\n",
              "      <th>0</th>\n",
              "      <td>0</td>\n",
              "      <td>1</td>\n",
              "      <td>63</td>\n",
              "      <td>4</td>\n",
              "      <td>146</td>\n",
              "      <td>0</td>\n",
              "      <td>0</td>\n",
              "      <td>0</td>\n",
              "      <td>0</td>\n",
              "      <td>0</td>\n",
              "      <td>...</td>\n",
              "      <td>1</td>\n",
              "      <td>0.0</td>\n",
              "      <td>0.6</td>\n",
              "      <td>0.88</td>\n",
              "      <td>0.0</td>\n",
              "      <td>0.0</td>\n",
              "      <td>0.0</td>\n",
              "      <td>0.0</td>\n",
              "      <td>0.0</td>\n",
              "      <td>3</td>\n",
              "    </tr>\n",
              "  </tbody>\n",
              "</table>\n",
              "<p>1 rows × 42 columns</p>\n",
              "</div>"
            ],
            "text/plain": [
              "   duration  protocol_type  service  flag  src_bytes  dst_bytes  land  \\\n",
              "0         0              1       63     4        146          0     0   \n",
              "\n",
              "   wrong_fragment  urgent  hot       ...         dst_host_srv_count  \\\n",
              "0               0       0    0       ...                          1   \n",
              "\n",
              "   dst_host_same_srv_rate  dst_host_diff_srv_rate  \\\n",
              "0                     0.0                     0.6   \n",
              "\n",
              "   dst_host_same_src_port_rate  dst_host_srv_diff_host_rate  \\\n",
              "0                         0.88                          0.0   \n",
              "\n",
              "   dst_host_serror_rate  dst_host_srv_serror_rate  dst_host_rerror_rate  \\\n",
              "0                   0.0                       0.0                   0.0   \n",
              "\n",
              "   dst_host_srv_rerror_rate  attack_category  \n",
              "0                       0.0                3  \n",
              "\n",
              "[1 rows x 42 columns]"
            ]
          },
          "metadata": {
            "tags": []
          },
          "execution_count": 26
        }
      ]
    },
    {
      "cell_type": "code",
      "metadata": {
        "id": "8kcnJ08xywb0"
      },
      "source": [
        ""
      ],
      "execution_count": null,
      "outputs": []
    },
    {
      "cell_type": "code",
      "metadata": {
        "id": "rJ-D8jt2C8qQ",
        "outputId": "8acbaa27-c2a2-4280-9872-212ea1586ec7",
        "colab": {
          "base_uri": "https://localhost:8080/",
          "height": 193
        }
      },
      "source": [
        "    df = handle_non_numerical_data(df2)\n",
        "    label = 'attack_category'\n",
        "    X = np.array(df.drop([label],1))\n",
        "    y = np.array(df[label])\n",
        "    X_train,X_test,y_train,y_test = model_selection.train_test_split(X,y,test_size=test_percent)\n",
        "\n",
        "    clf = RandomForestClassifier(n_jobs=-1)\n",
        "    clf.fit(df.drop(label, axis=1), df[label])"
      ],
      "execution_count": null,
      "outputs": [
        {
          "output_type": "stream",
          "text": [
            "/usr/local/lib/python3.6/dist-packages/sklearn/ensemble/forest.py:246: FutureWarning: The default value of n_estimators will change from 10 in version 0.20 to 100 in 0.22.\n",
            "  \"10 in version 0.20 to 100 in 0.22.\", FutureWarning)\n"
          ],
          "name": "stderr"
        },
        {
          "output_type": "execute_result",
          "data": {
            "text/plain": [
              "RandomForestClassifier(bootstrap=True, class_weight=None, criterion='gini',\n",
              "            max_depth=None, max_features='auto', max_leaf_nodes=None,\n",
              "            min_impurity_decrease=0.0, min_impurity_split=None,\n",
              "            min_samples_leaf=1, min_samples_split=2,\n",
              "            min_weight_fraction_leaf=0.0, n_estimators=10, n_jobs=-1,\n",
              "            oob_score=False, random_state=None, verbose=0,\n",
              "            warm_start=False)"
            ]
          },
          "metadata": {
            "tags": []
          },
          "execution_count": 27
        }
      ]
    },
    {
      "cell_type": "code",
      "metadata": {
        "id": "-vxEirAlHxcH",
        "outputId": "881d7084-7727-44df-e3ea-16ff05405b00",
        "colab": {
          "base_uri": "https://localhost:8080/",
          "height": 1439
        }
      },
      "source": [
        "# Get numerical feature importances\n",
        "importances = list(clf.feature_importances_)\n",
        "# List of tuples with variable and importance\n",
        "feature_importances = [(feature, round(importance, 2)) for feature, importance in zip(feature_list, importances)]\n",
        "# Sort the feature importances by most important first\n",
        "feature_importances = sorted(feature_importances, key = lambda x: x[1], reverse = True)\n",
        "# Print out the feature and importances \n",
        "[print('Variable: {:20} Importance: {}'.format(*pair)) for pair in feature_importances]\t   \n",
        "\t  \n",
        " "
      ],
      "execution_count": null,
      "outputs": [
        {
          "output_type": "stream",
          "text": [
            "Variable: src_bytes            Importance: 0.19\n",
            "Variable: dst_bytes            Importance: 0.08\n",
            "Variable: dst_host_srv_serror_rate Importance: 0.08\n",
            "Variable: dst_host_diff_srv_rate Importance: 0.07\n",
            "Variable: diff_srv_rate        Importance: 0.06\n",
            "Variable: count                Importance: 0.05\n",
            "Variable: same_srv_rate        Importance: 0.05\n",
            "Variable: service              Importance: 0.04\n",
            "Variable: dst_host_same_src_port_rate Importance: 0.04\n",
            "Variable: dst_host_serror_rate Importance: 0.04\n",
            "Variable: protocol_type        Importance: 0.03\n",
            "Variable: logged_in            Importance: 0.03\n",
            "Variable: srv_count            Importance: 0.03\n",
            "Variable: dst_host_srv_count   Importance: 0.03\n",
            "Variable: dst_host_same_srv_rate Importance: 0.03\n",
            "Variable: flag                 Importance: 0.02\n",
            "Variable: dst_host_count       Importance: 0.02\n",
            "Variable: dst_host_srv_diff_host_rate Importance: 0.02\n",
            "Variable: duration             Importance: 0.01\n",
            "Variable: hot                  Importance: 0.01\n",
            "Variable: num_compromised      Importance: 0.01\n",
            "Variable: serror_rate          Importance: 0.01\n",
            "Variable: rerror_rate          Importance: 0.01\n",
            "Variable: srv_rerror_rate      Importance: 0.01\n",
            "Variable: srv_diff_host_rate   Importance: 0.01\n",
            "Variable: dst_host_rerror_rate Importance: 0.01\n",
            "Variable: dst_host_srv_rerror_rate Importance: 0.01\n",
            "Variable: land                 Importance: 0.0\n",
            "Variable: wrong_fragment       Importance: 0.0\n",
            "Variable: urgent               Importance: 0.0\n",
            "Variable: num_failed_logins    Importance: 0.0\n",
            "Variable: root_shell           Importance: 0.0\n",
            "Variable: su_attempted         Importance: 0.0\n",
            "Variable: num_root             Importance: 0.0\n",
            "Variable: num_file_creations   Importance: 0.0\n",
            "Variable: num_shells           Importance: 0.0\n",
            "Variable: num_access_files     Importance: 0.0\n",
            "Variable: num_outbound_cmds    Importance: 0.0\n",
            "Variable: is_host_login        Importance: 0.0\n",
            "Variable: is_guest_login       Importance: 0.0\n",
            "Variable: srv_serror_rate      Importance: 0.0\n"
          ],
          "name": "stdout"
        },
        {
          "output_type": "execute_result",
          "data": {
            "text/plain": [
              "[None,\n",
              " None,\n",
              " None,\n",
              " None,\n",
              " None,\n",
              " None,\n",
              " None,\n",
              " None,\n",
              " None,\n",
              " None,\n",
              " None,\n",
              " None,\n",
              " None,\n",
              " None,\n",
              " None,\n",
              " None,\n",
              " None,\n",
              " None,\n",
              " None,\n",
              " None,\n",
              " None,\n",
              " None,\n",
              " None,\n",
              " None,\n",
              " None,\n",
              " None,\n",
              " None,\n",
              " None,\n",
              " None,\n",
              " None,\n",
              " None,\n",
              " None,\n",
              " None,\n",
              " None,\n",
              " None,\n",
              " None,\n",
              " None,\n",
              " None,\n",
              " None,\n",
              " None,\n",
              " None]"
            ]
          },
          "metadata": {
            "tags": []
          },
          "execution_count": 28
        }
      ]
    },
    {
      "cell_type": "code",
      "metadata": {
        "id": "LAIRtTwmJUxM",
        "outputId": "40faafc5-9996-4bb7-c5f5-720068573572",
        "colab": {
          "base_uri": "https://localhost:8080/",
          "height": 431
        }
      },
      "source": [
        "x_values = list(range(len(importances)))\n",
        "plt.bar(x_values, importances, orientation = 'vertical', color = 'r', edgecolor = 'k', linewidth = 1.2)\n",
        "plt.xticks(x_values, feature_list, rotation='vertical')\n",
        "plt.ylabel('Importance');\n",
        "plt.xlabel('Variable');\n",
        "plt.title('Variable Importances');"
      ],
      "execution_count": null,
      "outputs": [
        {
          "output_type": "display_data",
          "data": {
            "image/png": "[encoded data removed]",
            "text/plain": [
              "<Figure size 432x288 with 1 Axes>"
            ]
          },
          "metadata": {
            "tags": []
          }
        }
      ]
    },
    {
      "cell_type": "code",
      "metadata": {
        "id": "8frbjudsJuP-",
        "outputId": "dcd54807-edc9-4dad-ed06-805167e2bf77",
        "colab": {
          "base_uri": "https://localhost:8080/",
          "height": 431
        }
      },
      "source": [
        "\n",
        "sorted_importances = [importance[1] for importance in feature_importances]\n",
        "sorted_features = [importance[0] for importance in feature_importances]\n",
        "# Cumulative importances\n",
        "cumulative_importances = np.cumsum(sorted_importances)\n",
        "# Make a line graph\n",
        "plt.plot(x_values, cumulative_importances, 'g-')\n",
        "# Draw line at 95% of importance retained\n",
        "plt.hlines(y = 0.95, xmin=0, xmax=len(sorted_importances), color = 'r', linestyles = 'dashed')\n",
        "# Format x ticks and labels\n",
        "plt.xticks(x_values, sorted_features, rotation = 'vertical')\n",
        "# Axis labels and title\n",
        "plt.xlabel('Variable'); plt.ylabel('Cumulative Importance'); plt.title('Cumulative Importances');\n"
      ],
      "execution_count": null,
      "outputs": [
        {
          "output_type": "display_data",
          "data": {
            "image/png": "[encoded data removed]",
            "text/plain": [
              "<Figure size 432x288 with 1 Axes>"
            ]
          },
          "metadata": {
            "tags": []
          }
        }
      ]
    },
    {
      "cell_type": "code",
      "metadata": {
        "id": "4iv8RACg0lGc",
        "outputId": "ea750856-f5b2-4a36-ef80-52efbe346050",
        "colab": {
          "base_uri": "https://localhost:8080/",
          "height": 35
        }
      },
      "source": [
        "\n",
        "# Find number of features for cumulative importance of 95%\n",
        "# Add 1 because Python is zero-indexed\n",
        "print('Number of features for 95% importance:', np.where(cumulative_importances > 0.95)[0][0] + 1)"
      ],
      "execution_count": null,
      "outputs": [
        {
          "output_type": "stream",
          "text": [
            "Number of features for 95% importance: 22\n"
          ],
          "name": "stdout"
        }
      ]
    }
  ]
}