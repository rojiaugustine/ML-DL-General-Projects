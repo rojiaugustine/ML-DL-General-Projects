{
  "nbformat": 4,
  "nbformat_minor": 0,
  "metadata": {
    "colab": {
      "name": "Audio Keras v0.4.ipynb",
      "provenance": [],
      "collapsed_sections": []
    },
    "kernelspec": {
      "name": "python3",
      "display_name": "Python 3"
    },
    "language_info": {
      "name": "python"
    }
  },
  "cells": [
    {
      "cell_type": "markdown",
      "source": [
        "#Speech to Digit Conversion using Keras and librosa\n",
        "\n",
        "## Roji Augustine\n",
        "## References\n",
        "## https://keras.io/\n",
        "## https://librosa.org/\n",
        "## https://streamlit.io/\n"
      ],
      "metadata": {
        "id": "FylHPEceOUKb"
      }
    },
    {
      "cell_type": "code",
      "source": [
        "# Final\n",
        "\n",
        "from IPython.display import Audio\n",
        "\n",
        "import librosa\n",
        "import librosa.display\n",
        "\n",
        "from sklearn.model_selection import train_test_split\n",
        "import tensorflow as tf\n",
        "print(tf.__version__)\n",
        "\n",
        "from google.colab import drive\n",
        "import os\n",
        "import glob\n",
        "import random\n",
        "import pandas as pd\n",
        "import numpy as np\n",
        "from tensorflow.keras.models import Sequential\n",
        "from tensorflow.keras.layers import Dense,Dropout,Activation,Flatten\n",
        "from tensorflow.keras.optimizers import Adam\n",
        "from sklearn import metrics\n",
        "from tensorflow.keras.utils import to_categorical\n",
        "\n",
        "from collections import Counter\n",
        "import matplotlib.pyplot as plt\n",
        "from sklearn.metrics import f1_score\n",
        "import seaborn as sns\n",
        "from keras import metrics\n",
        "import IPython.display as ipd"
      ],
      "metadata": {
        "id": "NLPd5rVOpONy",
        "colab": {
          "base_uri": "https://localhost:8080/"
        },
        "outputId": "8e401c15-6d19-4f23-f3a6-60bce60c699e"
      },
      "execution_count": null,
      "outputs": [
        {
          "output_type": "stream",
          "name": "stdout",
          "text": [
            "2.8.0\n"
          ]
        }
      ]
    },
    {
      "cell_type": "code",
      "source": [
        "def features_extractor(audio, sample_rate):\n",
        "    mfccs_features = librosa.feature.mfcc(y=audio, sr=sample_rate, n_mfcc=40)\n",
        "    mfccs_scaled_features = np.mean(mfccs_features.T,axis=0)    \n",
        "    return mfccs_scaled_features\n",
        "\n",
        "def plot_specgram(samples, sample_rate):\n",
        "     plt.figure(figsize=(6, 3))\n",
        "     librosa.display.waveplot(samples, sr=sample_rate)\n",
        "     sgram = librosa.stft(samples)\n",
        "     librosa.display.specshow(sgram)\n",
        "\n",
        "def plot_label_count(dict_count, title):\n",
        "    df_label = pd.DataFrame({'Label' : dict_count.keys() , 'Count' :  dict_count.values() } ) \n",
        "    sns.barplot(x=df_label.Label, y=df_label.Count)\n",
        "    plt.xticks(rotation=90)\n",
        "    plt.title(title, fontsize=16)       "
      ],
      "metadata": {
        "id": "k05JPqo-31X-"
      },
      "execution_count": null,
      "outputs": []
    },
    {
      "cell_type": "code",
      "source": [
        "drive.mount('/content/gdrive', force_remount=True)\n",
        "root_dir = \"/content/gdrive/My Drive/recordings\"\n",
        "os.chdir(root_dir)\n",
        "file_list = glob.glob(\"*.wav\")"
      ],
      "metadata": {
        "colab": {
          "base_uri": "https://localhost:8080/"
        },
        "id": "y1YZkTUguUVe",
        "outputId": "55888de1-4153-4f5b-c779-15d048af8cf1"
      },
      "execution_count": null,
      "outputs": [
        {
          "output_type": "stream",
          "name": "stdout",
          "text": [
            "Mounted at /content/gdrive\n"
          ]
        }
      ]
    },
    {
      "cell_type": "code",
      "source": [
        "frame_len_list = []\n",
        "sampling_rate_list = []\n",
        "raw_features = []\n",
        "mfccs_features = []\n",
        "#for audio_file in random.sample(glob_list,50):\n",
        "for audio_file in file_list:\n",
        "      audio, sample_rate = librosa.load(audio_file, res_type='kaiser_fast') \n",
        "      frame_len = audio.shape[0]\n",
        "      frame_len_list.append(frame_len)\n",
        "      sampling_rate_list.append(sample_rate)\n",
        "      class_id = int(os.path.splitext(audio_file)[0].split('_')[0])\n",
        "      raw_features.append([audio, class_id])\n",
        "      mfccs_features.append([features_extractor(audio, sample_rate), class_id])\n",
        "      #print(f'Sample rate : {sr}, Number of channels : {num_channels}, Frame length : {frame_len}    ')"
      ],
      "metadata": {
        "id": "kTzBY6VcuUeP"
      },
      "execution_count": null,
      "outputs": []
    },
    {
      "cell_type": "code",
      "source": [
        "df_raw_features = pd.DataFrame(raw_features, columns = ['feature', 'class'])\n",
        "df_mfcc_features = pd.DataFrame(mfccs_features, columns = ['feature', 'class'])"
      ],
      "metadata": {
        "id": "ZmD2390RgFeK"
      },
      "execution_count": null,
      "outputs": []
    },
    {
      "cell_type": "markdown",
      "source": [
        "# Analysis on raw audio files"
      ],
      "metadata": {
        "id": "H7o6QD7BNBCX"
      }
    },
    {
      "cell_type": "code",
      "source": [
        "print(audio_file)\n",
        "librosa.display.waveplot(audio,sr=sample_rate)\n",
        "ipd.Audio(audio_file)"
      ],
      "metadata": {
        "colab": {
          "base_uri": "https://localhost:8080/",
          "height": 355
        },
        "id": "ywha6EvMo88x",
        "outputId": "573375a1-e66d-41dc-d5bd-317d2fc48f59"
      },
      "execution_count": null,
      "outputs": [
        {
          "output_type": "stream",
          "name": "stdout",
          "text": [
            "0_yweweler_39.wav\n"
          ]
        },
        {
          "output_type": "execute_result",
          "data": {
            "text/html": [
              "\n",
              "                <audio controls=\"controls\" >\n",
              "                    <source src=\"data:audio/x-wav;base64,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\" type=\"audio/x-wav\" />\n",
              "                    Your browser does not support the audio element.\n",
              "                </audio>\n",
              "              "
            ],
            "text/plain": [
              "<IPython.lib.display.Audio object>"
            ]
          },
          "metadata": {},
          "execution_count": 48
        },
        {
          "output_type": "display_data",
          "data": {
            "image/png": "[encoded data removed]",
            "text/plain": [
              "<Figure size 432x288 with 1 Axes>"
            ]
          },
          "metadata": {}
        }
      ]
    },
    {
      "cell_type": "code",
      "source": [
        "plot_specgram(audio, sample_rate)"
      ],
      "metadata": {
        "colab": {
          "base_uri": "https://localhost:8080/",
          "height": 231
        },
        "id": "e6oXmSxddEfz",
        "outputId": "f2c25401-ea61-4b1b-c743-83f31ba95b61"
      },
      "execution_count": null,
      "outputs": [
        {
          "output_type": "stream",
          "name": "stderr",
          "text": [
            "/usr/local/lib/python3.7/dist-packages/librosa/display.py:955: UserWarning: Trying to display complex-valued input. Showing magnitude instead.\n",
            "  \"Trying to display complex-valued input. \" \"Showing magnitude instead.\"\n"
          ]
        },
        {
          "output_type": "display_data",
          "data": {
            "image/png": "[encoded data removed]",
            "text/plain": [
              "<Figure size 432x216 with 1 Axes>"
            ]
          },
          "metadata": {}
        }
      ]
    },
    {
      "cell_type": "markdown",
      "source": [
        "##Frame length is varying a lot. Let us plot a histogram on frame length"
      ],
      "metadata": {
        "id": "b6QQ5c8QNUsH"
      }
    },
    {
      "cell_type": "code",
      "source": [
        "_, ax = plt.subplots(figsize=(16, 4))\n",
        "sns.set_style('whitegrid')\n",
        "sns.distplot(frame_len_list, kde = True, color ='red', bins = 200)\n",
        "ax.set(xlabel='Frame Length')"
      ],
      "metadata": {
        "colab": {
          "base_uri": "https://localhost:8080/"
        },
        "id": "tXje3XjUNTbt",
        "outputId": "7ecf15c3-4e84-4fca-9584-dadad61b9efa"
      },
      "execution_count": null,
      "outputs": [
        {
          "output_type": "stream",
          "name": "stderr",
          "text": [
            "/usr/local/lib/python3.7/dist-packages/seaborn/distributions.py:2619: FutureWarning: `distplot` is a deprecated function and will be removed in a future version. Please adapt your code to use either `displot` (a figure-level function with similar flexibility) or `histplot` (an axes-level function for histograms).\n",
            "  warnings.warn(msg, FutureWarning)\n"
          ]
        },
        {
          "output_type": "execute_result",
          "data": {
            "text/plain": [
              "[Text(0.5, 0, 'Frame Length')]"
            ]
          },
          "metadata": {},
          "execution_count": 50
        },
        {
          "output_type": "display_data",
          "data": {
            "image/png": "[encoded data removed]",
            "text/plain": [
              "<Figure size 1152x288 with 1 Axes>"
            ]
          },
          "metadata": {}
        }
      ]
    },
    {
      "cell_type": "markdown",
      "source": [
        "#Bar plot showing file name Vs frame length for few files"
      ],
      "metadata": {
        "id": "kYbYXeRZPqcV"
      }
    },
    {
      "cell_type": "code",
      "source": [
        "_, ax = plt.subplots(figsize=(16, 4))\n",
        "sns.barplot(x=file_list[:50], y=frame_len_list[:50])\n",
        "plt.xticks(rotation=90)\n",
        "plt.title('Distribution of audio frames', fontsize=16)"
      ],
      "metadata": {
        "colab": {
          "base_uri": "https://localhost:8080/"
        },
        "id": "qz9a45JwO_1C",
        "outputId": "6d7a0e62-6019-4921-b296-a7017742354b"
      },
      "execution_count": null,
      "outputs": [
        {
          "output_type": "execute_result",
          "data": {
            "text/plain": [
              "Text(0.5, 1.0, 'Distribution of audio frames')"
            ]
          },
          "metadata": {},
          "execution_count": 51
        },
        {
          "output_type": "display_data",
          "data": {
            "image/png": "[encoded data removed]",
            "text/plain": [
              "<Figure size 1152x288 with 1 Axes>"
            ]
          },
          "metadata": {}
        }
      ]
    },
    {
      "cell_type": "code",
      "source": [
        "plot_label_count(dict(df_mfcc_features['class'].value_counts()), \"Overall Label Count\")"
      ],
      "metadata": {
        "colab": {
          "base_uri": "https://localhost:8080/"
        },
        "id": "IRXW3aSufOMd",
        "outputId": "08d887b2-5a71-4207-bfb2-c1c765c9896c"
      },
      "execution_count": null,
      "outputs": [
        {
          "output_type": "display_data",
          "data": {
            "image/png": "[encoded data removed]",
            "text/plain": [
              "<Figure size 432x288 with 1 Axes>"
            ]
          },
          "metadata": {}
        }
      ]
    },
    {
      "cell_type": "markdown",
      "source": [
        "# Analysis of small and large  files. If required we can remove small files and truncate the files which are really long. "
      ],
      "metadata": {
        "id": "3L0Nodt-O3IC"
      }
    },
    {
      "cell_type": "code",
      "source": [
        "# files with length < 3200\n",
        "small_files = [file for file in file_list if file_list.index(file) in np.where(np.array(frame_len_list) < 3200)[0]]\n",
        "print(small_files)"
      ],
      "metadata": {
        "colab": {
          "base_uri": "https://localhost:8080/"
        },
        "id": "cnFTj5cLurTh",
        "outputId": "8df1ca6e-dc62-4bd5-b762-b034a2cb8da6"
      },
      "execution_count": null,
      "outputs": [
        {
          "output_type": "stream",
          "name": "stdout",
          "text": [
            "['6_yweweler_3.wav', '6_nicolas_7.wav']\n"
          ]
        }
      ]
    },
    {
      "cell_type": "code",
      "source": [
        "audio, sample_rate = librosa.load('6_nicolas_7.wav', res_type='kaiser_fast') \n",
        "print(audio.shape[0])\n",
        "librosa.display.waveplot(audio,sr=sample_rate)\n",
        "ipd.Audio(audio_file)"
      ],
      "metadata": {
        "colab": {
          "base_uri": "https://localhost:8080/",
          "height": 130
        },
        "id": "aPZWx1mRRtTe",
        "outputId": "4dbc7913-22e0-4d48-ce85-3a34407d8c88"
      },
      "execution_count": null,
      "outputs": [
        {
          "output_type": "stream",
          "name": "stdout",
          "text": [
            "3167\n"
          ]
        },
        {
          "output_type": "execute_result",
          "data": {
            "text/html": [
              "\n",
              "                <audio controls=\"controls\" >\n",
              "                    <source src=\"data:audio/x-wav;base64,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\" type=\"audio/x-wav\" />\n",
              "                    Your browser does not support the audio element.\n",
              "                </audio>\n",
              "              "
            ],
            "text/plain": [
              "<IPython.lib.display.Audio object>"
            ]
          },
          "metadata": {},
          "execution_count": 54
        },
        {
          "output_type": "display_data",
          "data": {
            "image/png": "[encoded data removed]",
            "text/plain": [
              "<Figure size 432x288 with 1 Axes>"
            ]
          },
          "metadata": {}
        }
      ]
    },
    {
      "cell_type": "code",
      "source": [
        "# files with length > 18000\n",
        "large_files = [file for file in file_list if file_list.index(file) in np.where(np.array(frame_len_list) > 18000)[0]]\n",
        "print(large_files)"
      ],
      "metadata": {
        "colab": {
          "base_uri": "https://localhost:8080/"
        },
        "id": "GrbCZz0gOWwJ",
        "outputId": "3d5a548c-6440-4e55-de8b-ef14af338bb5"
      },
      "execution_count": null,
      "outputs": [
        {
          "output_type": "stream",
          "name": "stdout",
          "text": [
            "['5_theo_36.wav', '6_jackson_18.wav', '6_jackson_10.wav', '6_jackson_15.wav', '6_jackson_23.wav', '7_theo_36.wav', '6_jackson_12.wav', '6_jackson_0.wav', '6_jackson_8.wav', '6_jackson_9.wav', '6_jackson_3.wav', '6_jackson_11.wav', '6_jackson_32.wav', '9_theo_16.wav', '9_theo_29.wav', '9_theo_27.wav', '9_theo_28.wav', '1_roji_0.wav.wav', '2_roji_0.wav.wav']\n"
          ]
        }
      ]
    },
    {
      "cell_type": "code",
      "source": [
        "audio, sample_rate = librosa.load('6_jackson_12.wav', res_type='kaiser_fast') \n",
        "print(audio.shape[0])\n",
        "librosa.display.waveplot(audio,sr=sample_rate)\n",
        "ipd.Audio(audio_file)"
      ],
      "metadata": {
        "colab": {
          "base_uri": "https://localhost:8080/"
        },
        "id": "nMs_hIXDUga1",
        "outputId": "9aafa919-b6ab-42da-8291-44d6946dbad1"
      },
      "execution_count": null,
      "outputs": [
        {
          "output_type": "stream",
          "name": "stdout",
          "text": [
            "18975\n"
          ]
        },
        {
          "output_type": "execute_result",
          "data": {
            "text/html": [
              "\n",
              "                <audio controls=\"controls\" >\n",
              "                    <source src=\"data:audio/x-wav;base64,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\" type=\"audio/x-wav\" />\n",
              "                    Your browser does not support the audio element.\n",
              "                </audio>\n",
              "              "
            ],
            "text/plain": [
              "<IPython.lib.display.Audio object>"
            ]
          },
          "metadata": {},
          "execution_count": 56
        },
        {
          "output_type": "display_data",
          "data": {
            "image/png": "[encoded data removed]",
            "text/plain": [
              "<Figure size 432x288 with 1 Axes>"
            ]
          },
          "metadata": {}
        }
      ]
    },
    {
      "cell_type": "code",
      "source": [
        ""
      ],
      "metadata": {
        "id": "BRBYzMM5Ugv1"
      },
      "execution_count": null,
      "outputs": []
    },
    {
      "cell_type": "markdown",
      "source": [
        "# Scatter plot for sampling rate"
      ],
      "metadata": {
        "id": "EwmWl5EuQktg"
      }
    },
    {
      "cell_type": "code",
      "source": [
        "import matplotlib.pyplot as plt\n",
        "_, ax = plt.subplots(figsize=(16, 4))\n",
        "sns.scatterplot(x=file_list[:50], y=sampling_rate_list[:50])\n",
        "plt.xticks(rotation=90)\n",
        "plt.title('Distribution of Sampling rate', fontsize=16)"
      ],
      "metadata": {
        "colab": {
          "base_uri": "https://localhost:8080/"
        },
        "id": "PR08J0JuOcn-",
        "outputId": "98b22156-818e-4fd6-b7d3-dada3daaea81"
      },
      "execution_count": null,
      "outputs": [
        {
          "output_type": "execute_result",
          "data": {
            "text/plain": [
              "Text(0.5, 1.0, 'Distribution of Sampling rate')"
            ]
          },
          "metadata": {},
          "execution_count": 57
        },
        {
          "output_type": "display_data",
          "data": {
            "image/png": "[encoded data removed]",
            "text/plain": [
              "<Figure size 1152x288 with 1 Axes>"
            ]
          },
          "metadata": {}
        }
      ]
    },
    {
      "cell_type": "code",
      "source": [
        "df_mfcc_features"
      ],
      "metadata": {
        "colab": {
          "base_uri": "https://localhost:8080/"
        },
        "id": "cCL9RIC5uwHl",
        "outputId": "90ba963e-52ae-47d8-f103-1abb85a9ddb7"
      },
      "execution_count": null,
      "outputs": [
        {
          "output_type": "execute_result",
          "data": {
            "text/html": [
              "\n",
              "  <div id=\"df-e4ef90b9-6ccd-44ac-b88e-76ba49169118\">\n",
              "    <div class=\"colab-df-container\">\n",
              "      <div>\n",
              "<style scoped>\n",
              "    .dataframe tbody tr th:only-of-type {\n",
              "        vertical-align: middle;\n",
              "    }\n",
              "\n",
              "    .dataframe tbody tr th {\n",
              "        vertical-align: top;\n",
              "    }\n",
              "\n",
              "    .dataframe thead th {\n",
              "        text-align: right;\n",
              "    }\n",
              "</style>\n",
              "<table border=\"1\" class=\"dataframe\">\n",
              "  <thead>\n",
              "    <tr style=\"text-align: right;\">\n",
              "      <th></th>\n",
              "      <th>feature</th>\n",
              "      <th>class</th>\n",
              "    </tr>\n",
              "  </thead>\n",
              "  <tbody>\n",
              "    <tr>\n",
              "      <th>0</th>\n",
              "      <td>[-561.0658, 225.64342, -9.226658, -4.636629, 2...</td>\n",
              "      <td>4</td>\n",
              "    </tr>\n",
              "    <tr>\n",
              "      <th>1</th>\n",
              "      <td>[-294.78867, 219.18217, -6.9632654, -20.743155...</td>\n",
              "      <td>4</td>\n",
              "    </tr>\n",
              "    <tr>\n",
              "      <th>2</th>\n",
              "      <td>[-573.74243, 215.96965, -11.566997, -3.077398,...</td>\n",
              "      <td>4</td>\n",
              "    </tr>\n",
              "    <tr>\n",
              "      <th>3</th>\n",
              "      <td>[-487.81546, 222.26689, -39.717773, -23.039877...</td>\n",
              "      <td>4</td>\n",
              "    </tr>\n",
              "    <tr>\n",
              "      <th>4</th>\n",
              "      <td>[-324.35046, 245.14505, -44.03993, -11.031328,...</td>\n",
              "      <td>5</td>\n",
              "    </tr>\n",
              "    <tr>\n",
              "      <th>...</th>\n",
              "      <td>...</td>\n",
              "      <td>...</td>\n",
              "    </tr>\n",
              "    <tr>\n",
              "      <th>1997</th>\n",
              "      <td>[-588.81964, 221.5852, -32.07324, 6.7235093, 2...</td>\n",
              "      <td>1</td>\n",
              "    </tr>\n",
              "    <tr>\n",
              "      <th>1998</th>\n",
              "      <td>[-366.3211, 202.93552, -41.954834, 38.21075, 4...</td>\n",
              "      <td>0</td>\n",
              "    </tr>\n",
              "    <tr>\n",
              "      <th>1999</th>\n",
              "      <td>[-552.4142, 230.22182, -30.306042, 5.1094193, ...</td>\n",
              "      <td>0</td>\n",
              "    </tr>\n",
              "    <tr>\n",
              "      <th>2000</th>\n",
              "      <td>[-526.6426, 217.71765, -32.13359, 0.011702033,...</td>\n",
              "      <td>1</td>\n",
              "    </tr>\n",
              "    <tr>\n",
              "      <th>2001</th>\n",
              "      <td>[-535.06384, 219.4189, -35.593754, 6.541414, 2...</td>\n",
              "      <td>0</td>\n",
              "    </tr>\n",
              "  </tbody>\n",
              "</table>\n",
              "<p>2002 rows × 2 columns</p>\n",
              "</div>\n",
              "      <button class=\"colab-df-convert\" onclick=\"convertToInteractive('df-e4ef90b9-6ccd-44ac-b88e-76ba49169118')\"\n",
              "              title=\"Convert this dataframe to an interactive table.\"\n",
              "              style=\"display:none;\">\n",
              "        \n",
              "  <svg xmlns=\"http://www.w3.org/2000/svg\" height=\"24px\"viewBox=\"0 0 24 24\"\n",
              "       width=\"24px\">\n",
              "    <path d=\"M0 0h24v24H0V0z\" fill=\"none\"/>\n",
              "    <path d=\"M18.56 5.44l.94 2.06.94-2.06 2.06-.94-2.06-.94-.94-2.06-.94 2.06-2.06.94zm-11 1L8.5 8.5l.94-2.06 2.06-.94-2.06-.94L8.5 2.5l-.94 2.06-2.06.94zm10 10l.94 2.06.94-2.06 2.06-.94-2.06-.94-.94-2.06-.94 2.06-2.06.94z\"/><path d=\"M17.41 7.96l-1.37-1.37c-.4-.4-.92-.59-1.43-.59-.52 0-1.04.2-1.43.59L10.3 9.45l-7.72 7.72c-.78.78-.78 2.05 0 2.83L4 21.41c.39.39.9.59 1.41.59.51 0 1.02-.2 1.41-.59l7.78-7.78 2.81-2.81c.8-.78.8-2.07 0-2.86zM5.41 20L4 18.59l7.72-7.72 1.47 1.35L5.41 20z\"/>\n",
              "  </svg>\n",
              "      </button>\n",
              "      \n",
              "  <style>\n",
              "    .colab-df-container {\n",
              "      display:flex;\n",
              "      flex-wrap:wrap;\n",
              "      gap: 12px;\n",
              "    }\n",
              "\n",
              "    .colab-df-convert {\n",
              "      background-color: #E8F0FE;\n",
              "      border: none;\n",
              "      border-radius: 50%;\n",
              "      cursor: pointer;\n",
              "      display: none;\n",
              "      fill: #1967D2;\n",
              "      height: 32px;\n",
              "      padding: 0 0 0 0;\n",
              "      width: 32px;\n",
              "    }\n",
              "\n",
              "    .colab-df-convert:hover {\n",
              "      background-color: #E2EBFA;\n",
              "      box-shadow: 0px 1px 2px rgba(60, 64, 67, 0.3), 0px 1px 3px 1px rgba(60, 64, 67, 0.15);\n",
              "      fill: #174EA6;\n",
              "    }\n",
              "\n",
              "    [theme=dark] .colab-df-convert {\n",
              "      background-color: #3B4455;\n",
              "      fill: #D2E3FC;\n",
              "    }\n",
              "\n",
              "    [theme=dark] .colab-df-convert:hover {\n",
              "      background-color: #434B5C;\n",
              "      box-shadow: 0px 1px 3px 1px rgba(0, 0, 0, 0.15);\n",
              "      filter: drop-shadow(0px 1px 2px rgba(0, 0, 0, 0.3));\n",
              "      fill: #FFFFFF;\n",
              "    }\n",
              "  </style>\n",
              "\n",
              "      <script>\n",
              "        const buttonEl =\n",
              "          document.querySelector('#df-e4ef90b9-6ccd-44ac-b88e-76ba49169118 button.colab-df-convert');\n",
              "        buttonEl.style.display =\n",
              "          google.colab.kernel.accessAllowed ? 'block' : 'none';\n",
              "\n",
              "        async function convertToInteractive(key) {\n",
              "          const element = document.querySelector('#df-e4ef90b9-6ccd-44ac-b88e-76ba49169118');\n",
              "          const dataTable =\n",
              "            await google.colab.kernel.invokeFunction('convertToInteractive',\n",
              "                                                     [key], {});\n",
              "          if (!dataTable) return;\n",
              "\n",
              "          const docLinkHtml = 'Like what you see? Visit the ' +\n",
              "            '<a target=\"_blank\" href=https://colab.research.google.com/notebooks/data_table.ipynb>data table notebook</a>'\n",
              "            + ' to learn more about interactive tables.';\n",
              "          element.innerHTML = '';\n",
              "          dataTable['output_type'] = 'display_data';\n",
              "          await google.colab.output.renderOutput(dataTable, element);\n",
              "          const docLink = document.createElement('div');\n",
              "          docLink.innerHTML = docLinkHtml;\n",
              "          element.appendChild(docLink);\n",
              "        }\n",
              "      </script>\n",
              "    </div>\n",
              "  </div>\n",
              "  "
            ],
            "text/plain": [
              "                                                feature  class\n",
              "0     [-561.0658, 225.64342, -9.226658, -4.636629, 2...      4\n",
              "1     [-294.78867, 219.18217, -6.9632654, -20.743155...      4\n",
              "2     [-573.74243, 215.96965, -11.566997, -3.077398,...      4\n",
              "3     [-487.81546, 222.26689, -39.717773, -23.039877...      4\n",
              "4     [-324.35046, 245.14505, -44.03993, -11.031328,...      5\n",
              "...                                                 ...    ...\n",
              "1997  [-588.81964, 221.5852, -32.07324, 6.7235093, 2...      1\n",
              "1998  [-366.3211, 202.93552, -41.954834, 38.21075, 4...      0\n",
              "1999  [-552.4142, 230.22182, -30.306042, 5.1094193, ...      0\n",
              "2000  [-526.6426, 217.71765, -32.13359, 0.011702033,...      1\n",
              "2001  [-535.06384, 219.4189, -35.593754, 6.541414, 2...      0\n",
              "\n",
              "[2002 rows x 2 columns]"
            ]
          },
          "metadata": {},
          "execution_count": 60
        }
      ]
    },
    {
      "cell_type": "code",
      "source": [
        "df_raw_features"
      ],
      "metadata": {
        "colab": {
          "base_uri": "https://localhost:8080/"
        },
        "id": "cfdyBMNtO39B",
        "outputId": "941fc97b-fd10-4cd1-d54e-b52c5aec4664"
      },
      "execution_count": null,
      "outputs": [
        {
          "output_type": "execute_result",
          "data": {
            "text/html": [
              "\n",
              "  <div id=\"df-be9c4586-e9ed-4d35-aaef-f2f65c073eac\">\n",
              "    <div class=\"colab-df-container\">\n",
              "      <div>\n",
              "<style scoped>\n",
              "    .dataframe tbody tr th:only-of-type {\n",
              "        vertical-align: middle;\n",
              "    }\n",
              "\n",
              "    .dataframe tbody tr th {\n",
              "        vertical-align: top;\n",
              "    }\n",
              "\n",
              "    .dataframe thead th {\n",
              "        text-align: right;\n",
              "    }\n",
              "</style>\n",
              "<table border=\"1\" class=\"dataframe\">\n",
              "  <thead>\n",
              "    <tr style=\"text-align: right;\">\n",
              "      <th></th>\n",
              "      <th>feature</th>\n",
              "      <th>class</th>\n",
              "    </tr>\n",
              "  </thead>\n",
              "  <tbody>\n",
              "    <tr>\n",
              "      <th>0</th>\n",
              "      <td>[-0.0003358421, -0.0005069162, -0.0006031967, ...</td>\n",
              "      <td>4</td>\n",
              "    </tr>\n",
              "    <tr>\n",
              "      <th>1</th>\n",
              "      <td>[-0.010654217, -0.009932298, -0.006256743, -0....</td>\n",
              "      <td>4</td>\n",
              "    </tr>\n",
              "    <tr>\n",
              "      <th>2</th>\n",
              "      <td>[-0.00028933858, -0.0002489117, -0.00015910622...</td>\n",
              "      <td>4</td>\n",
              "    </tr>\n",
              "    <tr>\n",
              "      <th>3</th>\n",
              "      <td>[-0.00015461139, -0.00018323878, -0.0002021998...</td>\n",
              "      <td>4</td>\n",
              "    </tr>\n",
              "    <tr>\n",
              "      <th>4</th>\n",
              "      <td>[-0.01139883, -0.015453712, -0.01862484, -0.02...</td>\n",
              "      <td>5</td>\n",
              "    </tr>\n",
              "    <tr>\n",
              "      <th>...</th>\n",
              "      <td>...</td>\n",
              "      <td>...</td>\n",
              "    </tr>\n",
              "    <tr>\n",
              "      <th>1997</th>\n",
              "      <td>[0.0001282273, 0.00021126863, 0.00024605257, 0...</td>\n",
              "      <td>1</td>\n",
              "    </tr>\n",
              "    <tr>\n",
              "      <th>1998</th>\n",
              "      <td>[-0.0023962818, -0.0044062906, -0.0050452724, ...</td>\n",
              "      <td>0</td>\n",
              "    </tr>\n",
              "    <tr>\n",
              "      <th>1999</th>\n",
              "      <td>[9.1948905e-06, 9.998083e-06, -9.987432e-06, -...</td>\n",
              "      <td>0</td>\n",
              "    </tr>\n",
              "    <tr>\n",
              "      <th>2000</th>\n",
              "      <td>[0.0003884616, 0.00039761854, 0.00035465465, 0...</td>\n",
              "      <td>1</td>\n",
              "    </tr>\n",
              "    <tr>\n",
              "      <th>2001</th>\n",
              "      <td>[-0.0003369849, -0.00040469228, -0.00044538718...</td>\n",
              "      <td>0</td>\n",
              "    </tr>\n",
              "  </tbody>\n",
              "</table>\n",
              "<p>2002 rows × 2 columns</p>\n",
              "</div>\n",
              "      <button class=\"colab-df-convert\" onclick=\"convertToInteractive('df-be9c4586-e9ed-4d35-aaef-f2f65c073eac')\"\n",
              "              title=\"Convert this dataframe to an interactive table.\"\n",
              "              style=\"display:none;\">\n",
              "        \n",
              "  <svg xmlns=\"http://www.w3.org/2000/svg\" height=\"24px\"viewBox=\"0 0 24 24\"\n",
              "       width=\"24px\">\n",
              "    <path d=\"M0 0h24v24H0V0z\" fill=\"none\"/>\n",
              "    <path d=\"M18.56 5.44l.94 2.06.94-2.06 2.06-.94-2.06-.94-.94-2.06-.94 2.06-2.06.94zm-11 1L8.5 8.5l.94-2.06 2.06-.94-2.06-.94L8.5 2.5l-.94 2.06-2.06.94zm10 10l.94 2.06.94-2.06 2.06-.94-2.06-.94-.94-2.06-.94 2.06-2.06.94z\"/><path d=\"M17.41 7.96l-1.37-1.37c-.4-.4-.92-.59-1.43-.59-.52 0-1.04.2-1.43.59L10.3 9.45l-7.72 7.72c-.78.78-.78 2.05 0 2.83L4 21.41c.39.39.9.59 1.41.59.51 0 1.02-.2 1.41-.59l7.78-7.78 2.81-2.81c.8-.78.8-2.07 0-2.86zM5.41 20L4 18.59l7.72-7.72 1.47 1.35L5.41 20z\"/>\n",
              "  </svg>\n",
              "      </button>\n",
              "      \n",
              "  <style>\n",
              "    .colab-df-container {\n",
              "      display:flex;\n",
              "      flex-wrap:wrap;\n",
              "      gap: 12px;\n",
              "    }\n",
              "\n",
              "    .colab-df-convert {\n",
              "      background-color: #E8F0FE;\n",
              "      border: none;\n",
              "      border-radius: 50%;\n",
              "      cursor: pointer;\n",
              "      display: none;\n",
              "      fill: #1967D2;\n",
              "      height: 32px;\n",
              "      padding: 0 0 0 0;\n",
              "      width: 32px;\n",
              "    }\n",
              "\n",
              "    .colab-df-convert:hover {\n",
              "      background-color: #E2EBFA;\n",
              "      box-shadow: 0px 1px 2px rgba(60, 64, 67, 0.3), 0px 1px 3px 1px rgba(60, 64, 67, 0.15);\n",
              "      fill: #174EA6;\n",
              "    }\n",
              "\n",
              "    [theme=dark] .colab-df-convert {\n",
              "      background-color: #3B4455;\n",
              "      fill: #D2E3FC;\n",
              "    }\n",
              "\n",
              "    [theme=dark] .colab-df-convert:hover {\n",
              "      background-color: #434B5C;\n",
              "      box-shadow: 0px 1px 3px 1px rgba(0, 0, 0, 0.15);\n",
              "      filter: drop-shadow(0px 1px 2px rgba(0, 0, 0, 0.3));\n",
              "      fill: #FFFFFF;\n",
              "    }\n",
              "  </style>\n",
              "\n",
              "      <script>\n",
              "        const buttonEl =\n",
              "          document.querySelector('#df-be9c4586-e9ed-4d35-aaef-f2f65c073eac button.colab-df-convert');\n",
              "        buttonEl.style.display =\n",
              "          google.colab.kernel.accessAllowed ? 'block' : 'none';\n",
              "\n",
              "        async function convertToInteractive(key) {\n",
              "          const element = document.querySelector('#df-be9c4586-e9ed-4d35-aaef-f2f65c073eac');\n",
              "          const dataTable =\n",
              "            await google.colab.kernel.invokeFunction('convertToInteractive',\n",
              "                                                     [key], {});\n",
              "          if (!dataTable) return;\n",
              "\n",
              "          const docLinkHtml = 'Like what you see? Visit the ' +\n",
              "            '<a target=\"_blank\" href=https://colab.research.google.com/notebooks/data_table.ipynb>data table notebook</a>'\n",
              "            + ' to learn more about interactive tables.';\n",
              "          element.innerHTML = '';\n",
              "          dataTable['output_type'] = 'display_data';\n",
              "          await google.colab.output.renderOutput(dataTable, element);\n",
              "          const docLink = document.createElement('div');\n",
              "          docLink.innerHTML = docLinkHtml;\n",
              "          element.appendChild(docLink);\n",
              "        }\n",
              "      </script>\n",
              "    </div>\n",
              "  </div>\n",
              "  "
            ],
            "text/plain": [
              "                                                feature  class\n",
              "0     [-0.0003358421, -0.0005069162, -0.0006031967, ...      4\n",
              "1     [-0.010654217, -0.009932298, -0.006256743, -0....      4\n",
              "2     [-0.00028933858, -0.0002489117, -0.00015910622...      4\n",
              "3     [-0.00015461139, -0.00018323878, -0.0002021998...      4\n",
              "4     [-0.01139883, -0.015453712, -0.01862484, -0.02...      5\n",
              "...                                                 ...    ...\n",
              "1997  [0.0001282273, 0.00021126863, 0.00024605257, 0...      1\n",
              "1998  [-0.0023962818, -0.0044062906, -0.0050452724, ...      0\n",
              "1999  [9.1948905e-06, 9.998083e-06, -9.987432e-06, -...      0\n",
              "2000  [0.0003884616, 0.00039761854, 0.00035465465, 0...      1\n",
              "2001  [-0.0003369849, -0.00040469228, -0.00044538718...      0\n",
              "\n",
              "[2002 rows x 2 columns]"
            ]
          },
          "metadata": {},
          "execution_count": 61
        }
      ]
    },
    {
      "cell_type": "code",
      "source": [
        "X=np.array(df_mfcc_features['feature'].to_list())\n",
        "y=np.array(df_mfcc_features['class'].to_list())\n",
        "y = to_categorical(y)\n",
        "\n",
        "X_train,X_test,y_train,y_test=train_test_split(X,y,test_size=0.2,random_state=0)\n",
        "X_train.shape, X_test.shape, y_train.shape, y_test.shape"
      ],
      "metadata": {
        "colab": {
          "base_uri": "https://localhost:8080/"
        },
        "id": "gRqWPoW29jSl",
        "outputId": "c2594ba8-6aea-451a-af51-09b34232077f"
      },
      "execution_count": null,
      "outputs": [
        {
          "output_type": "execute_result",
          "data": {
            "text/plain": [
              "((1601, 40), (401, 40), (1601, 10), (401, 10))"
            ]
          },
          "metadata": {},
          "execution_count": 62
        }
      ]
    },
    {
      "cell_type": "markdown",
      "source": [
        "## Label Count in Train set after split"
      ],
      "metadata": {
        "id": "cWlgIxEKkJEU"
      }
    },
    {
      "cell_type": "code",
      "source": [
        "plot_label_count(dict(Counter([np.argmax(i) for i in y_train] )), \"Label Count in Train set\")"
      ],
      "metadata": {
        "colab": {
          "base_uri": "https://localhost:8080/"
        },
        "id": "YrU8mfW9h9AS",
        "outputId": "a664d5d1-7d56-42a1-943a-7248d897b06b"
      },
      "execution_count": null,
      "outputs": [
        {
          "output_type": "display_data",
          "data": {
            "image/png": "[encoded data removed]",
            "text/plain": [
              "<Figure size 432x288 with 1 Axes>"
            ]
          },
          "metadata": {}
        }
      ]
    },
    {
      "cell_type": "markdown",
      "source": [
        "## Label Count in Validation set after split"
      ],
      "metadata": {
        "id": "GBDHis47kUjl"
      }
    },
    {
      "cell_type": "code",
      "source": [
        "plot_label_count(dict(Counter([np.argmax(i) for i in y_test] )), \"Label Count in Validation set\")"
      ],
      "metadata": {
        "colab": {
          "base_uri": "https://localhost:8080/"
        },
        "id": "POVL_boGj1Vv",
        "outputId": "010a3f01-e2bf-46a7-df78-58e9fa9c1430"
      },
      "execution_count": null,
      "outputs": [
        {
          "output_type": "display_data",
          "data": {
            "image/png": "[encoded data removed]",
            "text/plain": [
              "<Figure size 432x288 with 1 Axes>"
            ]
          },
          "metadata": {}
        }
      ]
    },
    {
      "cell_type": "code",
      "source": [
        "plot_label_count(dict(df_mfcc_features['class'].value_counts()), \"Overall Label Count\")"
      ],
      "metadata": {
        "id": "mHyer-Snh6U2",
        "colab": {
          "base_uri": "https://localhost:8080/"
        },
        "outputId": "800f4a64-b4ff-4e5d-cf91-3d81ba60e215"
      },
      "execution_count": null,
      "outputs": [
        {
          "output_type": "display_data",
          "data": {
            "image/png": "[encoded data removed]",
            "text/plain": [
              "<Figure size 432x288 with 1 Axes>"
            ]
          },
          "metadata": {}
        }
      ]
    },
    {
      "cell_type": "code",
      "source": [
        "X_train = np.expand_dims(X_train, axis=1)"
      ],
      "metadata": {
        "id": "9ZP0GjBnUeNR"
      },
      "execution_count": null,
      "outputs": []
    },
    {
      "cell_type": "code",
      "source": [
        "X_test = np.expand_dims(X_test, axis=1)"
      ],
      "metadata": {
        "id": "w85_FN4AU0uL"
      },
      "execution_count": null,
      "outputs": []
    },
    {
      "cell_type": "code",
      "source": [
        "y_train = np.expand_dims(y_train, axis=1)"
      ],
      "metadata": {
        "id": "vDzASAqMVjNf"
      },
      "execution_count": null,
      "outputs": []
    },
    {
      "cell_type": "code",
      "source": [
        "y_test = np.expand_dims(y_test, axis=1)"
      ],
      "metadata": {
        "id": "ykIMYN5MWO0Y"
      },
      "execution_count": null,
      "outputs": []
    },
    {
      "cell_type": "code",
      "source": [
        "X_train.shape, X_test.shape, y_train.shape, y_test.shape"
      ],
      "metadata": {
        "colab": {
          "base_uri": "https://localhost:8080/"
        },
        "id": "glWZ7sSipdkn",
        "outputId": "a46a0dbe-c13e-4468-aa4a-3b765de27be4"
      },
      "execution_count": null,
      "outputs": [
        {
          "output_type": "execute_result",
          "data": {
            "text/plain": [
              "((1601, 1, 40), (401, 1, 40), (1601, 1, 10), (401, 1, 10))"
            ]
          },
          "metadata": {},
          "execution_count": 70
        }
      ]
    },
    {
      "cell_type": "code",
      "source": [
        "num_classes = 10"
      ],
      "metadata": {
        "id": "Z6_YrOmF_z6Q"
      },
      "execution_count": null,
      "outputs": []
    },
    {
      "cell_type": "code",
      "source": [
        "model=Sequential()\n",
        "###first layer\n",
        "model.add(Dense(300,input_shape=(1,40)))\n",
        "model.add(Activation('relu'))\n",
        "model.add(Dropout(0.2))\n",
        "###second layer\n",
        "model.add(Dense(400))\n",
        "model.add(Activation('relu'))\n",
        "model.add(Dropout(0.2))\n",
        "###third layer\n",
        "model.add(Dense(300))\n",
        "model.add(Activation('relu'))\n",
        "model.add(Dropout(0.2))\n",
        "\n",
        "###third layer\n",
        "model.add(Dense(100))\n",
        "model.add(Activation('relu'))\n",
        "model.add(Dropout(0.2))\n",
        "\n",
        "###final layer\n",
        "model.add(Dense(num_classes))\n",
        "model.add(Activation('softmax'))\n"
      ],
      "metadata": {
        "id": "4dFkYYK2_z8c"
      },
      "execution_count": null,
      "outputs": []
    },
    {
      "cell_type": "code",
      "source": [
        "model.summary()"
      ],
      "metadata": {
        "id": "me9ZOKaS_z-3",
        "colab": {
          "base_uri": "https://localhost:8080/"
        },
        "outputId": "8d8ef26d-b461-49b9-bb9b-c50d26fa1bdd"
      },
      "execution_count": null,
      "outputs": [
        {
          "output_type": "stream",
          "name": "stdout",
          "text": [
            "Model: \"sequential_1\"\n",
            "_________________________________________________________________\n",
            " Layer (type)                Output Shape              Param #   \n",
            "=================================================================\n",
            " dense_5 (Dense)             (None, 1, 300)            12300     \n",
            "                                                                 \n",
            " activation_5 (Activation)   (None, 1, 300)            0         \n",
            "                                                                 \n",
            " dropout_4 (Dropout)         (None, 1, 300)            0         \n",
            "                                                                 \n",
            " dense_6 (Dense)             (None, 1, 400)            120400    \n",
            "                                                                 \n",
            " activation_6 (Activation)   (None, 1, 400)            0         \n",
            "                                                                 \n",
            " dropout_5 (Dropout)         (None, 1, 400)            0         \n",
            "                                                                 \n",
            " dense_7 (Dense)             (None, 1, 300)            120300    \n",
            "                                                                 \n",
            " activation_7 (Activation)   (None, 1, 300)            0         \n",
            "                                                                 \n",
            " dropout_6 (Dropout)         (None, 1, 300)            0         \n",
            "                                                                 \n",
            " dense_8 (Dense)             (None, 1, 100)            30100     \n",
            "                                                                 \n",
            " activation_8 (Activation)   (None, 1, 100)            0         \n",
            "                                                                 \n",
            " dropout_7 (Dropout)         (None, 1, 100)            0         \n",
            "                                                                 \n",
            " dense_9 (Dense)             (None, 1, 10)             1010      \n",
            "                                                                 \n",
            " activation_9 (Activation)   (None, 1, 10)             0         \n",
            "                                                                 \n",
            "=================================================================\n",
            "Total params: 284,110\n",
            "Trainable params: 284,110\n",
            "Non-trainable params: 0\n",
            "_________________________________________________________________\n"
          ]
        }
      ]
    },
    {
      "cell_type": "code",
      "source": [
        "# 0.9856 - 0.9800\n",
        "optimizer = tf.keras.optimizers.Adam(\n",
        "    learning_rate=0.001, beta_1=0.9, beta_2=0.999, epsilon=1e-07, amsgrad=False,\n",
        "    name='Adam'\n",
        ")"
      ],
      "metadata": {
        "id": "Hb43MzT74Jst"
      },
      "execution_count": null,
      "outputs": []
    },
    {
      "cell_type": "code",
      "source": [
        "#optimizer = keras.optimizers.Adam(lr=0.01)\n",
        "#model.compile(loss='categorical_crossentropy',metrics=['accuracy'],optimizer='adam')\n",
        "model.compile(loss='categorical_crossentropy',metrics=[metrics.categorical_accuracy],optimizer=optimizer)"
      ],
      "metadata": {
        "id": "OyoEGI8IqWpf"
      },
      "execution_count": null,
      "outputs": []
    },
    {
      "cell_type": "code",
      "source": [
        "## Trianing my model\n",
        "from tensorflow.keras.callbacks import ModelCheckpoint\n",
        "from datetime import datetime \n",
        "\n",
        "#num_epochs = 100\n",
        "num_epochs = 300\n",
        "num_batch_size = 32\n",
        "\n",
        "checkpointer = ModelCheckpoint(filepath='audio_classification.hdf5', \n",
        "                               verbose=1, save_best_only=True)\n",
        "start = datetime.now()\n",
        "\n",
        "history = model.fit(X_train, y_train, batch_size=num_batch_size, epochs=num_epochs, validation_data=(X_test, y_test), callbacks=[checkpointer], verbose=1)\n",
        "\n",
        "duration = datetime.now() - start\n",
        "print(\"Training completed in time: \", duration)"
      ],
      "metadata": {
        "id": "t6_V3xHrqdNx",
        "colab": {
          "base_uri": "https://localhost:8080/"
        },
        "outputId": "f4147895-3322-46c2-9827-42a7d1169459"
      },
      "execution_count": null,
      "outputs": [
        {
          "output_type": "stream",
          "name": "stdout",
          "text": [
            "Epoch 1/300\n",
            "51/51 [==============================] - ETA: 0s - loss: 8.4041 - categorical_accuracy: 0.1156\n",
            "Epoch 1: val_loss improved from inf to 2.29497, saving model to audio_classification.hdf5\n",
            "51/51 [==============================] - 2s 19ms/step - loss: 8.4041 - categorical_accuracy: 0.1156 - val_loss: 2.2950 - val_categorical_accuracy: 0.0748\n",
            "Epoch 2/300\n",
            "47/51 [==========================>...] - ETA: 0s - loss: 2.4263 - categorical_accuracy: 0.1070\n",
            "Epoch 2: val_loss did not improve from 2.29497\n",
            "51/51 [==============================] - 1s 10ms/step - loss: 2.4201 - categorical_accuracy: 0.1056 - val_loss: 2.3030 - val_categorical_accuracy: 0.1022\n",
            "Epoch 3/300\n",
            "47/51 [==========================>...] - ETA: 0s - loss: 2.3255 - categorical_accuracy: 0.1290\n",
            "Epoch 3: val_loss did not improve from 2.29497\n",
            "51/51 [==============================] - 0s 10ms/step - loss: 2.3244 - categorical_accuracy: 0.1280 - val_loss: 2.3015 - val_categorical_accuracy: 0.1097\n",
            "Epoch 4/300\n",
            "48/51 [===========================>..] - ETA: 0s - loss: 2.3182 - categorical_accuracy: 0.1191\n",
            "Epoch 4: val_loss did not improve from 2.29497\n",
            "51/51 [==============================] - 0s 9ms/step - loss: 2.3200 - categorical_accuracy: 0.1181 - val_loss: 2.2957 - val_categorical_accuracy: 0.0998\n",
            "Epoch 5/300\n",
            "46/51 [==========================>...] - ETA: 0s - loss: 2.3136 - categorical_accuracy: 0.1257\n",
            "Epoch 5: val_loss improved from 2.29497 to 2.27235, saving model to audio_classification.hdf5\n",
            "51/51 [==============================] - 0s 9ms/step - loss: 2.3100 - categorical_accuracy: 0.1268 - val_loss: 2.2724 - val_categorical_accuracy: 0.1446\n",
            "Epoch 6/300\n",
            "51/51 [==============================] - ETA: 0s - loss: 2.2763 - categorical_accuracy: 0.1368\n",
            "Epoch 6: val_loss improved from 2.27235 to 2.24010, saving model to audio_classification.hdf5\n",
            "51/51 [==============================] - 1s 10ms/step - loss: 2.2763 - categorical_accuracy: 0.1368 - val_loss: 2.2401 - val_categorical_accuracy: 0.1596\n",
            "Epoch 7/300\n",
            "46/51 [==========================>...] - ETA: 0s - loss: 2.2083 - categorical_accuracy: 0.1821\n",
            "Epoch 7: val_loss improved from 2.24010 to 2.09085, saving model to audio_classification.hdf5\n",
            "51/51 [==============================] - 0s 10ms/step - loss: 2.2112 - categorical_accuracy: 0.1818 - val_loss: 2.0908 - val_categorical_accuracy: 0.2843\n",
            "Epoch 8/300\n",
            "44/51 [========================>.....] - ETA: 0s - loss: 2.0726 - categorical_accuracy: 0.2322\n",
            "Epoch 8: val_loss improved from 2.09085 to 1.58942, saving model to audio_classification.hdf5\n",
            "51/51 [==============================] - 0s 10ms/step - loss: 2.0603 - categorical_accuracy: 0.2330 - val_loss: 1.5894 - val_categorical_accuracy: 0.3591\n",
            "Epoch 9/300\n",
            "48/51 [===========================>..] - ETA: 0s - loss: 1.8463 - categorical_accuracy: 0.3079\n",
            "Epoch 9: val_loss improved from 1.58942 to 1.49057, saving model to audio_classification.hdf5\n",
            "51/51 [==============================] - 0s 9ms/step - loss: 1.8437 - categorical_accuracy: 0.3036 - val_loss: 1.4906 - val_categorical_accuracy: 0.4414\n",
            "Epoch 10/300\n",
            "50/51 [============================>.] - ETA: 0s - loss: 1.6473 - categorical_accuracy: 0.3769\n",
            "Epoch 10: val_loss improved from 1.49057 to 1.31015, saving model to audio_classification.hdf5\n",
            "51/51 [==============================] - 1s 10ms/step - loss: 1.6471 - categorical_accuracy: 0.3766 - val_loss: 1.3101 - val_categorical_accuracy: 0.4938\n",
            "Epoch 11/300\n",
            "50/51 [============================>.] - ETA: 0s - loss: 1.5673 - categorical_accuracy: 0.3800\n",
            "Epoch 11: val_loss improved from 1.31015 to 1.08931, saving model to audio_classification.hdf5\n",
            "51/51 [==============================] - 1s 11ms/step - loss: 1.5672 - categorical_accuracy: 0.3798 - val_loss: 1.0893 - val_categorical_accuracy: 0.5536\n",
            "Epoch 12/300\n",
            "44/51 [========================>.....] - ETA: 0s - loss: 1.3948 - categorical_accuracy: 0.4290\n",
            "Epoch 12: val_loss improved from 1.08931 to 1.04118, saving model to audio_classification.hdf5\n",
            "51/51 [==============================] - 1s 10ms/step - loss: 1.3897 - categorical_accuracy: 0.4316 - val_loss: 1.0412 - val_categorical_accuracy: 0.5711\n",
            "Epoch 13/300\n",
            "45/51 [=========================>....] - ETA: 0s - loss: 1.3055 - categorical_accuracy: 0.4771\n",
            "Epoch 13: val_loss improved from 1.04118 to 0.89391, saving model to audio_classification.hdf5\n",
            "51/51 [==============================] - 1s 10ms/step - loss: 1.3025 - categorical_accuracy: 0.4791 - val_loss: 0.8939 - val_categorical_accuracy: 0.5935\n",
            "Epoch 14/300\n",
            "46/51 [==========================>...] - ETA: 0s - loss: 1.1643 - categorical_accuracy: 0.5306\n",
            "Epoch 14: val_loss did not improve from 0.89391\n",
            "51/51 [==============================] - 0s 9ms/step - loss: 1.1654 - categorical_accuracy: 0.5259 - val_loss: 0.9207 - val_categorical_accuracy: 0.6509\n",
            "Epoch 15/300\n",
            "47/51 [==========================>...] - ETA: 0s - loss: 1.4177 - categorical_accuracy: 0.4342\n",
            "Epoch 15: val_loss did not improve from 0.89391\n",
            "51/51 [==============================] - 0s 9ms/step - loss: 1.4076 - categorical_accuracy: 0.4391 - val_loss: 0.9377 - val_categorical_accuracy: 0.6359\n",
            "Epoch 16/300\n",
            "46/51 [==========================>...] - ETA: 0s - loss: 1.1457 - categorical_accuracy: 0.5265\n",
            "Epoch 16: val_loss improved from 0.89391 to 0.73294, saving model to audio_classification.hdf5\n",
            "51/51 [==============================] - 0s 9ms/step - loss: 1.1377 - categorical_accuracy: 0.5309 - val_loss: 0.7329 - val_categorical_accuracy: 0.7232\n",
            "Epoch 17/300\n",
            "50/51 [============================>.] - ETA: 0s - loss: 0.9783 - categorical_accuracy: 0.6162\n",
            "Epoch 17: val_loss improved from 0.73294 to 0.59663, saving model to audio_classification.hdf5\n",
            "51/51 [==============================] - 1s 11ms/step - loss: 0.9784 - categorical_accuracy: 0.6165 - val_loss: 0.5966 - val_categorical_accuracy: 0.7880\n",
            "Epoch 18/300\n",
            "45/51 [=========================>....] - ETA: 0s - loss: 0.8978 - categorical_accuracy: 0.6424\n",
            "Epoch 18: val_loss did not improve from 0.59663\n",
            "51/51 [==============================] - 0s 9ms/step - loss: 0.8952 - categorical_accuracy: 0.6421 - val_loss: 0.6185 - val_categorical_accuracy: 0.7581\n",
            "Epoch 19/300\n",
            "46/51 [==========================>...] - ETA: 0s - loss: 0.9699 - categorical_accuracy: 0.6399\n",
            "Epoch 19: val_loss did not improve from 0.59663\n",
            "51/51 [==============================] - 0s 9ms/step - loss: 0.9710 - categorical_accuracy: 0.6384 - val_loss: 0.6147 - val_categorical_accuracy: 0.7556\n",
            "Epoch 20/300\n",
            "46/51 [==========================>...] - ETA: 0s - loss: 0.8083 - categorical_accuracy: 0.6868\n",
            "Epoch 20: val_loss improved from 0.59663 to 0.43010, saving model to audio_classification.hdf5\n",
            "51/51 [==============================] - 0s 9ms/step - loss: 0.8096 - categorical_accuracy: 0.6877 - val_loss: 0.4301 - val_categorical_accuracy: 0.8628\n",
            "Epoch 21/300\n",
            "48/51 [===========================>..] - ETA: 0s - loss: 0.7080 - categorical_accuracy: 0.7272\n",
            "Epoch 21: val_loss improved from 0.43010 to 0.40075, saving model to audio_classification.hdf5\n",
            "51/51 [==============================] - 1s 10ms/step - loss: 0.7089 - categorical_accuracy: 0.7314 - val_loss: 0.4007 - val_categorical_accuracy: 0.8828\n",
            "Epoch 22/300\n",
            "47/51 [==========================>...] - ETA: 0s - loss: 0.6285 - categorical_accuracy: 0.7680\n",
            "Epoch 22: val_loss improved from 0.40075 to 0.38498, saving model to audio_classification.hdf5\n",
            "51/51 [==============================] - 0s 9ms/step - loss: 0.6280 - categorical_accuracy: 0.7695 - val_loss: 0.3850 - val_categorical_accuracy: 0.8803\n",
            "Epoch 23/300\n",
            "48/51 [===========================>..] - ETA: 0s - loss: 0.5313 - categorical_accuracy: 0.8034\n",
            "Epoch 23: val_loss improved from 0.38498 to 0.33832, saving model to audio_classification.hdf5\n",
            "51/51 [==============================] - 1s 10ms/step - loss: 0.5285 - categorical_accuracy: 0.8057 - val_loss: 0.3383 - val_categorical_accuracy: 0.8753\n",
            "Epoch 24/300\n",
            "51/51 [==============================] - ETA: 0s - loss: 0.4609 - categorical_accuracy: 0.8401\n",
            "Epoch 24: val_loss improved from 0.33832 to 0.25099, saving model to audio_classification.hdf5\n",
            "51/51 [==============================] - 1s 10ms/step - loss: 0.4609 - categorical_accuracy: 0.8401 - val_loss: 0.2510 - val_categorical_accuracy: 0.9352\n",
            "Epoch 25/300\n",
            "47/51 [==========================>...] - ETA: 0s - loss: 0.4373 - categorical_accuracy: 0.8464\n",
            "Epoch 25: val_loss did not improve from 0.25099\n",
            "51/51 [==============================] - 0s 9ms/step - loss: 0.4414 - categorical_accuracy: 0.8451 - val_loss: 0.2727 - val_categorical_accuracy: 0.9052\n",
            "Epoch 26/300\n",
            "44/51 [========================>.....] - ETA: 0s - loss: 0.3783 - categorical_accuracy: 0.8750\n",
            "Epoch 26: val_loss improved from 0.25099 to 0.21404, saving model to audio_classification.hdf5\n",
            "51/51 [==============================] - 0s 10ms/step - loss: 0.3779 - categorical_accuracy: 0.8738 - val_loss: 0.2140 - val_categorical_accuracy: 0.9426\n",
            "Epoch 27/300\n",
            "47/51 [==========================>...] - ETA: 0s - loss: 0.3647 - categorical_accuracy: 0.8783\n",
            "Epoch 27: val_loss improved from 0.21404 to 0.15985, saving model to audio_classification.hdf5\n",
            "51/51 [==============================] - 1s 10ms/step - loss: 0.3626 - categorical_accuracy: 0.8795 - val_loss: 0.1599 - val_categorical_accuracy: 0.9401\n",
            "Epoch 28/300\n",
            "45/51 [=========================>....] - ETA: 0s - loss: 0.3061 - categorical_accuracy: 0.9062\n",
            "Epoch 28: val_loss did not improve from 0.15985\n",
            "51/51 [==============================] - 0s 8ms/step - loss: 0.3028 - categorical_accuracy: 0.9051 - val_loss: 0.2021 - val_categorical_accuracy: 0.9401\n",
            "Epoch 29/300\n",
            "47/51 [==========================>...] - ETA: 0s - loss: 0.3216 - categorical_accuracy: 0.8883\n",
            "Epoch 29: val_loss improved from 0.15985 to 0.14957, saving model to audio_classification.hdf5\n",
            "51/51 [==============================] - 0s 10ms/step - loss: 0.3179 - categorical_accuracy: 0.8901 - val_loss: 0.1496 - val_categorical_accuracy: 0.9476\n",
            "Epoch 30/300\n",
            "47/51 [==========================>...] - ETA: 0s - loss: 0.2965 - categorical_accuracy: 0.8923\n",
            "Epoch 30: val_loss did not improve from 0.14957\n",
            "51/51 [==============================] - 0s 8ms/step - loss: 0.2929 - categorical_accuracy: 0.8963 - val_loss: 0.2336 - val_categorical_accuracy: 0.9277\n",
            "Epoch 31/300\n",
            "46/51 [==========================>...] - ETA: 0s - loss: 0.2955 - categorical_accuracy: 0.9022\n",
            "Epoch 31: val_loss improved from 0.14957 to 0.13546, saving model to audio_classification.hdf5\n",
            "51/51 [==============================] - 1s 10ms/step - loss: 0.2963 - categorical_accuracy: 0.9032 - val_loss: 0.1355 - val_categorical_accuracy: 0.9601\n",
            "Epoch 32/300\n",
            "46/51 [==========================>...] - ETA: 0s - loss: 0.2856 - categorical_accuracy: 0.9029\n",
            "Epoch 32: val_loss did not improve from 0.13546\n",
            "51/51 [==============================] - 0s 9ms/step - loss: 0.2832 - categorical_accuracy: 0.9051 - val_loss: 0.2731 - val_categorical_accuracy: 0.9177\n",
            "Epoch 33/300\n",
            "50/51 [============================>.] - ETA: 0s - loss: 0.2670 - categorical_accuracy: 0.9106\n",
            "Epoch 33: val_loss did not improve from 0.13546\n",
            "51/51 [==============================] - 0s 9ms/step - loss: 0.2669 - categorical_accuracy: 0.9107 - val_loss: 0.1728 - val_categorical_accuracy: 0.9377\n",
            "Epoch 34/300\n",
            "44/51 [========================>.....] - ETA: 0s - loss: 0.2759 - categorical_accuracy: 0.9105\n",
            "Epoch 34: val_loss did not improve from 0.13546\n",
            "51/51 [==============================] - 0s 9ms/step - loss: 0.2731 - categorical_accuracy: 0.9132 - val_loss: 0.1661 - val_categorical_accuracy: 0.9526\n",
            "Epoch 35/300\n",
            "46/51 [==========================>...] - ETA: 0s - loss: 0.2016 - categorical_accuracy: 0.9341\n",
            "Epoch 35: val_loss did not improve from 0.13546\n",
            "51/51 [==============================] - 0s 8ms/step - loss: 0.2082 - categorical_accuracy: 0.9288 - val_loss: 0.1810 - val_categorical_accuracy: 0.9377\n",
            "Epoch 36/300\n",
            "49/51 [===========================>..] - ETA: 0s - loss: 0.2322 - categorical_accuracy: 0.9337\n",
            "Epoch 36: val_loss improved from 0.13546 to 0.12698, saving model to audio_classification.hdf5\n",
            "51/51 [==============================] - 1s 10ms/step - loss: 0.2293 - categorical_accuracy: 0.9344 - val_loss: 0.1270 - val_categorical_accuracy: 0.9626\n",
            "Epoch 37/300\n",
            "46/51 [==========================>...] - ETA: 0s - loss: 0.2321 - categorical_accuracy: 0.9232\n",
            "Epoch 37: val_loss did not improve from 0.12698\n",
            "51/51 [==============================] - 0s 9ms/step - loss: 0.2372 - categorical_accuracy: 0.9207 - val_loss: 0.1450 - val_categorical_accuracy: 0.9551\n",
            "Epoch 38/300\n",
            "48/51 [===========================>..] - ETA: 0s - loss: 0.5322 - categorical_accuracy: 0.8184\n",
            "Epoch 38: val_loss did not improve from 0.12698\n",
            "51/51 [==============================] - 0s 8ms/step - loss: 0.5262 - categorical_accuracy: 0.8195 - val_loss: 0.2478 - val_categorical_accuracy: 0.9252\n",
            "Epoch 39/300\n",
            "45/51 [=========================>....] - ETA: 0s - loss: 0.5672 - categorical_accuracy: 0.8076\n",
            "Epoch 39: val_loss did not improve from 0.12698\n",
            "51/51 [==============================] - 0s 8ms/step - loss: 0.5376 - categorical_accuracy: 0.8182 - val_loss: 0.2023 - val_categorical_accuracy: 0.9252\n",
            "Epoch 40/300\n",
            "46/51 [==========================>...] - ETA: 0s - loss: 0.2475 - categorical_accuracy: 0.9158\n",
            "Epoch 40: val_loss did not improve from 0.12698\n",
            "51/51 [==============================] - 0s 8ms/step - loss: 0.2429 - categorical_accuracy: 0.9176 - val_loss: 0.1402 - val_categorical_accuracy: 0.9626\n",
            "Epoch 41/300\n",
            "47/51 [==========================>...] - ETA: 0s - loss: 0.2369 - categorical_accuracy: 0.9328\n",
            "Epoch 41: val_loss did not improve from 0.12698\n",
            "51/51 [==============================] - 0s 9ms/step - loss: 0.2349 - categorical_accuracy: 0.9338 - val_loss: 0.2066 - val_categorical_accuracy: 0.9277\n",
            "Epoch 42/300\n",
            "50/51 [============================>.] - ETA: 0s - loss: 0.1856 - categorical_accuracy: 0.9362\n",
            "Epoch 42: val_loss did not improve from 0.12698\n",
            "51/51 [==============================] - 0s 8ms/step - loss: 0.1855 - categorical_accuracy: 0.9363 - val_loss: 0.1493 - val_categorical_accuracy: 0.9501\n",
            "Epoch 43/300\n",
            "46/51 [==========================>...] - ETA: 0s - loss: 0.2121 - categorical_accuracy: 0.9395\n",
            "Epoch 43: val_loss improved from 0.12698 to 0.09465, saving model to audio_classification.hdf5\n",
            "51/51 [==============================] - 1s 10ms/step - loss: 0.2155 - categorical_accuracy: 0.9394 - val_loss: 0.0946 - val_categorical_accuracy: 0.9676\n",
            "Epoch 44/300\n",
            "46/51 [==========================>...] - ETA: 0s - loss: 0.2117 - categorical_accuracy: 0.9334\n",
            "Epoch 44: val_loss did not improve from 0.09465\n",
            "51/51 [==============================] - 0s 8ms/step - loss: 0.2117 - categorical_accuracy: 0.9332 - val_loss: 0.1858 - val_categorical_accuracy: 0.9501\n",
            "Epoch 45/300\n",
            "46/51 [==========================>...] - ETA: 0s - loss: 0.1847 - categorical_accuracy: 0.9382\n",
            "Epoch 45: val_loss did not improve from 0.09465\n",
            "51/51 [==============================] - 0s 9ms/step - loss: 0.1784 - categorical_accuracy: 0.9407 - val_loss: 0.0947 - val_categorical_accuracy: 0.9825\n",
            "Epoch 46/300\n",
            "45/51 [=========================>....] - ETA: 0s - loss: 0.1536 - categorical_accuracy: 0.9444\n",
            "Epoch 46: val_loss did not improve from 0.09465\n",
            "51/51 [==============================] - 0s 9ms/step - loss: 0.1556 - categorical_accuracy: 0.9432 - val_loss: 0.1543 - val_categorical_accuracy: 0.9551\n",
            "Epoch 47/300\n",
            "51/51 [==============================] - ETA: 0s - loss: 0.1657 - categorical_accuracy: 0.9419\n",
            "Epoch 47: val_loss did not improve from 0.09465\n",
            "51/51 [==============================] - 0s 9ms/step - loss: 0.1657 - categorical_accuracy: 0.9419 - val_loss: 0.1488 - val_categorical_accuracy: 0.9501\n",
            "Epoch 48/300\n",
            "45/51 [=========================>....] - ETA: 0s - loss: 0.1810 - categorical_accuracy: 0.9458\n",
            "Epoch 48: val_loss did not improve from 0.09465\n",
            "51/51 [==============================] - 0s 8ms/step - loss: 0.1769 - categorical_accuracy: 0.9457 - val_loss: 0.1146 - val_categorical_accuracy: 0.9701\n",
            "Epoch 49/300\n",
            "48/51 [===========================>..] - ETA: 0s - loss: 0.4316 - categorical_accuracy: 0.8607\n",
            "Epoch 49: val_loss did not improve from 0.09465\n",
            "51/51 [==============================] - 0s 8ms/step - loss: 0.4315 - categorical_accuracy: 0.8613 - val_loss: 0.1586 - val_categorical_accuracy: 0.9302\n",
            "Epoch 50/300\n",
            "47/51 [==========================>...] - ETA: 0s - loss: 0.2312 - categorical_accuracy: 0.9249\n",
            "Epoch 50: val_loss did not improve from 0.09465\n",
            "51/51 [==============================] - 0s 8ms/step - loss: 0.2255 - categorical_accuracy: 0.9282 - val_loss: 0.1354 - val_categorical_accuracy: 0.9601\n",
            "Epoch 51/300\n",
            "46/51 [==========================>...] - ETA: 0s - loss: 0.1766 - categorical_accuracy: 0.9416\n",
            "Epoch 51: val_loss did not improve from 0.09465\n",
            "51/51 [==============================] - 0s 8ms/step - loss: 0.1785 - categorical_accuracy: 0.9432 - val_loss: 0.1206 - val_categorical_accuracy: 0.9576\n",
            "Epoch 52/300\n",
            "46/51 [==========================>...] - ETA: 0s - loss: 0.1587 - categorical_accuracy: 0.9423\n",
            "Epoch 52: val_loss improved from 0.09465 to 0.09451, saving model to audio_classification.hdf5\n",
            "51/51 [==============================] - 0s 10ms/step - loss: 0.1547 - categorical_accuracy: 0.9444 - val_loss: 0.0945 - val_categorical_accuracy: 0.9751\n",
            "Epoch 53/300\n",
            "46/51 [==========================>...] - ETA: 0s - loss: 0.1432 - categorical_accuracy: 0.9558\n",
            "Epoch 53: val_loss did not improve from 0.09451\n",
            "51/51 [==============================] - 0s 9ms/step - loss: 0.1476 - categorical_accuracy: 0.9538 - val_loss: 0.1422 - val_categorical_accuracy: 0.9601\n",
            "Epoch 54/300\n",
            "45/51 [=========================>....] - ETA: 0s - loss: 0.1923 - categorical_accuracy: 0.9403\n",
            "Epoch 54: val_loss improved from 0.09451 to 0.09186, saving model to audio_classification.hdf5\n",
            "51/51 [==============================] - 1s 10ms/step - loss: 0.1827 - categorical_accuracy: 0.9438 - val_loss: 0.0919 - val_categorical_accuracy: 0.9776\n",
            "Epoch 55/300\n",
            "47/51 [==========================>...] - ETA: 0s - loss: 0.1455 - categorical_accuracy: 0.9528\n",
            "Epoch 55: val_loss did not improve from 0.09186\n",
            "51/51 [==============================] - 0s 10ms/step - loss: 0.1600 - categorical_accuracy: 0.9482 - val_loss: 0.2038 - val_categorical_accuracy: 0.9451\n",
            "Epoch 56/300\n",
            "51/51 [==============================] - ETA: 0s - loss: 0.1384 - categorical_accuracy: 0.9563\n",
            "Epoch 56: val_loss did not improve from 0.09186\n",
            "51/51 [==============================] - 0s 9ms/step - loss: 0.1384 - categorical_accuracy: 0.9563 - val_loss: 0.1277 - val_categorical_accuracy: 0.9701\n",
            "Epoch 57/300\n",
            "50/51 [============================>.] - ETA: 0s - loss: 0.1575 - categorical_accuracy: 0.9469\n",
            "Epoch 57: val_loss did not improve from 0.09186\n",
            "51/51 [==============================] - 0s 9ms/step - loss: 0.1574 - categorical_accuracy: 0.9469 - val_loss: 0.1101 - val_categorical_accuracy: 0.9651\n",
            "Epoch 58/300\n",
            "50/51 [============================>.] - ETA: 0s - loss: 0.1397 - categorical_accuracy: 0.9594\n",
            "Epoch 58: val_loss did not improve from 0.09186\n",
            "51/51 [==============================] - 0s 9ms/step - loss: 0.1406 - categorical_accuracy: 0.9588 - val_loss: 0.0932 - val_categorical_accuracy: 0.9676\n",
            "Epoch 59/300\n",
            "45/51 [=========================>....] - ETA: 0s - loss: 0.2781 - categorical_accuracy: 0.9222\n",
            "Epoch 59: val_loss did not improve from 0.09186\n",
            "51/51 [==============================] - 0s 9ms/step - loss: 0.2631 - categorical_accuracy: 0.9250 - val_loss: 0.1820 - val_categorical_accuracy: 0.9576\n",
            "Epoch 60/300\n",
            "51/51 [==============================] - ETA: 0s - loss: 0.1694 - categorical_accuracy: 0.9482\n",
            "Epoch 60: val_loss did not improve from 0.09186\n",
            "51/51 [==============================] - 0s 9ms/step - loss: 0.1694 - categorical_accuracy: 0.9482 - val_loss: 0.1331 - val_categorical_accuracy: 0.9551\n",
            "Epoch 61/300\n",
            "51/51 [==============================] - ETA: 0s - loss: 0.2748 - categorical_accuracy: 0.9188\n",
            "Epoch 61: val_loss did not improve from 0.09186\n",
            "51/51 [==============================] - 0s 9ms/step - loss: 0.2748 - categorical_accuracy: 0.9188 - val_loss: 0.1787 - val_categorical_accuracy: 0.9377\n",
            "Epoch 62/300\n",
            "44/51 [========================>.....] - ETA: 0s - loss: 0.1605 - categorical_accuracy: 0.9510\n",
            "Epoch 62: val_loss did not improve from 0.09186\n",
            "51/51 [==============================] - 0s 8ms/step - loss: 0.1506 - categorical_accuracy: 0.9538 - val_loss: 0.1132 - val_categorical_accuracy: 0.9626\n",
            "Epoch 63/300\n",
            "46/51 [==========================>...] - ETA: 0s - loss: 0.0945 - categorical_accuracy: 0.9647\n",
            "Epoch 63: val_loss improved from 0.09186 to 0.08836, saving model to audio_classification.hdf5\n",
            "51/51 [==============================] - 1s 10ms/step - loss: 0.0948 - categorical_accuracy: 0.9638 - val_loss: 0.0884 - val_categorical_accuracy: 0.9676\n",
            "Epoch 64/300\n",
            "44/51 [========================>.....] - ETA: 0s - loss: 0.1141 - categorical_accuracy: 0.9581\n",
            "Epoch 64: val_loss did not improve from 0.08836\n",
            "51/51 [==============================] - 0s 9ms/step - loss: 0.1174 - categorical_accuracy: 0.9569 - val_loss: 0.1260 - val_categorical_accuracy: 0.9651\n",
            "Epoch 65/300\n",
            "46/51 [==========================>...] - ETA: 0s - loss: 0.1345 - categorical_accuracy: 0.9552\n",
            "Epoch 65: val_loss improved from 0.08836 to 0.07575, saving model to audio_classification.hdf5\n",
            "51/51 [==============================] - 1s 10ms/step - loss: 0.1330 - categorical_accuracy: 0.9557 - val_loss: 0.0757 - val_categorical_accuracy: 0.9651\n",
            "Epoch 66/300\n",
            "48/51 [===========================>..] - ETA: 0s - loss: 0.0890 - categorical_accuracy: 0.9759\n",
            "Epoch 66: val_loss did not improve from 0.07575\n",
            "51/51 [==============================] - 0s 9ms/step - loss: 0.0894 - categorical_accuracy: 0.9750 - val_loss: 0.0788 - val_categorical_accuracy: 0.9651\n",
            "Epoch 67/300\n",
            "44/51 [========================>.....] - ETA: 0s - loss: 0.0881 - categorical_accuracy: 0.9695\n",
            "Epoch 67: val_loss did not improve from 0.07575\n",
            "51/51 [==============================] - 0s 9ms/step - loss: 0.0865 - categorical_accuracy: 0.9700 - val_loss: 0.1415 - val_categorical_accuracy: 0.9601\n",
            "Epoch 68/300\n",
            "50/51 [============================>.] - ETA: 0s - loss: 0.0988 - categorical_accuracy: 0.9688\n",
            "Epoch 68: val_loss did not improve from 0.07575\n",
            "51/51 [==============================] - 0s 9ms/step - loss: 0.0987 - categorical_accuracy: 0.9688 - val_loss: 0.1023 - val_categorical_accuracy: 0.9651\n",
            "Epoch 69/300\n",
            "45/51 [=========================>....] - ETA: 0s - loss: 0.0941 - categorical_accuracy: 0.9743\n",
            "Epoch 69: val_loss did not improve from 0.07575\n",
            "51/51 [==============================] - 0s 8ms/step - loss: 0.0889 - categorical_accuracy: 0.9763 - val_loss: 0.0851 - val_categorical_accuracy: 0.9776\n",
            "Epoch 70/300\n",
            "45/51 [=========================>....] - ETA: 0s - loss: 0.1050 - categorical_accuracy: 0.9667\n",
            "Epoch 70: val_loss did not improve from 0.07575\n",
            "51/51 [==============================] - 0s 8ms/step - loss: 0.1001 - categorical_accuracy: 0.9675 - val_loss: 0.1117 - val_categorical_accuracy: 0.9701\n",
            "Epoch 71/300\n",
            "46/51 [==========================>...] - ETA: 0s - loss: 0.1289 - categorical_accuracy: 0.9572\n",
            "Epoch 71: val_loss did not improve from 0.07575\n",
            "51/51 [==============================] - 0s 9ms/step - loss: 0.1331 - categorical_accuracy: 0.9557 - val_loss: 0.0893 - val_categorical_accuracy: 0.9751\n",
            "Epoch 72/300\n",
            "47/51 [==========================>...] - ETA: 0s - loss: 0.1117 - categorical_accuracy: 0.9681\n",
            "Epoch 72: val_loss improved from 0.07575 to 0.06014, saving model to audio_classification.hdf5\n",
            "51/51 [==============================] - 0s 10ms/step - loss: 0.1084 - categorical_accuracy: 0.9688 - val_loss: 0.0601 - val_categorical_accuracy: 0.9825\n",
            "Epoch 73/300\n",
            "46/51 [==========================>...] - ETA: 0s - loss: 0.0676 - categorical_accuracy: 0.9796\n",
            "Epoch 73: val_loss did not improve from 0.06014\n",
            "51/51 [==============================] - 0s 8ms/step - loss: 0.0662 - categorical_accuracy: 0.9800 - val_loss: 0.0777 - val_categorical_accuracy: 0.9800\n",
            "Epoch 74/300\n",
            "45/51 [=========================>....] - ETA: 0s - loss: 0.0865 - categorical_accuracy: 0.9722\n",
            "Epoch 74: val_loss did not improve from 0.06014\n",
            "51/51 [==============================] - 0s 9ms/step - loss: 0.0844 - categorical_accuracy: 0.9731 - val_loss: 0.0775 - val_categorical_accuracy: 0.9726\n",
            "Epoch 75/300\n",
            "50/51 [============================>.] - ETA: 0s - loss: 0.0847 - categorical_accuracy: 0.9737\n",
            "Epoch 75: val_loss improved from 0.06014 to 0.04723, saving model to audio_classification.hdf5\n",
            "51/51 [==============================] - 1s 10ms/step - loss: 0.0846 - categorical_accuracy: 0.9738 - val_loss: 0.0472 - val_categorical_accuracy: 0.9850\n",
            "Epoch 76/300\n",
            "51/51 [==============================] - ETA: 0s - loss: 0.0831 - categorical_accuracy: 0.9663\n",
            "Epoch 76: val_loss did not improve from 0.04723\n",
            "51/51 [==============================] - 0s 9ms/step - loss: 0.0831 - categorical_accuracy: 0.9663 - val_loss: 0.1008 - val_categorical_accuracy: 0.9800\n",
            "Epoch 77/300\n",
            "50/51 [============================>.] - ETA: 0s - loss: 0.0760 - categorical_accuracy: 0.9775\n",
            "Epoch 77: val_loss did not improve from 0.04723\n",
            "51/51 [==============================] - 0s 9ms/step - loss: 0.0759 - categorical_accuracy: 0.9775 - val_loss: 0.0703 - val_categorical_accuracy: 0.9800\n",
            "Epoch 78/300\n",
            "51/51 [==============================] - ETA: 0s - loss: 0.1132 - categorical_accuracy: 0.9681\n",
            "Epoch 78: val_loss did not improve from 0.04723\n",
            "51/51 [==============================] - 0s 8ms/step - loss: 0.1132 - categorical_accuracy: 0.9681 - val_loss: 0.1624 - val_categorical_accuracy: 0.9501\n",
            "Epoch 79/300\n",
            "44/51 [========================>.....] - ETA: 0s - loss: 0.1118 - categorical_accuracy: 0.9695\n",
            "Epoch 79: val_loss did not improve from 0.04723\n",
            "51/51 [==============================] - 0s 8ms/step - loss: 0.1066 - categorical_accuracy: 0.9700 - val_loss: 0.1071 - val_categorical_accuracy: 0.9701\n",
            "Epoch 80/300\n",
            "45/51 [=========================>....] - ETA: 0s - loss: 0.0871 - categorical_accuracy: 0.9660\n",
            "Epoch 80: val_loss did not improve from 0.04723\n",
            "51/51 [==============================] - 0s 8ms/step - loss: 0.0875 - categorical_accuracy: 0.9656 - val_loss: 0.1075 - val_categorical_accuracy: 0.9626\n",
            "Epoch 81/300\n",
            "50/51 [============================>.] - ETA: 0s - loss: 0.0941 - categorical_accuracy: 0.9725\n",
            "Epoch 81: val_loss did not improve from 0.04723\n",
            "51/51 [==============================] - 0s 9ms/step - loss: 0.0944 - categorical_accuracy: 0.9725 - val_loss: 0.0731 - val_categorical_accuracy: 0.9751\n",
            "Epoch 82/300\n",
            "50/51 [============================>.] - ETA: 0s - loss: 0.1438 - categorical_accuracy: 0.9569\n",
            "Epoch 82: val_loss did not improve from 0.04723\n",
            "51/51 [==============================] - 0s 9ms/step - loss: 0.1437 - categorical_accuracy: 0.9569 - val_loss: 0.1140 - val_categorical_accuracy: 0.9726\n",
            "Epoch 83/300\n",
            "49/51 [===========================>..] - ETA: 0s - loss: 0.0904 - categorical_accuracy: 0.9732\n",
            "Epoch 83: val_loss did not improve from 0.04723\n",
            "51/51 [==============================] - 0s 9ms/step - loss: 0.0900 - categorical_accuracy: 0.9731 - val_loss: 0.1272 - val_categorical_accuracy: 0.9776\n",
            "Epoch 84/300\n",
            "50/51 [============================>.] - ETA: 0s - loss: 0.1185 - categorical_accuracy: 0.9719\n",
            "Epoch 84: val_loss did not improve from 0.04723\n",
            "51/51 [==============================] - 0s 9ms/step - loss: 0.1184 - categorical_accuracy: 0.9719 - val_loss: 0.0688 - val_categorical_accuracy: 0.9825\n",
            "Epoch 85/300\n",
            "47/51 [==========================>...] - ETA: 0s - loss: 0.0762 - categorical_accuracy: 0.9794\n",
            "Epoch 85: val_loss did not improve from 0.04723\n",
            "51/51 [==============================] - 0s 8ms/step - loss: 0.0766 - categorical_accuracy: 0.9794 - val_loss: 0.1317 - val_categorical_accuracy: 0.9526\n",
            "Epoch 86/300\n",
            "49/51 [===========================>..] - ETA: 0s - loss: 0.0973 - categorical_accuracy: 0.9758\n",
            "Epoch 86: val_loss did not improve from 0.04723\n",
            "51/51 [==============================] - 1s 10ms/step - loss: 0.0975 - categorical_accuracy: 0.9750 - val_loss: 0.1038 - val_categorical_accuracy: 0.9701\n",
            "Epoch 87/300\n",
            "49/51 [===========================>..] - ETA: 0s - loss: 0.0727 - categorical_accuracy: 0.9796\n",
            "Epoch 87: val_loss did not improve from 0.04723\n",
            "51/51 [==============================] - 0s 9ms/step - loss: 0.0741 - categorical_accuracy: 0.9794 - val_loss: 0.0861 - val_categorical_accuracy: 0.9751\n",
            "Epoch 88/300\n",
            "48/51 [===========================>..] - ETA: 0s - loss: 0.0970 - categorical_accuracy: 0.9681\n",
            "Epoch 88: val_loss did not improve from 0.04723\n",
            "51/51 [==============================] - 0s 10ms/step - loss: 0.0974 - categorical_accuracy: 0.9681 - val_loss: 0.1833 - val_categorical_accuracy: 0.9526\n",
            "Epoch 89/300\n",
            "49/51 [===========================>..] - ETA: 0s - loss: 0.1438 - categorical_accuracy: 0.9636\n",
            "Epoch 89: val_loss did not improve from 0.04723\n",
            "51/51 [==============================] - 0s 9ms/step - loss: 0.1415 - categorical_accuracy: 0.9644 - val_loss: 0.1037 - val_categorical_accuracy: 0.9701\n",
            "Epoch 90/300\n",
            "50/51 [============================>.] - ETA: 0s - loss: 0.0945 - categorical_accuracy: 0.9688\n",
            "Epoch 90: val_loss did not improve from 0.04723\n",
            "51/51 [==============================] - 0s 9ms/step - loss: 0.0944 - categorical_accuracy: 0.9688 - val_loss: 0.0800 - val_categorical_accuracy: 0.9776\n",
            "Epoch 91/300\n",
            "46/51 [==========================>...] - ETA: 0s - loss: 0.0852 - categorical_accuracy: 0.9749\n",
            "Epoch 91: val_loss did not improve from 0.04723\n",
            "51/51 [==============================] - 0s 8ms/step - loss: 0.0858 - categorical_accuracy: 0.9756 - val_loss: 0.1135 - val_categorical_accuracy: 0.9676\n",
            "Epoch 92/300\n",
            "48/51 [===========================>..] - ETA: 0s - loss: 0.0846 - categorical_accuracy: 0.9746\n",
            "Epoch 92: val_loss did not improve from 0.04723\n",
            "51/51 [==============================] - 0s 9ms/step - loss: 0.0855 - categorical_accuracy: 0.9744 - val_loss: 0.0949 - val_categorical_accuracy: 0.9676\n",
            "Epoch 93/300\n",
            "46/51 [==========================>...] - ETA: 0s - loss: 0.0946 - categorical_accuracy: 0.9681\n",
            "Epoch 93: val_loss did not improve from 0.04723\n",
            "51/51 [==============================] - 1s 10ms/step - loss: 0.0986 - categorical_accuracy: 0.9675 - val_loss: 0.1792 - val_categorical_accuracy: 0.9651\n",
            "Epoch 94/300\n",
            "45/51 [=========================>....] - ETA: 0s - loss: 0.0913 - categorical_accuracy: 0.9715\n",
            "Epoch 94: val_loss did not improve from 0.04723\n",
            "51/51 [==============================] - 0s 8ms/step - loss: 0.0876 - categorical_accuracy: 0.9719 - val_loss: 0.1029 - val_categorical_accuracy: 0.9701\n",
            "Epoch 95/300\n",
            "47/51 [==========================>...] - ETA: 0s - loss: 0.0915 - categorical_accuracy: 0.9754\n",
            "Epoch 95: val_loss did not improve from 0.04723\n",
            "51/51 [==============================] - 0s 8ms/step - loss: 0.0904 - categorical_accuracy: 0.9756 - val_loss: 0.1298 - val_categorical_accuracy: 0.9651\n",
            "Epoch 96/300\n",
            "50/51 [============================>.] - ETA: 0s - loss: 0.0960 - categorical_accuracy: 0.9719\n",
            "Epoch 96: val_loss did not improve from 0.04723\n",
            "51/51 [==============================] - 0s 10ms/step - loss: 0.0959 - categorical_accuracy: 0.9719 - val_loss: 0.0657 - val_categorical_accuracy: 0.9800\n",
            "Epoch 97/300\n",
            "45/51 [=========================>....] - ETA: 0s - loss: 0.0958 - categorical_accuracy: 0.9674\n",
            "Epoch 97: val_loss did not improve from 0.04723\n",
            "51/51 [==============================] - 0s 9ms/step - loss: 0.0929 - categorical_accuracy: 0.9694 - val_loss: 0.0897 - val_categorical_accuracy: 0.9701\n",
            "Epoch 98/300\n",
            "47/51 [==========================>...] - ETA: 0s - loss: 0.0648 - categorical_accuracy: 0.9807\n",
            "Epoch 98: val_loss did not improve from 0.04723\n",
            "51/51 [==============================] - 1s 10ms/step - loss: 0.0662 - categorical_accuracy: 0.9794 - val_loss: 0.0898 - val_categorical_accuracy: 0.9776\n",
            "Epoch 99/300\n",
            "45/51 [=========================>....] - ETA: 0s - loss: 0.0711 - categorical_accuracy: 0.9785\n",
            "Epoch 99: val_loss did not improve from 0.04723\n",
            "51/51 [==============================] - 0s 8ms/step - loss: 0.0684 - categorical_accuracy: 0.9781 - val_loss: 0.1283 - val_categorical_accuracy: 0.9676\n",
            "Epoch 100/300\n",
            "46/51 [==========================>...] - ETA: 0s - loss: 0.0730 - categorical_accuracy: 0.9762\n",
            "Epoch 100: val_loss did not improve from 0.04723\n",
            "51/51 [==============================] - 0s 9ms/step - loss: 0.0732 - categorical_accuracy: 0.9756 - val_loss: 0.0627 - val_categorical_accuracy: 0.9850\n",
            "Epoch 101/300\n",
            "48/51 [===========================>..] - ETA: 0s - loss: 0.0741 - categorical_accuracy: 0.9824\n",
            "Epoch 101: val_loss did not improve from 0.04723\n",
            "51/51 [==============================] - 0s 10ms/step - loss: 0.0728 - categorical_accuracy: 0.9825 - val_loss: 0.1348 - val_categorical_accuracy: 0.9626\n",
            "Epoch 102/300\n",
            "47/51 [==========================>...] - ETA: 0s - loss: 0.1170 - categorical_accuracy: 0.9648\n",
            "Epoch 102: val_loss did not improve from 0.04723\n",
            "51/51 [==============================] - 0s 8ms/step - loss: 0.1142 - categorical_accuracy: 0.9644 - val_loss: 0.0949 - val_categorical_accuracy: 0.9651\n",
            "Epoch 103/300\n",
            "50/51 [============================>.] - ETA: 0s - loss: 0.0980 - categorical_accuracy: 0.9756\n",
            "Epoch 103: val_loss did not improve from 0.04723\n",
            "51/51 [==============================] - 0s 9ms/step - loss: 0.0979 - categorical_accuracy: 0.9756 - val_loss: 0.1074 - val_categorical_accuracy: 0.9676\n",
            "Epoch 104/300\n",
            "47/51 [==========================>...] - ETA: 0s - loss: 0.0754 - categorical_accuracy: 0.9747\n",
            "Epoch 104: val_loss did not improve from 0.04723\n",
            "51/51 [==============================] - 0s 9ms/step - loss: 0.0776 - categorical_accuracy: 0.9731 - val_loss: 0.0598 - val_categorical_accuracy: 0.9825\n",
            "Epoch 105/300\n",
            "47/51 [==========================>...] - ETA: 0s - loss: 0.0508 - categorical_accuracy: 0.9840\n",
            "Epoch 105: val_loss did not improve from 0.04723\n",
            "51/51 [==============================] - 0s 9ms/step - loss: 0.0502 - categorical_accuracy: 0.9844 - val_loss: 0.1101 - val_categorical_accuracy: 0.9751\n",
            "Epoch 106/300\n",
            "44/51 [========================>.....] - ETA: 0s - loss: 0.0676 - categorical_accuracy: 0.9787\n",
            "Epoch 106: val_loss did not improve from 0.04723\n",
            "51/51 [==============================] - 0s 9ms/step - loss: 0.0690 - categorical_accuracy: 0.9781 - val_loss: 0.2238 - val_categorical_accuracy: 0.9651\n",
            "Epoch 107/300\n",
            "46/51 [==========================>...] - ETA: 0s - loss: 0.1215 - categorical_accuracy: 0.9694\n",
            "Epoch 107: val_loss did not improve from 0.04723\n",
            "51/51 [==============================] - 0s 8ms/step - loss: 0.1196 - categorical_accuracy: 0.9706 - val_loss: 0.1461 - val_categorical_accuracy: 0.9426\n",
            "Epoch 108/300\n",
            "44/51 [========================>.....] - ETA: 0s - loss: 0.0796 - categorical_accuracy: 0.9709\n",
            "Epoch 108: val_loss did not improve from 0.04723\n",
            "51/51 [==============================] - 0s 8ms/step - loss: 0.0776 - categorical_accuracy: 0.9713 - val_loss: 0.1016 - val_categorical_accuracy: 0.9726\n",
            "Epoch 109/300\n",
            "49/51 [===========================>..] - ETA: 0s - loss: 0.0643 - categorical_accuracy: 0.9802\n",
            "Epoch 109: val_loss did not improve from 0.04723\n",
            "51/51 [==============================] - 0s 9ms/step - loss: 0.0631 - categorical_accuracy: 0.9806 - val_loss: 0.1281 - val_categorical_accuracy: 0.9651\n",
            "Epoch 110/300\n",
            "45/51 [=========================>....] - ETA: 0s - loss: 0.0673 - categorical_accuracy: 0.9819\n",
            "Epoch 110: val_loss did not improve from 0.04723\n",
            "51/51 [==============================] - 0s 9ms/step - loss: 0.0630 - categorical_accuracy: 0.9819 - val_loss: 0.0690 - val_categorical_accuracy: 0.9776\n",
            "Epoch 111/300\n",
            "46/51 [==========================>...] - ETA: 0s - loss: 0.0743 - categorical_accuracy: 0.9789\n",
            "Epoch 111: val_loss did not improve from 0.04723\n",
            "51/51 [==============================] - 0s 8ms/step - loss: 0.0695 - categorical_accuracy: 0.9806 - val_loss: 0.0944 - val_categorical_accuracy: 0.9800\n",
            "Epoch 112/300\n",
            "45/51 [=========================>....] - ETA: 0s - loss: 0.0671 - categorical_accuracy: 0.9743\n",
            "Epoch 112: val_loss did not improve from 0.04723\n",
            "51/51 [==============================] - 0s 9ms/step - loss: 0.0652 - categorical_accuracy: 0.9756 - val_loss: 0.0834 - val_categorical_accuracy: 0.9776\n",
            "Epoch 113/300\n",
            "50/51 [============================>.] - ETA: 0s - loss: 0.0928 - categorical_accuracy: 0.9725\n",
            "Epoch 113: val_loss did not improve from 0.04723\n",
            "51/51 [==============================] - 0s 9ms/step - loss: 0.0927 - categorical_accuracy: 0.9725 - val_loss: 0.0867 - val_categorical_accuracy: 0.9776\n",
            "Epoch 114/300\n",
            "50/51 [============================>.] - ETA: 0s - loss: 0.0661 - categorical_accuracy: 0.9806\n",
            "Epoch 114: val_loss did not improve from 0.04723\n",
            "51/51 [==============================] - 0s 9ms/step - loss: 0.0661 - categorical_accuracy: 0.9806 - val_loss: 0.0685 - val_categorical_accuracy: 0.9726\n",
            "Epoch 115/300\n",
            "45/51 [=========================>....] - ETA: 0s - loss: 0.0904 - categorical_accuracy: 0.9736\n",
            "Epoch 115: val_loss did not improve from 0.04723\n",
            "51/51 [==============================] - 0s 8ms/step - loss: 0.0935 - categorical_accuracy: 0.9725 - val_loss: 0.0806 - val_categorical_accuracy: 0.9776\n",
            "Epoch 116/300\n",
            "44/51 [========================>.....] - ETA: 0s - loss: 0.0618 - categorical_accuracy: 0.9822\n",
            "Epoch 116: val_loss did not improve from 0.04723\n",
            "51/51 [==============================] - 0s 9ms/step - loss: 0.0579 - categorical_accuracy: 0.9831 - val_loss: 0.0860 - val_categorical_accuracy: 0.9800\n",
            "Epoch 117/300\n",
            "51/51 [==============================] - ETA: 0s - loss: 0.0621 - categorical_accuracy: 0.9813\n",
            "Epoch 117: val_loss did not improve from 0.04723\n",
            "51/51 [==============================] - 0s 9ms/step - loss: 0.0621 - categorical_accuracy: 0.9813 - val_loss: 0.0851 - val_categorical_accuracy: 0.9751\n",
            "Epoch 118/300\n",
            "51/51 [==============================] - ETA: 0s - loss: 0.1364 - categorical_accuracy: 0.9681\n",
            "Epoch 118: val_loss did not improve from 0.04723\n",
            "51/51 [==============================] - 0s 9ms/step - loss: 0.1364 - categorical_accuracy: 0.9681 - val_loss: 0.0955 - val_categorical_accuracy: 0.9726\n",
            "Epoch 119/300\n",
            "48/51 [===========================>..] - ETA: 0s - loss: 0.0851 - categorical_accuracy: 0.9740\n",
            "Epoch 119: val_loss did not improve from 0.04723\n",
            "51/51 [==============================] - 0s 9ms/step - loss: 0.0827 - categorical_accuracy: 0.9744 - val_loss: 0.0854 - val_categorical_accuracy: 0.9800\n",
            "Epoch 120/300\n",
            "47/51 [==========================>...] - ETA: 0s - loss: 0.0504 - categorical_accuracy: 0.9840\n",
            "Epoch 120: val_loss did not improve from 0.04723\n",
            "51/51 [==============================] - 0s 9ms/step - loss: 0.0500 - categorical_accuracy: 0.9838 - val_loss: 0.0658 - val_categorical_accuracy: 0.9800\n",
            "Epoch 121/300\n",
            "45/51 [=========================>....] - ETA: 0s - loss: 0.0783 - categorical_accuracy: 0.9757\n",
            "Epoch 121: val_loss did not improve from 0.04723\n",
            "51/51 [==============================] - 1s 10ms/step - loss: 0.0843 - categorical_accuracy: 0.9744 - val_loss: 0.1400 - val_categorical_accuracy: 0.9651\n",
            "Epoch 122/300\n",
            "46/51 [==========================>...] - ETA: 0s - loss: 0.0992 - categorical_accuracy: 0.9647\n",
            "Epoch 122: val_loss did not improve from 0.04723\n",
            "51/51 [==============================] - 0s 9ms/step - loss: 0.0949 - categorical_accuracy: 0.9656 - val_loss: 0.0833 - val_categorical_accuracy: 0.9800\n",
            "Epoch 123/300\n",
            "46/51 [==========================>...] - ETA: 0s - loss: 0.0688 - categorical_accuracy: 0.9823\n",
            "Epoch 123: val_loss did not improve from 0.04723\n",
            "51/51 [==============================] - 0s 10ms/step - loss: 0.0667 - categorical_accuracy: 0.9825 - val_loss: 0.1279 - val_categorical_accuracy: 0.9676\n",
            "Epoch 124/300\n",
            "46/51 [==========================>...] - ETA: 0s - loss: 0.0703 - categorical_accuracy: 0.9817\n",
            "Epoch 124: val_loss did not improve from 0.04723\n",
            "51/51 [==============================] - 0s 9ms/step - loss: 0.0680 - categorical_accuracy: 0.9813 - val_loss: 0.0803 - val_categorical_accuracy: 0.9776\n",
            "Epoch 125/300\n",
            "46/51 [==========================>...] - ETA: 0s - loss: 0.0672 - categorical_accuracy: 0.9776\n",
            "Epoch 125: val_loss did not improve from 0.04723\n",
            "51/51 [==============================] - 0s 10ms/step - loss: 0.0725 - categorical_accuracy: 0.9769 - val_loss: 0.1555 - val_categorical_accuracy: 0.9651\n",
            "Epoch 126/300\n",
            "48/51 [===========================>..] - ETA: 0s - loss: 0.1284 - categorical_accuracy: 0.9694\n",
            "Epoch 126: val_loss did not improve from 0.04723\n",
            "51/51 [==============================] - 0s 9ms/step - loss: 0.1270 - categorical_accuracy: 0.9694 - val_loss: 0.1167 - val_categorical_accuracy: 0.9751\n",
            "Epoch 127/300\n",
            "45/51 [=========================>....] - ETA: 0s - loss: 0.0696 - categorical_accuracy: 0.9812\n",
            "Epoch 127: val_loss improved from 0.04723 to 0.03783, saving model to audio_classification.hdf5\n",
            "51/51 [==============================] - 1s 15ms/step - loss: 0.0687 - categorical_accuracy: 0.9806 - val_loss: 0.0378 - val_categorical_accuracy: 0.9900\n",
            "Epoch 128/300\n",
            "49/51 [===========================>..] - ETA: 0s - loss: 0.0431 - categorical_accuracy: 0.9860\n",
            "Epoch 128: val_loss did not improve from 0.03783\n",
            "51/51 [==============================] - 1s 12ms/step - loss: 0.0423 - categorical_accuracy: 0.9863 - val_loss: 0.0487 - val_categorical_accuracy: 0.9800\n",
            "Epoch 129/300\n",
            "51/51 [==============================] - ETA: 0s - loss: 0.0638 - categorical_accuracy: 0.9781\n",
            "Epoch 129: val_loss did not improve from 0.03783\n",
            "51/51 [==============================] - 1s 10ms/step - loss: 0.0638 - categorical_accuracy: 0.9781 - val_loss: 0.1029 - val_categorical_accuracy: 0.9776\n",
            "Epoch 130/300\n",
            "49/51 [===========================>..] - ETA: 0s - loss: 0.0505 - categorical_accuracy: 0.9879\n",
            "Epoch 130: val_loss did not improve from 0.03783\n",
            "51/51 [==============================] - 1s 10ms/step - loss: 0.0495 - categorical_accuracy: 0.9881 - val_loss: 0.0563 - val_categorical_accuracy: 0.9825\n",
            "Epoch 131/300\n",
            "45/51 [=========================>....] - ETA: 0s - loss: 0.0674 - categorical_accuracy: 0.9826\n",
            "Epoch 131: val_loss did not improve from 0.03783\n",
            "51/51 [==============================] - 0s 9ms/step - loss: 0.0777 - categorical_accuracy: 0.9813 - val_loss: 0.0936 - val_categorical_accuracy: 0.9701\n",
            "Epoch 132/300\n",
            "50/51 [============================>.] - ETA: 0s - loss: 0.0798 - categorical_accuracy: 0.9744\n",
            "Epoch 132: val_loss did not improve from 0.03783\n",
            "51/51 [==============================] - 1s 10ms/step - loss: 0.0798 - categorical_accuracy: 0.9744 - val_loss: 0.2725 - val_categorical_accuracy: 0.9576\n",
            "Epoch 133/300\n",
            "51/51 [==============================] - ETA: 0s - loss: 0.0782 - categorical_accuracy: 0.9756\n",
            "Epoch 133: val_loss did not improve from 0.03783\n",
            "51/51 [==============================] - 1s 10ms/step - loss: 0.0782 - categorical_accuracy: 0.9756 - val_loss: 0.1032 - val_categorical_accuracy: 0.9751\n",
            "Epoch 134/300\n",
            "48/51 [===========================>..] - ETA: 0s - loss: 0.1392 - categorical_accuracy: 0.9648\n",
            "Epoch 134: val_loss did not improve from 0.03783\n",
            "51/51 [==============================] - 0s 9ms/step - loss: 0.1412 - categorical_accuracy: 0.9650 - val_loss: 0.1714 - val_categorical_accuracy: 0.9551\n",
            "Epoch 135/300\n",
            "48/51 [===========================>..] - ETA: 0s - loss: 0.1134 - categorical_accuracy: 0.9609\n",
            "Epoch 135: val_loss did not improve from 0.03783\n",
            "51/51 [==============================] - 1s 10ms/step - loss: 0.1094 - categorical_accuracy: 0.9625 - val_loss: 0.1172 - val_categorical_accuracy: 0.9651\n",
            "Epoch 136/300\n",
            "49/51 [===========================>..] - ETA: 0s - loss: 0.0621 - categorical_accuracy: 0.9796\n",
            "Epoch 136: val_loss did not improve from 0.03783\n",
            "51/51 [==============================] - 0s 9ms/step - loss: 0.0611 - categorical_accuracy: 0.9800 - val_loss: 0.0592 - val_categorical_accuracy: 0.9776\n",
            "Epoch 137/300\n",
            "46/51 [==========================>...] - ETA: 0s - loss: 0.0491 - categorical_accuracy: 0.9885\n",
            "Epoch 137: val_loss did not improve from 0.03783\n",
            "51/51 [==============================] - 0s 9ms/step - loss: 0.0468 - categorical_accuracy: 0.9894 - val_loss: 0.0566 - val_categorical_accuracy: 0.9875\n",
            "Epoch 138/300\n",
            "50/51 [============================>.] - ETA: 0s - loss: 0.0571 - categorical_accuracy: 0.9837\n",
            "Epoch 138: val_loss did not improve from 0.03783\n",
            "51/51 [==============================] - 0s 9ms/step - loss: 0.0571 - categorical_accuracy: 0.9838 - val_loss: 0.0799 - val_categorical_accuracy: 0.9776\n",
            "Epoch 139/300\n",
            "46/51 [==========================>...] - ETA: 0s - loss: 0.0512 - categorical_accuracy: 0.9844\n",
            "Epoch 139: val_loss did not improve from 0.03783\n",
            "51/51 [==============================] - 1s 10ms/step - loss: 0.0520 - categorical_accuracy: 0.9831 - val_loss: 0.1216 - val_categorical_accuracy: 0.9676\n",
            "Epoch 140/300\n",
            "48/51 [===========================>..] - ETA: 0s - loss: 0.0454 - categorical_accuracy: 0.9863\n",
            "Epoch 140: val_loss did not improve from 0.03783\n",
            "51/51 [==============================] - 0s 9ms/step - loss: 0.0442 - categorical_accuracy: 0.9869 - val_loss: 0.1021 - val_categorical_accuracy: 0.9825\n",
            "Epoch 141/300\n",
            "45/51 [=========================>....] - ETA: 0s - loss: 0.0597 - categorical_accuracy: 0.9819\n",
            "Epoch 141: val_loss did not improve from 0.03783\n",
            "51/51 [==============================] - 1s 10ms/step - loss: 0.0599 - categorical_accuracy: 0.9806 - val_loss: 0.0665 - val_categorical_accuracy: 0.9825\n",
            "Epoch 142/300\n",
            "49/51 [===========================>..] - ETA: 0s - loss: 0.0774 - categorical_accuracy: 0.9777\n",
            "Epoch 142: val_loss did not improve from 0.03783\n",
            "51/51 [==============================] - 0s 9ms/step - loss: 0.0771 - categorical_accuracy: 0.9775 - val_loss: 0.1188 - val_categorical_accuracy: 0.9701\n",
            "Epoch 143/300\n",
            "48/51 [===========================>..] - ETA: 0s - loss: 0.0692 - categorical_accuracy: 0.9850\n",
            "Epoch 143: val_loss did not improve from 0.03783\n",
            "51/51 [==============================] - 0s 10ms/step - loss: 0.0742 - categorical_accuracy: 0.9838 - val_loss: 0.1723 - val_categorical_accuracy: 0.9751\n",
            "Epoch 144/300\n",
            "44/51 [========================>.....] - ETA: 0s - loss: 0.0831 - categorical_accuracy: 0.9759\n",
            "Epoch 144: val_loss did not improve from 0.03783\n",
            "51/51 [==============================] - 0s 9ms/step - loss: 0.0837 - categorical_accuracy: 0.9750 - val_loss: 0.0787 - val_categorical_accuracy: 0.9751\n",
            "Epoch 145/300\n",
            "47/51 [==========================>...] - ETA: 0s - loss: 0.0649 - categorical_accuracy: 0.9794\n",
            "Epoch 145: val_loss did not improve from 0.03783\n",
            "51/51 [==============================] - 1s 10ms/step - loss: 0.0621 - categorical_accuracy: 0.9800 - val_loss: 0.0709 - val_categorical_accuracy: 0.9776\n",
            "Epoch 146/300\n",
            "49/51 [===========================>..] - ETA: 0s - loss: 0.0781 - categorical_accuracy: 0.9694\n",
            "Epoch 146: val_loss did not improve from 0.03783\n",
            "51/51 [==============================] - 0s 9ms/step - loss: 0.0768 - categorical_accuracy: 0.9700 - val_loss: 0.1241 - val_categorical_accuracy: 0.9651\n",
            "Epoch 147/300\n",
            "47/51 [==========================>...] - ETA: 0s - loss: 0.0668 - categorical_accuracy: 0.9794\n",
            "Epoch 147: val_loss did not improve from 0.03783\n",
            "51/51 [==============================] - 0s 10ms/step - loss: 0.0649 - categorical_accuracy: 0.9794 - val_loss: 0.0693 - val_categorical_accuracy: 0.9726\n",
            "Epoch 148/300\n",
            "50/51 [============================>.] - ETA: 0s - loss: 0.0442 - categorical_accuracy: 0.9850\n",
            "Epoch 148: val_loss did not improve from 0.03783\n",
            "51/51 [==============================] - 0s 9ms/step - loss: 0.0442 - categorical_accuracy: 0.9850 - val_loss: 0.0390 - val_categorical_accuracy: 0.9875\n",
            "Epoch 149/300\n",
            "48/51 [===========================>..] - ETA: 0s - loss: 0.0593 - categorical_accuracy: 0.9850\n",
            "Epoch 149: val_loss did not improve from 0.03783\n",
            "51/51 [==============================] - 1s 10ms/step - loss: 0.0597 - categorical_accuracy: 0.9850 - val_loss: 0.0837 - val_categorical_accuracy: 0.9751\n",
            "Epoch 150/300\n",
            "49/51 [===========================>..] - ETA: 0s - loss: 0.0543 - categorical_accuracy: 0.9834\n",
            "Epoch 150: val_loss did not improve from 0.03783\n",
            "51/51 [==============================] - 0s 9ms/step - loss: 0.0539 - categorical_accuracy: 0.9831 - val_loss: 0.1540 - val_categorical_accuracy: 0.9751\n",
            "Epoch 151/300\n",
            "46/51 [==========================>...] - ETA: 0s - loss: 0.1461 - categorical_accuracy: 0.9620\n",
            "Epoch 151: val_loss did not improve from 0.03783\n",
            "51/51 [==============================] - 0s 10ms/step - loss: 0.1413 - categorical_accuracy: 0.9625 - val_loss: 0.1213 - val_categorical_accuracy: 0.9676\n",
            "Epoch 152/300\n",
            "47/51 [==========================>...] - ETA: 0s - loss: 0.0616 - categorical_accuracy: 0.9820\n",
            "Epoch 152: val_loss did not improve from 0.03783\n",
            "51/51 [==============================] - 0s 9ms/step - loss: 0.0636 - categorical_accuracy: 0.9806 - val_loss: 0.1229 - val_categorical_accuracy: 0.9751\n",
            "Epoch 153/300\n",
            "46/51 [==========================>...] - ETA: 0s - loss: 0.0905 - categorical_accuracy: 0.9681\n",
            "Epoch 153: val_loss did not improve from 0.03783\n",
            "51/51 [==============================] - 0s 9ms/step - loss: 0.0905 - categorical_accuracy: 0.9681 - val_loss: 0.1348 - val_categorical_accuracy: 0.9676\n",
            "Epoch 154/300\n",
            "49/51 [===========================>..] - ETA: 0s - loss: 0.0828 - categorical_accuracy: 0.9790\n",
            "Epoch 154: val_loss did not improve from 0.03783\n",
            "51/51 [==============================] - 0s 9ms/step - loss: 0.0814 - categorical_accuracy: 0.9794 - val_loss: 0.0951 - val_categorical_accuracy: 0.9825\n",
            "Epoch 155/300\n",
            "48/51 [===========================>..] - ETA: 0s - loss: 0.0308 - categorical_accuracy: 0.9896\n",
            "Epoch 155: val_loss did not improve from 0.03783\n",
            "51/51 [==============================] - 0s 9ms/step - loss: 0.0312 - categorical_accuracy: 0.9894 - val_loss: 0.0859 - val_categorical_accuracy: 0.9850\n",
            "Epoch 156/300\n",
            "45/51 [=========================>....] - ETA: 0s - loss: 0.0586 - categorical_accuracy: 0.9882\n",
            "Epoch 156: val_loss did not improve from 0.03783\n",
            "51/51 [==============================] - 0s 9ms/step - loss: 0.0647 - categorical_accuracy: 0.9875 - val_loss: 0.1617 - val_categorical_accuracy: 0.9676\n",
            "Epoch 157/300\n",
            "49/51 [===========================>..] - ETA: 0s - loss: 0.0615 - categorical_accuracy: 0.9802\n",
            "Epoch 157: val_loss did not improve from 0.03783\n",
            "51/51 [==============================] - 1s 10ms/step - loss: 0.0632 - categorical_accuracy: 0.9800 - val_loss: 0.1162 - val_categorical_accuracy: 0.9825\n",
            "Epoch 158/300\n",
            "48/51 [===========================>..] - ETA: 0s - loss: 0.0476 - categorical_accuracy: 0.9850\n",
            "Epoch 158: val_loss did not improve from 0.03783\n",
            "51/51 [==============================] - 0s 9ms/step - loss: 0.0490 - categorical_accuracy: 0.9844 - val_loss: 0.2208 - val_categorical_accuracy: 0.9751\n",
            "Epoch 159/300\n",
            "49/51 [===========================>..] - ETA: 0s - loss: 0.1133 - categorical_accuracy: 0.9713\n",
            "Epoch 159: val_loss did not improve from 0.03783\n",
            "51/51 [==============================] - 0s 10ms/step - loss: 0.1130 - categorical_accuracy: 0.9713 - val_loss: 0.1108 - val_categorical_accuracy: 0.9701\n",
            "Epoch 160/300\n",
            "47/51 [==========================>...] - ETA: 0s - loss: 0.0697 - categorical_accuracy: 0.9801\n",
            "Epoch 160: val_loss did not improve from 0.03783\n",
            "51/51 [==============================] - 0s 9ms/step - loss: 0.0668 - categorical_accuracy: 0.9813 - val_loss: 0.1670 - val_categorical_accuracy: 0.9601\n",
            "Epoch 161/300\n",
            "50/51 [============================>.] - ETA: 0s - loss: 0.0628 - categorical_accuracy: 0.9825\n",
            "Epoch 161: val_loss did not improve from 0.03783\n",
            "51/51 [==============================] - 0s 9ms/step - loss: 0.0628 - categorical_accuracy: 0.9825 - val_loss: 0.0830 - val_categorical_accuracy: 0.9726\n",
            "Epoch 162/300\n",
            "48/51 [===========================>..] - ETA: 0s - loss: 0.0455 - categorical_accuracy: 0.9837\n",
            "Epoch 162: val_loss did not improve from 0.03783\n",
            "51/51 [==============================] - 0s 9ms/step - loss: 0.0439 - categorical_accuracy: 0.9844 - val_loss: 0.1150 - val_categorical_accuracy: 0.9825\n",
            "Epoch 163/300\n",
            "48/51 [===========================>..] - ETA: 0s - loss: 0.0887 - categorical_accuracy: 0.9779\n",
            "Epoch 163: val_loss did not improve from 0.03783\n",
            "51/51 [==============================] - 0s 9ms/step - loss: 0.0863 - categorical_accuracy: 0.9788 - val_loss: 0.0968 - val_categorical_accuracy: 0.9701\n",
            "Epoch 164/300\n",
            "47/51 [==========================>...] - ETA: 0s - loss: 0.0559 - categorical_accuracy: 0.9807\n",
            "Epoch 164: val_loss did not improve from 0.03783\n",
            "51/51 [==============================] - 1s 10ms/step - loss: 0.0534 - categorical_accuracy: 0.9819 - val_loss: 0.1002 - val_categorical_accuracy: 0.9751\n",
            "Epoch 165/300\n",
            "48/51 [===========================>..] - ETA: 0s - loss: 0.1454 - categorical_accuracy: 0.9688\n",
            "Epoch 165: val_loss did not improve from 0.03783\n",
            "51/51 [==============================] - 1s 11ms/step - loss: 0.1438 - categorical_accuracy: 0.9675 - val_loss: 0.1256 - val_categorical_accuracy: 0.9626\n",
            "Epoch 166/300\n",
            "46/51 [==========================>...] - ETA: 0s - loss: 0.1081 - categorical_accuracy: 0.9735\n",
            "Epoch 166: val_loss did not improve from 0.03783\n",
            "51/51 [==============================] - 1s 10ms/step - loss: 0.1074 - categorical_accuracy: 0.9738 - val_loss: 0.1214 - val_categorical_accuracy: 0.9651\n",
            "Epoch 167/300\n",
            "47/51 [==========================>...] - ETA: 0s - loss: 0.0722 - categorical_accuracy: 0.9814\n",
            "Epoch 167: val_loss did not improve from 0.03783\n",
            "51/51 [==============================] - 1s 10ms/step - loss: 0.0691 - categorical_accuracy: 0.9819 - val_loss: 0.2696 - val_categorical_accuracy: 0.9401\n",
            "Epoch 168/300\n",
            "48/51 [===========================>..] - ETA: 0s - loss: 0.1016 - categorical_accuracy: 0.9707\n",
            "Epoch 168: val_loss did not improve from 0.03783\n",
            "51/51 [==============================] - 0s 10ms/step - loss: 0.1002 - categorical_accuracy: 0.9706 - val_loss: 0.0907 - val_categorical_accuracy: 0.9751\n",
            "Epoch 169/300\n",
            "49/51 [===========================>..] - ETA: 0s - loss: 0.0603 - categorical_accuracy: 0.9834\n",
            "Epoch 169: val_loss did not improve from 0.03783\n",
            "51/51 [==============================] - 0s 9ms/step - loss: 0.0593 - categorical_accuracy: 0.9838 - val_loss: 0.0981 - val_categorical_accuracy: 0.9726\n",
            "Epoch 170/300\n",
            "45/51 [=========================>....] - ETA: 0s - loss: 0.0753 - categorical_accuracy: 0.9806\n",
            "Epoch 170: val_loss did not improve from 0.03783\n",
            "51/51 [==============================] - 0s 9ms/step - loss: 0.0773 - categorical_accuracy: 0.9800 - val_loss: 0.1571 - val_categorical_accuracy: 0.9576\n",
            "Epoch 171/300\n",
            "51/51 [==============================] - ETA: 0s - loss: 0.0671 - categorical_accuracy: 0.9806\n",
            "Epoch 171: val_loss did not improve from 0.03783\n",
            "51/51 [==============================] - 0s 9ms/step - loss: 0.0671 - categorical_accuracy: 0.9806 - val_loss: 0.0818 - val_categorical_accuracy: 0.9800\n",
            "Epoch 172/300\n",
            "46/51 [==========================>...] - ETA: 0s - loss: 0.0547 - categorical_accuracy: 0.9830\n",
            "Epoch 172: val_loss did not improve from 0.03783\n",
            "51/51 [==============================] - 1s 10ms/step - loss: 0.0520 - categorical_accuracy: 0.9838 - val_loss: 0.1441 - val_categorical_accuracy: 0.9651\n",
            "Epoch 173/300\n",
            "49/51 [===========================>..] - ETA: 0s - loss: 0.0545 - categorical_accuracy: 0.9879\n",
            "Epoch 173: val_loss did not improve from 0.03783\n",
            "51/51 [==============================] - 0s 9ms/step - loss: 0.0543 - categorical_accuracy: 0.9881 - val_loss: 0.1204 - val_categorical_accuracy: 0.9701\n",
            "Epoch 174/300\n",
            "48/51 [===========================>..] - ETA: 0s - loss: 0.0869 - categorical_accuracy: 0.9779\n",
            "Epoch 174: val_loss did not improve from 0.03783\n",
            "51/51 [==============================] - 0s 9ms/step - loss: 0.0986 - categorical_accuracy: 0.9769 - val_loss: 0.0773 - val_categorical_accuracy: 0.9776\n",
            "Epoch 175/300\n",
            "49/51 [===========================>..] - ETA: 0s - loss: 0.3112 - categorical_accuracy: 0.9082\n",
            "Epoch 175: val_loss did not improve from 0.03783\n",
            "51/51 [==============================] - 0s 9ms/step - loss: 0.3078 - categorical_accuracy: 0.9088 - val_loss: 0.1270 - val_categorical_accuracy: 0.9626\n",
            "Epoch 176/300\n",
            "47/51 [==========================>...] - ETA: 0s - loss: 0.0959 - categorical_accuracy: 0.9668\n",
            "Epoch 176: val_loss did not improve from 0.03783\n",
            "51/51 [==============================] - 0s 10ms/step - loss: 0.1042 - categorical_accuracy: 0.9656 - val_loss: 0.0718 - val_categorical_accuracy: 0.9751\n",
            "Epoch 177/300\n",
            "49/51 [===========================>..] - ETA: 0s - loss: 0.0944 - categorical_accuracy: 0.9700\n",
            "Epoch 177: val_loss did not improve from 0.03783\n",
            "51/51 [==============================] - 0s 10ms/step - loss: 0.0930 - categorical_accuracy: 0.9706 - val_loss: 0.0781 - val_categorical_accuracy: 0.9825\n",
            "Epoch 178/300\n",
            "51/51 [==============================] - ETA: 0s - loss: 0.0599 - categorical_accuracy: 0.9813\n",
            "Epoch 178: val_loss did not improve from 0.03783\n",
            "51/51 [==============================] - 1s 10ms/step - loss: 0.0599 - categorical_accuracy: 0.9813 - val_loss: 0.1411 - val_categorical_accuracy: 0.9676\n",
            "Epoch 179/300\n",
            "47/51 [==========================>...] - ETA: 0s - loss: 0.0563 - categorical_accuracy: 0.9834\n",
            "Epoch 179: val_loss did not improve from 0.03783\n",
            "51/51 [==============================] - 1s 10ms/step - loss: 0.0600 - categorical_accuracy: 0.9825 - val_loss: 0.0923 - val_categorical_accuracy: 0.9751\n",
            "Epoch 180/300\n",
            "51/51 [==============================] - ETA: 0s - loss: 0.0449 - categorical_accuracy: 0.9869\n",
            "Epoch 180: val_loss did not improve from 0.03783\n",
            "51/51 [==============================] - 0s 10ms/step - loss: 0.0449 - categorical_accuracy: 0.9869 - val_loss: 0.0562 - val_categorical_accuracy: 0.9850\n",
            "Epoch 181/300\n",
            "47/51 [==========================>...] - ETA: 0s - loss: 0.0819 - categorical_accuracy: 0.9747\n",
            "Epoch 181: val_loss did not improve from 0.03783\n",
            "51/51 [==============================] - 1s 10ms/step - loss: 0.0793 - categorical_accuracy: 0.9750 - val_loss: 0.0645 - val_categorical_accuracy: 0.9776\n",
            "Epoch 182/300\n",
            "47/51 [==========================>...] - ETA: 0s - loss: 0.0426 - categorical_accuracy: 0.9854\n",
            "Epoch 182: val_loss did not improve from 0.03783\n",
            "51/51 [==============================] - 1s 10ms/step - loss: 0.0470 - categorical_accuracy: 0.9850 - val_loss: 0.0831 - val_categorical_accuracy: 0.9751\n",
            "Epoch 183/300\n",
            "51/51 [==============================] - ETA: 0s - loss: 0.0618 - categorical_accuracy: 0.9838\n",
            "Epoch 183: val_loss did not improve from 0.03783\n",
            "51/51 [==============================] - 1s 10ms/step - loss: 0.0618 - categorical_accuracy: 0.9838 - val_loss: 0.1180 - val_categorical_accuracy: 0.9701\n",
            "Epoch 184/300\n",
            "47/51 [==========================>...] - ETA: 0s - loss: 0.0709 - categorical_accuracy: 0.9767\n",
            "Epoch 184: val_loss did not improve from 0.03783\n",
            "51/51 [==============================] - 0s 9ms/step - loss: 0.0828 - categorical_accuracy: 0.9756 - val_loss: 0.0647 - val_categorical_accuracy: 0.9751\n",
            "Epoch 185/300\n",
            "45/51 [=========================>....] - ETA: 0s - loss: 0.1037 - categorical_accuracy: 0.9667\n",
            "Epoch 185: val_loss did not improve from 0.03783\n",
            "51/51 [==============================] - 1s 10ms/step - loss: 0.1037 - categorical_accuracy: 0.9669 - val_loss: 0.1331 - val_categorical_accuracy: 0.9726\n",
            "Epoch 186/300\n",
            "46/51 [==========================>...] - ETA: 0s - loss: 0.1309 - categorical_accuracy: 0.9654\n",
            "Epoch 186: val_loss did not improve from 0.03783\n",
            "51/51 [==============================] - 1s 11ms/step - loss: 0.1239 - categorical_accuracy: 0.9669 - val_loss: 0.0808 - val_categorical_accuracy: 0.9701\n",
            "Epoch 187/300\n",
            "45/51 [=========================>....] - ETA: 0s - loss: 0.0631 - categorical_accuracy: 0.9833\n",
            "Epoch 187: val_loss did not improve from 0.03783\n",
            "51/51 [==============================] - 0s 10ms/step - loss: 0.0619 - categorical_accuracy: 0.9813 - val_loss: 0.1401 - val_categorical_accuracy: 0.9776\n",
            "Epoch 188/300\n",
            "48/51 [===========================>..] - ETA: 0s - loss: 0.0751 - categorical_accuracy: 0.9779\n",
            "Epoch 188: val_loss did not improve from 0.03783\n",
            "51/51 [==============================] - 1s 11ms/step - loss: 0.0727 - categorical_accuracy: 0.9788 - val_loss: 0.0893 - val_categorical_accuracy: 0.9676\n",
            "Epoch 189/300\n",
            "45/51 [=========================>....] - ETA: 0s - loss: 0.0570 - categorical_accuracy: 0.9812\n",
            "Epoch 189: val_loss did not improve from 0.03783\n",
            "51/51 [==============================] - 1s 10ms/step - loss: 0.0591 - categorical_accuracy: 0.9800 - val_loss: 0.0866 - val_categorical_accuracy: 0.9800\n",
            "Epoch 190/300\n",
            "49/51 [===========================>..] - ETA: 0s - loss: 0.0672 - categorical_accuracy: 0.9796\n",
            "Epoch 190: val_loss did not improve from 0.03783\n",
            "51/51 [==============================] - 1s 11ms/step - loss: 0.0670 - categorical_accuracy: 0.9794 - val_loss: 0.1162 - val_categorical_accuracy: 0.9726\n",
            "Epoch 191/300\n",
            "51/51 [==============================] - ETA: 0s - loss: 0.0686 - categorical_accuracy: 0.9831\n",
            "Epoch 191: val_loss did not improve from 0.03783\n",
            "51/51 [==============================] - 1s 10ms/step - loss: 0.0686 - categorical_accuracy: 0.9831 - val_loss: 0.0669 - val_categorical_accuracy: 0.9850\n",
            "Epoch 192/300\n",
            "51/51 [==============================] - ETA: 0s - loss: 0.0295 - categorical_accuracy: 0.9913\n",
            "Epoch 192: val_loss did not improve from 0.03783\n",
            "51/51 [==============================] - 1s 10ms/step - loss: 0.0295 - categorical_accuracy: 0.9913 - val_loss: 0.1105 - val_categorical_accuracy: 0.9800\n",
            "Epoch 193/300\n",
            "49/51 [===========================>..] - ETA: 0s - loss: 0.0611 - categorical_accuracy: 0.9828\n",
            "Epoch 193: val_loss did not improve from 0.03783\n",
            "51/51 [==============================] - 1s 11ms/step - loss: 0.0602 - categorical_accuracy: 0.9831 - val_loss: 0.1305 - val_categorical_accuracy: 0.9701\n",
            "Epoch 194/300\n",
            "46/51 [==========================>...] - ETA: 0s - loss: 0.0690 - categorical_accuracy: 0.9837\n",
            "Epoch 194: val_loss did not improve from 0.03783\n",
            "51/51 [==============================] - 0s 10ms/step - loss: 0.0663 - categorical_accuracy: 0.9838 - val_loss: 0.0676 - val_categorical_accuracy: 0.9850\n",
            "Epoch 195/300\n",
            "51/51 [==============================] - ETA: 0s - loss: 0.0317 - categorical_accuracy: 0.9850\n",
            "Epoch 195: val_loss did not improve from 0.03783\n",
            "51/51 [==============================] - 0s 10ms/step - loss: 0.0317 - categorical_accuracy: 0.9850 - val_loss: 0.1296 - val_categorical_accuracy: 0.9701\n",
            "Epoch 196/300\n",
            "51/51 [==============================] - ETA: 0s - loss: 0.0590 - categorical_accuracy: 0.9875\n",
            "Epoch 196: val_loss did not improve from 0.03783\n",
            "51/51 [==============================] - 0s 10ms/step - loss: 0.0590 - categorical_accuracy: 0.9875 - val_loss: 0.1016 - val_categorical_accuracy: 0.9751\n",
            "Epoch 197/300\n",
            "48/51 [===========================>..] - ETA: 0s - loss: 0.0582 - categorical_accuracy: 0.9818\n",
            "Epoch 197: val_loss did not improve from 0.03783\n",
            "51/51 [==============================] - 0s 9ms/step - loss: 0.0564 - categorical_accuracy: 0.9819 - val_loss: 0.0597 - val_categorical_accuracy: 0.9825\n",
            "Epoch 198/300\n",
            "50/51 [============================>.] - ETA: 0s - loss: 0.0374 - categorical_accuracy: 0.9875\n",
            "Epoch 198: val_loss did not improve from 0.03783\n",
            "51/51 [==============================] - 1s 11ms/step - loss: 0.0374 - categorical_accuracy: 0.9875 - val_loss: 0.1372 - val_categorical_accuracy: 0.9676\n",
            "Epoch 199/300\n",
            "50/51 [============================>.] - ETA: 0s - loss: 0.0453 - categorical_accuracy: 0.9862\n",
            "Epoch 199: val_loss did not improve from 0.03783\n",
            "51/51 [==============================] - 1s 10ms/step - loss: 0.0453 - categorical_accuracy: 0.9863 - val_loss: 0.1187 - val_categorical_accuracy: 0.9751\n",
            "Epoch 200/300\n",
            "50/51 [============================>.] - ETA: 0s - loss: 0.0750 - categorical_accuracy: 0.9775\n",
            "Epoch 200: val_loss did not improve from 0.03783\n",
            "51/51 [==============================] - 1s 10ms/step - loss: 0.0749 - categorical_accuracy: 0.9775 - val_loss: 0.0930 - val_categorical_accuracy: 0.9726\n",
            "Epoch 201/300\n",
            "49/51 [===========================>..] - ETA: 0s - loss: 0.0529 - categorical_accuracy: 0.9841\n",
            "Epoch 201: val_loss did not improve from 0.03783\n",
            "51/51 [==============================] - 0s 9ms/step - loss: 0.0536 - categorical_accuracy: 0.9831 - val_loss: 0.0885 - val_categorical_accuracy: 0.9800\n",
            "Epoch 202/300\n",
            "46/51 [==========================>...] - ETA: 0s - loss: 0.0406 - categorical_accuracy: 0.9857\n",
            "Epoch 202: val_loss did not improve from 0.03783\n",
            "51/51 [==============================] - 0s 9ms/step - loss: 0.0404 - categorical_accuracy: 0.9863 - val_loss: 0.1375 - val_categorical_accuracy: 0.9776\n",
            "Epoch 203/300\n",
            "48/51 [===========================>..] - ETA: 0s - loss: 0.0677 - categorical_accuracy: 0.9818\n",
            "Epoch 203: val_loss did not improve from 0.03783\n",
            "51/51 [==============================] - 1s 10ms/step - loss: 0.0696 - categorical_accuracy: 0.9819 - val_loss: 0.1715 - val_categorical_accuracy: 0.9551\n",
            "Epoch 204/300\n",
            "45/51 [=========================>....] - ETA: 0s - loss: 0.0614 - categorical_accuracy: 0.9826\n",
            "Epoch 204: val_loss did not improve from 0.03783\n",
            "51/51 [==============================] - 1s 10ms/step - loss: 0.0570 - categorical_accuracy: 0.9844 - val_loss: 0.0814 - val_categorical_accuracy: 0.9825\n",
            "Epoch 205/300\n",
            "48/51 [===========================>..] - ETA: 0s - loss: 0.0605 - categorical_accuracy: 0.9798\n",
            "Epoch 205: val_loss did not improve from 0.03783\n",
            "51/51 [==============================] - 0s 9ms/step - loss: 0.0594 - categorical_accuracy: 0.9800 - val_loss: 0.0848 - val_categorical_accuracy: 0.9776\n",
            "Epoch 206/300\n",
            "47/51 [==========================>...] - ETA: 0s - loss: 0.0202 - categorical_accuracy: 0.9934\n",
            "Epoch 206: val_loss did not improve from 0.03783\n",
            "51/51 [==============================] - 0s 9ms/step - loss: 0.0213 - categorical_accuracy: 0.9925 - val_loss: 0.1186 - val_categorical_accuracy: 0.9776\n",
            "Epoch 207/300\n",
            "48/51 [===========================>..] - ETA: 0s - loss: 0.0314 - categorical_accuracy: 0.9915\n",
            "Epoch 207: val_loss did not improve from 0.03783\n",
            "51/51 [==============================] - 0s 9ms/step - loss: 0.0302 - categorical_accuracy: 0.9919 - val_loss: 0.0844 - val_categorical_accuracy: 0.9776\n",
            "Epoch 208/300\n",
            "46/51 [==========================>...] - ETA: 0s - loss: 0.0585 - categorical_accuracy: 0.9871\n",
            "Epoch 208: val_loss did not improve from 0.03783\n",
            "51/51 [==============================] - 1s 10ms/step - loss: 0.0590 - categorical_accuracy: 0.9869 - val_loss: 0.0588 - val_categorical_accuracy: 0.9900\n",
            "Epoch 209/300\n",
            "46/51 [==========================>...] - ETA: 0s - loss: 0.0813 - categorical_accuracy: 0.9796\n",
            "Epoch 209: val_loss did not improve from 0.03783\n",
            "51/51 [==============================] - 1s 10ms/step - loss: 0.0824 - categorical_accuracy: 0.9794 - val_loss: 0.1384 - val_categorical_accuracy: 0.9701\n",
            "Epoch 210/300\n",
            "44/51 [========================>.....] - ETA: 0s - loss: 0.0638 - categorical_accuracy: 0.9815\n",
            "Epoch 210: val_loss did not improve from 0.03783\n",
            "51/51 [==============================] - 0s 10ms/step - loss: 0.0582 - categorical_accuracy: 0.9838 - val_loss: 0.0949 - val_categorical_accuracy: 0.9751\n",
            "Epoch 211/300\n",
            "48/51 [===========================>..] - ETA: 0s - loss: 0.0570 - categorical_accuracy: 0.9831\n",
            "Epoch 211: val_loss did not improve from 0.03783\n",
            "51/51 [==============================] - 0s 9ms/step - loss: 0.0564 - categorical_accuracy: 0.9831 - val_loss: 0.1046 - val_categorical_accuracy: 0.9726\n",
            "Epoch 212/300\n",
            "45/51 [=========================>....] - ETA: 0s - loss: 0.0315 - categorical_accuracy: 0.9889\n",
            "Epoch 212: val_loss did not improve from 0.03783\n",
            "51/51 [==============================] - 1s 10ms/step - loss: 0.0299 - categorical_accuracy: 0.9894 - val_loss: 0.0864 - val_categorical_accuracy: 0.9751\n",
            "Epoch 213/300\n",
            "48/51 [===========================>..] - ETA: 0s - loss: 0.0408 - categorical_accuracy: 0.9876\n",
            "Epoch 213: val_loss did not improve from 0.03783\n",
            "51/51 [==============================] - 1s 10ms/step - loss: 0.0421 - categorical_accuracy: 0.9869 - val_loss: 0.0826 - val_categorical_accuracy: 0.9776\n",
            "Epoch 214/300\n",
            "50/51 [============================>.] - ETA: 0s - loss: 0.1263 - categorical_accuracy: 0.9675\n",
            "Epoch 214: val_loss did not improve from 0.03783\n",
            "51/51 [==============================] - 1s 10ms/step - loss: 0.1263 - categorical_accuracy: 0.9675 - val_loss: 0.0990 - val_categorical_accuracy: 0.9751\n",
            "Epoch 215/300\n",
            "47/51 [==========================>...] - ETA: 0s - loss: 0.0744 - categorical_accuracy: 0.9814\n",
            "Epoch 215: val_loss did not improve from 0.03783\n",
            "51/51 [==============================] - 1s 10ms/step - loss: 0.0744 - categorical_accuracy: 0.9813 - val_loss: 0.0961 - val_categorical_accuracy: 0.9701\n",
            "Epoch 216/300\n",
            "46/51 [==========================>...] - ETA: 0s - loss: 0.0680 - categorical_accuracy: 0.9823\n",
            "Epoch 216: val_loss did not improve from 0.03783\n",
            "51/51 [==============================] - 1s 10ms/step - loss: 0.0700 - categorical_accuracy: 0.9806 - val_loss: 0.1063 - val_categorical_accuracy: 0.9751\n",
            "Epoch 217/300\n",
            "45/51 [=========================>....] - ETA: 0s - loss: 0.0967 - categorical_accuracy: 0.9785\n",
            "Epoch 217: val_loss did not improve from 0.03783\n",
            "51/51 [==============================] - 1s 10ms/step - loss: 0.1049 - categorical_accuracy: 0.9769 - val_loss: 0.0803 - val_categorical_accuracy: 0.9850\n",
            "Epoch 218/300\n",
            "48/51 [===========================>..] - ETA: 0s - loss: 0.0935 - categorical_accuracy: 0.9707\n",
            "Epoch 218: val_loss did not improve from 0.03783\n",
            "51/51 [==============================] - 1s 11ms/step - loss: 0.0979 - categorical_accuracy: 0.9700 - val_loss: 0.0671 - val_categorical_accuracy: 0.9726\n",
            "Epoch 219/300\n",
            "46/51 [==========================>...] - ETA: 0s - loss: 0.0620 - categorical_accuracy: 0.9823\n",
            "Epoch 219: val_loss did not improve from 0.03783\n",
            "51/51 [==============================] - 1s 10ms/step - loss: 0.0699 - categorical_accuracy: 0.9806 - val_loss: 0.1005 - val_categorical_accuracy: 0.9776\n",
            "Epoch 220/300\n",
            "47/51 [==========================>...] - ETA: 0s - loss: 0.0742 - categorical_accuracy: 0.9794\n",
            "Epoch 220: val_loss did not improve from 0.03783\n",
            "51/51 [==============================] - 1s 11ms/step - loss: 0.0714 - categorical_accuracy: 0.9800 - val_loss: 0.0977 - val_categorical_accuracy: 0.9701\n",
            "Epoch 221/300\n",
            "48/51 [===========================>..] - ETA: 0s - loss: 0.0216 - categorical_accuracy: 0.9935\n",
            "Epoch 221: val_loss did not improve from 0.03783\n",
            "51/51 [==============================] - 0s 9ms/step - loss: 0.0214 - categorical_accuracy: 0.9938 - val_loss: 0.0671 - val_categorical_accuracy: 0.9825\n",
            "Epoch 222/300\n",
            "51/51 [==============================] - ETA: 0s - loss: 0.0086 - categorical_accuracy: 0.9975\n",
            "Epoch 222: val_loss did not improve from 0.03783\n",
            "51/51 [==============================] - 1s 10ms/step - loss: 0.0086 - categorical_accuracy: 0.9975 - val_loss: 0.0747 - val_categorical_accuracy: 0.9825\n",
            "Epoch 223/300\n",
            "48/51 [===========================>..] - ETA: 0s - loss: 0.0422 - categorical_accuracy: 0.9935\n",
            "Epoch 223: val_loss did not improve from 0.03783\n",
            "51/51 [==============================] - 1s 11ms/step - loss: 0.0411 - categorical_accuracy: 0.9938 - val_loss: 0.0715 - val_categorical_accuracy: 0.9850\n",
            "Epoch 224/300\n",
            "49/51 [===========================>..] - ETA: 0s - loss: 0.0676 - categorical_accuracy: 0.9815\n",
            "Epoch 224: val_loss did not improve from 0.03783\n",
            "51/51 [==============================] - 1s 10ms/step - loss: 0.0700 - categorical_accuracy: 0.9806 - val_loss: 0.1746 - val_categorical_accuracy: 0.9800\n",
            "Epoch 225/300\n",
            "45/51 [=========================>....] - ETA: 0s - loss: 0.0896 - categorical_accuracy: 0.9701\n",
            "Epoch 225: val_loss did not improve from 0.03783\n",
            "51/51 [==============================] - 0s 9ms/step - loss: 0.0890 - categorical_accuracy: 0.9713 - val_loss: 0.0686 - val_categorical_accuracy: 0.9825\n",
            "Epoch 226/300\n",
            "45/51 [=========================>....] - ETA: 0s - loss: 0.0472 - categorical_accuracy: 0.9819\n",
            "Epoch 226: val_loss did not improve from 0.03783\n",
            "51/51 [==============================] - 0s 10ms/step - loss: 0.0443 - categorical_accuracy: 0.9831 - val_loss: 0.0863 - val_categorical_accuracy: 0.9751\n",
            "Epoch 227/300\n",
            "50/51 [============================>.] - ETA: 0s - loss: 0.0655 - categorical_accuracy: 0.9825\n",
            "Epoch 227: val_loss did not improve from 0.03783\n",
            "51/51 [==============================] - 1s 11ms/step - loss: 0.0654 - categorical_accuracy: 0.9825 - val_loss: 0.1256 - val_categorical_accuracy: 0.9651\n",
            "Epoch 228/300\n",
            "48/51 [===========================>..] - ETA: 0s - loss: 0.1004 - categorical_accuracy: 0.9759\n",
            "Epoch 228: val_loss did not improve from 0.03783\n",
            "51/51 [==============================] - 1s 10ms/step - loss: 0.0976 - categorical_accuracy: 0.9763 - val_loss: 0.1773 - val_categorical_accuracy: 0.9526\n",
            "Epoch 229/300\n",
            "51/51 [==============================] - ETA: 0s - loss: 0.0593 - categorical_accuracy: 0.9850\n",
            "Epoch 229: val_loss did not improve from 0.03783\n",
            "51/51 [==============================] - 1s 10ms/step - loss: 0.0593 - categorical_accuracy: 0.9850 - val_loss: 0.1143 - val_categorical_accuracy: 0.9751\n",
            "Epoch 230/300\n",
            "45/51 [=========================>....] - ETA: 0s - loss: 0.0446 - categorical_accuracy: 0.9819\n",
            "Epoch 230: val_loss did not improve from 0.03783\n",
            "51/51 [==============================] - 1s 10ms/step - loss: 0.0643 - categorical_accuracy: 0.9813 - val_loss: 0.0679 - val_categorical_accuracy: 0.9800\n",
            "Epoch 231/300\n",
            "50/51 [============================>.] - ETA: 0s - loss: 0.0664 - categorical_accuracy: 0.9831\n",
            "Epoch 231: val_loss did not improve from 0.03783\n",
            "51/51 [==============================] - 1s 10ms/step - loss: 0.0664 - categorical_accuracy: 0.9831 - val_loss: 0.0817 - val_categorical_accuracy: 0.9825\n",
            "Epoch 232/300\n",
            "48/51 [===========================>..] - ETA: 0s - loss: 0.0394 - categorical_accuracy: 0.9883\n",
            "Epoch 232: val_loss did not improve from 0.03783\n",
            "51/51 [==============================] - 1s 11ms/step - loss: 0.0384 - categorical_accuracy: 0.9881 - val_loss: 0.1064 - val_categorical_accuracy: 0.9850\n",
            "Epoch 233/300\n",
            "45/51 [=========================>....] - ETA: 0s - loss: 0.0468 - categorical_accuracy: 0.9875\n",
            "Epoch 233: val_loss did not improve from 0.03783\n",
            "51/51 [==============================] - 0s 9ms/step - loss: 0.0442 - categorical_accuracy: 0.9881 - val_loss: 0.0609 - val_categorical_accuracy: 0.9875\n",
            "Epoch 234/300\n",
            "45/51 [=========================>....] - ETA: 0s - loss: 0.0199 - categorical_accuracy: 0.9910\n",
            "Epoch 234: val_loss did not improve from 0.03783\n",
            "51/51 [==============================] - 1s 10ms/step - loss: 0.0229 - categorical_accuracy: 0.9913 - val_loss: 0.1323 - val_categorical_accuracy: 0.9726\n",
            "Epoch 235/300\n",
            "50/51 [============================>.] - ETA: 0s - loss: 0.0526 - categorical_accuracy: 0.9812\n",
            "Epoch 235: val_loss did not improve from 0.03783\n",
            "51/51 [==============================] - 1s 11ms/step - loss: 0.0526 - categorical_accuracy: 0.9813 - val_loss: 0.0806 - val_categorical_accuracy: 0.9850\n",
            "Epoch 236/300\n",
            "46/51 [==========================>...] - ETA: 0s - loss: 0.0319 - categorical_accuracy: 0.9898\n",
            "Epoch 236: val_loss did not improve from 0.03783\n",
            "51/51 [==============================] - 1s 12ms/step - loss: 0.0309 - categorical_accuracy: 0.9894 - val_loss: 0.1134 - val_categorical_accuracy: 0.9776\n",
            "Epoch 237/300\n",
            "45/51 [=========================>....] - ETA: 0s - loss: 0.0490 - categorical_accuracy: 0.9861\n",
            "Epoch 237: val_loss did not improve from 0.03783\n",
            "51/51 [==============================] - 1s 12ms/step - loss: 0.0461 - categorical_accuracy: 0.9869 - val_loss: 0.1796 - val_categorical_accuracy: 0.9751\n",
            "Epoch 238/300\n",
            "48/51 [===========================>..] - ETA: 0s - loss: 0.0491 - categorical_accuracy: 0.9896\n",
            "Epoch 238: val_loss did not improve from 0.03783\n",
            "51/51 [==============================] - 1s 11ms/step - loss: 0.0480 - categorical_accuracy: 0.9894 - val_loss: 0.1270 - val_categorical_accuracy: 0.9776\n",
            "Epoch 239/300\n",
            "49/51 [===========================>..] - ETA: 0s - loss: 0.0197 - categorical_accuracy: 0.9955\n",
            "Epoch 239: val_loss did not improve from 0.03783\n",
            "51/51 [==============================] - 1s 10ms/step - loss: 0.0196 - categorical_accuracy: 0.9956 - val_loss: 0.0456 - val_categorical_accuracy: 0.9875\n",
            "Epoch 240/300\n",
            "48/51 [===========================>..] - ETA: 0s - loss: 0.0309 - categorical_accuracy: 0.9909\n",
            "Epoch 240: val_loss did not improve from 0.03783\n",
            "51/51 [==============================] - 1s 10ms/step - loss: 0.0303 - categorical_accuracy: 0.9913 - val_loss: 0.0964 - val_categorical_accuracy: 0.9651\n",
            "Epoch 241/300\n",
            "51/51 [==============================] - ETA: 0s - loss: 0.0460 - categorical_accuracy: 0.9869\n",
            "Epoch 241: val_loss did not improve from 0.03783\n",
            "51/51 [==============================] - 1s 11ms/step - loss: 0.0460 - categorical_accuracy: 0.9869 - val_loss: 0.0427 - val_categorical_accuracy: 0.9900\n",
            "Epoch 242/300\n",
            "49/51 [===========================>..] - ETA: 0s - loss: 0.0553 - categorical_accuracy: 0.9885\n",
            "Epoch 242: val_loss did not improve from 0.03783\n",
            "51/51 [==============================] - 1s 10ms/step - loss: 0.0543 - categorical_accuracy: 0.9888 - val_loss: 0.0704 - val_categorical_accuracy: 0.9850\n",
            "Epoch 243/300\n",
            "47/51 [==========================>...] - ETA: 0s - loss: 0.1158 - categorical_accuracy: 0.9681\n",
            "Epoch 243: val_loss did not improve from 0.03783\n",
            "51/51 [==============================] - 1s 11ms/step - loss: 0.1104 - categorical_accuracy: 0.9694 - val_loss: 0.0464 - val_categorical_accuracy: 0.9850\n",
            "Epoch 244/300\n",
            "48/51 [===========================>..] - ETA: 0s - loss: 0.0577 - categorical_accuracy: 0.9857\n",
            "Epoch 244: val_loss did not improve from 0.03783\n",
            "51/51 [==============================] - 1s 10ms/step - loss: 0.0557 - categorical_accuracy: 0.9863 - val_loss: 0.1491 - val_categorical_accuracy: 0.9651\n",
            "Epoch 245/300\n",
            "47/51 [==========================>...] - ETA: 0s - loss: 0.0863 - categorical_accuracy: 0.9774\n",
            "Epoch 245: val_loss did not improve from 0.03783\n",
            "51/51 [==============================] - 1s 10ms/step - loss: 0.0820 - categorical_accuracy: 0.9781 - val_loss: 0.0958 - val_categorical_accuracy: 0.9800\n",
            "Epoch 246/300\n",
            "48/51 [===========================>..] - ETA: 0s - loss: 0.0422 - categorical_accuracy: 0.9883\n",
            "Epoch 246: val_loss did not improve from 0.03783\n",
            "51/51 [==============================] - 1s 10ms/step - loss: 0.0405 - categorical_accuracy: 0.9888 - val_loss: 0.0876 - val_categorical_accuracy: 0.9751\n",
            "Epoch 247/300\n",
            "48/51 [===========================>..] - ETA: 0s - loss: 0.0773 - categorical_accuracy: 0.9850\n",
            "Epoch 247: val_loss did not improve from 0.03783\n",
            "51/51 [==============================] - 1s 10ms/step - loss: 0.0759 - categorical_accuracy: 0.9850 - val_loss: 0.1046 - val_categorical_accuracy: 0.9751\n",
            "Epoch 248/300\n",
            "47/51 [==========================>...] - ETA: 0s - loss: 0.0546 - categorical_accuracy: 0.9860\n",
            "Epoch 248: val_loss did not improve from 0.03783\n",
            "51/51 [==============================] - 0s 10ms/step - loss: 0.0552 - categorical_accuracy: 0.9850 - val_loss: 0.1352 - val_categorical_accuracy: 0.9776\n",
            "Epoch 249/300\n",
            "46/51 [==========================>...] - ETA: 0s - loss: 0.0456 - categorical_accuracy: 0.9851\n",
            "Epoch 249: val_loss did not improve from 0.03783\n",
            "51/51 [==============================] - 0s 10ms/step - loss: 0.0484 - categorical_accuracy: 0.9844 - val_loss: 0.1070 - val_categorical_accuracy: 0.9776\n",
            "Epoch 250/300\n",
            "49/51 [===========================>..] - ETA: 0s - loss: 0.0779 - categorical_accuracy: 0.9764\n",
            "Epoch 250: val_loss did not improve from 0.03783\n",
            "51/51 [==============================] - 1s 11ms/step - loss: 0.0766 - categorical_accuracy: 0.9769 - val_loss: 0.0972 - val_categorical_accuracy: 0.9751\n",
            "Epoch 251/300\n",
            "51/51 [==============================] - ETA: 0s - loss: 0.1350 - categorical_accuracy: 0.9644\n",
            "Epoch 251: val_loss did not improve from 0.03783\n",
            "51/51 [==============================] - 1s 10ms/step - loss: 0.1350 - categorical_accuracy: 0.9644 - val_loss: 0.1514 - val_categorical_accuracy: 0.9726\n",
            "Epoch 252/300\n",
            "46/51 [==========================>...] - ETA: 0s - loss: 0.0614 - categorical_accuracy: 0.9837\n",
            "Epoch 252: val_loss did not improve from 0.03783\n",
            "51/51 [==============================] - 1s 10ms/step - loss: 0.0612 - categorical_accuracy: 0.9838 - val_loss: 0.0476 - val_categorical_accuracy: 0.9800\n",
            "Epoch 253/300\n",
            "49/51 [===========================>..] - ETA: 0s - loss: 0.0425 - categorical_accuracy: 0.9892\n",
            "Epoch 253: val_loss did not improve from 0.03783\n",
            "51/51 [==============================] - 1s 10ms/step - loss: 0.0417 - categorical_accuracy: 0.9894 - val_loss: 0.1057 - val_categorical_accuracy: 0.9800\n",
            "Epoch 254/300\n",
            "45/51 [=========================>....] - ETA: 0s - loss: 0.0249 - categorical_accuracy: 0.9917\n",
            "Epoch 254: val_loss did not improve from 0.03783\n",
            "51/51 [==============================] - 1s 10ms/step - loss: 0.0251 - categorical_accuracy: 0.9919 - val_loss: 0.0695 - val_categorical_accuracy: 0.9850\n",
            "Epoch 255/300\n",
            "50/51 [============================>.] - ETA: 0s - loss: 0.0085 - categorical_accuracy: 0.9981\n",
            "Epoch 255: val_loss did not improve from 0.03783\n",
            "51/51 [==============================] - 1s 10ms/step - loss: 0.0085 - categorical_accuracy: 0.9981 - val_loss: 0.0829 - val_categorical_accuracy: 0.9825\n",
            "Epoch 256/300\n",
            "49/51 [===========================>..] - ETA: 0s - loss: 0.0414 - categorical_accuracy: 0.9879\n",
            "Epoch 256: val_loss did not improve from 0.03783\n",
            "51/51 [==============================] - 1s 10ms/step - loss: 0.0411 - categorical_accuracy: 0.9881 - val_loss: 0.1428 - val_categorical_accuracy: 0.9726\n",
            "Epoch 257/300\n",
            "47/51 [==========================>...] - ETA: 0s - loss: 0.0368 - categorical_accuracy: 0.9887\n",
            "Epoch 257: val_loss did not improve from 0.03783\n",
            "51/51 [==============================] - 1s 11ms/step - loss: 0.0361 - categorical_accuracy: 0.9888 - val_loss: 0.0899 - val_categorical_accuracy: 0.9825\n",
            "Epoch 258/300\n",
            "47/51 [==========================>...] - ETA: 0s - loss: 0.0395 - categorical_accuracy: 0.9927\n",
            "Epoch 258: val_loss did not improve from 0.03783\n",
            "51/51 [==============================] - 1s 10ms/step - loss: 0.0412 - categorical_accuracy: 0.9913 - val_loss: 0.0559 - val_categorical_accuracy: 0.9825\n",
            "Epoch 259/300\n",
            "48/51 [===========================>..] - ETA: 0s - loss: 0.0440 - categorical_accuracy: 0.9902\n",
            "Epoch 259: val_loss did not improve from 0.03783\n",
            "51/51 [==============================] - 1s 11ms/step - loss: 0.0426 - categorical_accuracy: 0.9906 - val_loss: 0.1003 - val_categorical_accuracy: 0.9875\n",
            "Epoch 260/300\n",
            "51/51 [==============================] - ETA: 0s - loss: 0.0252 - categorical_accuracy: 0.9925\n",
            "Epoch 260: val_loss did not improve from 0.03783\n",
            "51/51 [==============================] - 1s 10ms/step - loss: 0.0252 - categorical_accuracy: 0.9925 - val_loss: 0.0663 - val_categorical_accuracy: 0.9751\n",
            "Epoch 261/300\n",
            "51/51 [==============================] - ETA: 0s - loss: 0.0426 - categorical_accuracy: 0.9863\n",
            "Epoch 261: val_loss did not improve from 0.03783\n",
            "51/51 [==============================] - 1s 10ms/step - loss: 0.0426 - categorical_accuracy: 0.9863 - val_loss: 0.0974 - val_categorical_accuracy: 0.9701\n",
            "Epoch 262/300\n",
            "50/51 [============================>.] - ETA: 0s - loss: 0.0662 - categorical_accuracy: 0.9831\n",
            "Epoch 262: val_loss did not improve from 0.03783\n",
            "51/51 [==============================] - 1s 11ms/step - loss: 0.0662 - categorical_accuracy: 0.9831 - val_loss: 0.1022 - val_categorical_accuracy: 0.9726\n",
            "Epoch 263/300\n",
            "51/51 [==============================] - ETA: 0s - loss: 0.0520 - categorical_accuracy: 0.9894\n",
            "Epoch 263: val_loss did not improve from 0.03783\n",
            "51/51 [==============================] - 0s 10ms/step - loss: 0.0520 - categorical_accuracy: 0.9894 - val_loss: 0.2142 - val_categorical_accuracy: 0.9651\n",
            "Epoch 264/300\n",
            "48/51 [===========================>..] - ETA: 0s - loss: 0.0592 - categorical_accuracy: 0.9831\n",
            "Epoch 264: val_loss did not improve from 0.03783\n",
            "51/51 [==============================] - 1s 10ms/step - loss: 0.0570 - categorical_accuracy: 0.9838 - val_loss: 0.0977 - val_categorical_accuracy: 0.9776\n",
            "Epoch 265/300\n",
            "45/51 [=========================>....] - ETA: 0s - loss: 0.0244 - categorical_accuracy: 0.9917\n",
            "Epoch 265: val_loss did not improve from 0.03783\n",
            "51/51 [==============================] - 0s 9ms/step - loss: 0.0249 - categorical_accuracy: 0.9900 - val_loss: 0.1318 - val_categorical_accuracy: 0.9726\n",
            "Epoch 266/300\n",
            "46/51 [==========================>...] - ETA: 0s - loss: 0.0554 - categorical_accuracy: 0.9864\n",
            "Epoch 266: val_loss did not improve from 0.03783\n",
            "51/51 [==============================] - 1s 11ms/step - loss: 0.0554 - categorical_accuracy: 0.9856 - val_loss: 0.1998 - val_categorical_accuracy: 0.9701\n",
            "Epoch 267/300\n",
            "45/51 [=========================>....] - ETA: 0s - loss: 0.0876 - categorical_accuracy: 0.9785\n",
            "Epoch 267: val_loss did not improve from 0.03783\n",
            "51/51 [==============================] - 0s 10ms/step - loss: 0.0828 - categorical_accuracy: 0.9800 - val_loss: 0.2141 - val_categorical_accuracy: 0.9676\n",
            "Epoch 268/300\n",
            "50/51 [============================>.] - ETA: 0s - loss: 0.0963 - categorical_accuracy: 0.9769\n",
            "Epoch 268: val_loss did not improve from 0.03783\n",
            "51/51 [==============================] - 1s 10ms/step - loss: 0.0962 - categorical_accuracy: 0.9769 - val_loss: 0.2294 - val_categorical_accuracy: 0.9601\n",
            "Epoch 269/300\n",
            "50/51 [============================>.] - ETA: 0s - loss: 0.0996 - categorical_accuracy: 0.9737\n",
            "Epoch 269: val_loss did not improve from 0.03783\n",
            "51/51 [==============================] - 1s 11ms/step - loss: 0.0995 - categorical_accuracy: 0.9738 - val_loss: 0.0977 - val_categorical_accuracy: 0.9751\n",
            "Epoch 270/300\n",
            "48/51 [===========================>..] - ETA: 0s - loss: 0.0453 - categorical_accuracy: 0.9857\n",
            "Epoch 270: val_loss did not improve from 0.03783\n",
            "51/51 [==============================] - 1s 11ms/step - loss: 0.0447 - categorical_accuracy: 0.9856 - val_loss: 0.0521 - val_categorical_accuracy: 0.9850\n",
            "Epoch 271/300\n",
            "48/51 [===========================>..] - ETA: 0s - loss: 0.0268 - categorical_accuracy: 0.9915\n",
            "Epoch 271: val_loss did not improve from 0.03783\n",
            "51/51 [==============================] - 1s 11ms/step - loss: 0.0260 - categorical_accuracy: 0.9919 - val_loss: 0.0805 - val_categorical_accuracy: 0.9800\n",
            "Epoch 272/300\n",
            "50/51 [============================>.] - ETA: 0s - loss: 0.0368 - categorical_accuracy: 0.9875\n",
            "Epoch 272: val_loss did not improve from 0.03783\n",
            "51/51 [==============================] - 1s 10ms/step - loss: 0.0368 - categorical_accuracy: 0.9875 - val_loss: 0.0865 - val_categorical_accuracy: 0.9776\n",
            "Epoch 273/300\n",
            "50/51 [============================>.] - ETA: 0s - loss: 0.0546 - categorical_accuracy: 0.9844\n",
            "Epoch 273: val_loss did not improve from 0.03783\n",
            "51/51 [==============================] - 1s 10ms/step - loss: 0.0546 - categorical_accuracy: 0.9844 - val_loss: 0.1817 - val_categorical_accuracy: 0.9776\n",
            "Epoch 274/300\n",
            "47/51 [==========================>...] - ETA: 0s - loss: 0.0708 - categorical_accuracy: 0.9814\n",
            "Epoch 274: val_loss did not improve from 0.03783\n",
            "51/51 [==============================] - 1s 11ms/step - loss: 0.0723 - categorical_accuracy: 0.9813 - val_loss: 0.0946 - val_categorical_accuracy: 0.9800\n",
            "Epoch 275/300\n",
            "51/51 [==============================] - ETA: 0s - loss: 0.0381 - categorical_accuracy: 0.9906\n",
            "Epoch 275: val_loss did not improve from 0.03783\n",
            "51/51 [==============================] - 1s 10ms/step - loss: 0.0381 - categorical_accuracy: 0.9906 - val_loss: 0.0538 - val_categorical_accuracy: 0.9800\n",
            "Epoch 276/300\n",
            "48/51 [===========================>..] - ETA: 0s - loss: 0.1465 - categorical_accuracy: 0.9655\n",
            "Epoch 276: val_loss did not improve from 0.03783\n",
            "51/51 [==============================] - 1s 10ms/step - loss: 0.1426 - categorical_accuracy: 0.9663 - val_loss: 0.0523 - val_categorical_accuracy: 0.9800\n",
            "Epoch 277/300\n",
            "46/51 [==========================>...] - ETA: 0s - loss: 0.0697 - categorical_accuracy: 0.9830\n",
            "Epoch 277: val_loss did not improve from 0.03783\n",
            "51/51 [==============================] - 1s 10ms/step - loss: 0.0725 - categorical_accuracy: 0.9813 - val_loss: 0.0888 - val_categorical_accuracy: 0.9875\n",
            "Epoch 278/300\n",
            "48/51 [===========================>..] - ETA: 0s - loss: 0.0369 - categorical_accuracy: 0.9876\n",
            "Epoch 278: val_loss did not improve from 0.03783\n",
            "51/51 [==============================] - 1s 11ms/step - loss: 0.0361 - categorical_accuracy: 0.9875 - val_loss: 0.0697 - val_categorical_accuracy: 0.9800\n",
            "Epoch 279/300\n",
            "48/51 [===========================>..] - ETA: 0s - loss: 0.0641 - categorical_accuracy: 0.9844\n",
            "Epoch 279: val_loss did not improve from 0.03783\n",
            "51/51 [==============================] - 1s 10ms/step - loss: 0.0639 - categorical_accuracy: 0.9838 - val_loss: 0.1323 - val_categorical_accuracy: 0.9751\n",
            "Epoch 280/300\n",
            "51/51 [==============================] - ETA: 0s - loss: 0.0930 - categorical_accuracy: 0.9700\n",
            "Epoch 280: val_loss did not improve from 0.03783\n",
            "51/51 [==============================] - 1s 10ms/step - loss: 0.0930 - categorical_accuracy: 0.9700 - val_loss: 0.0863 - val_categorical_accuracy: 0.9825\n",
            "Epoch 281/300\n",
            "46/51 [==========================>...] - ETA: 0s - loss: 0.0604 - categorical_accuracy: 0.9830\n",
            "Epoch 281: val_loss did not improve from 0.03783\n",
            "51/51 [==============================] - 0s 9ms/step - loss: 0.0617 - categorical_accuracy: 0.9831 - val_loss: 0.0774 - val_categorical_accuracy: 0.9850\n",
            "Epoch 282/300\n",
            "50/51 [============================>.] - ETA: 0s - loss: 0.0597 - categorical_accuracy: 0.9844\n",
            "Epoch 282: val_loss did not improve from 0.03783\n",
            "51/51 [==============================] - 1s 10ms/step - loss: 0.0597 - categorical_accuracy: 0.9844 - val_loss: 0.0614 - val_categorical_accuracy: 0.9850\n",
            "Epoch 283/300\n",
            "46/51 [==========================>...] - ETA: 0s - loss: 0.0244 - categorical_accuracy: 0.9898\n",
            "Epoch 283: val_loss did not improve from 0.03783\n",
            "51/51 [==============================] - 0s 9ms/step - loss: 0.0234 - categorical_accuracy: 0.9906 - val_loss: 0.1299 - val_categorical_accuracy: 0.9825\n",
            "Epoch 284/300\n",
            "50/51 [============================>.] - ETA: 0s - loss: 0.0313 - categorical_accuracy: 0.9887\n",
            "Epoch 284: val_loss did not improve from 0.03783\n",
            "51/51 [==============================] - 1s 11ms/step - loss: 0.0313 - categorical_accuracy: 0.9888 - val_loss: 0.1103 - val_categorical_accuracy: 0.9875\n",
            "Epoch 285/300\n",
            "46/51 [==========================>...] - ETA: 0s - loss: 0.0430 - categorical_accuracy: 0.9864\n",
            "Epoch 285: val_loss did not improve from 0.03783\n",
            "51/51 [==============================] - 0s 9ms/step - loss: 0.0535 - categorical_accuracy: 0.9850 - val_loss: 0.1077 - val_categorical_accuracy: 0.9776\n",
            "Epoch 286/300\n",
            "45/51 [=========================>....] - ETA: 0s - loss: 0.0860 - categorical_accuracy: 0.9764\n",
            "Epoch 286: val_loss did not improve from 0.03783\n",
            "51/51 [==============================] - 1s 10ms/step - loss: 0.0814 - categorical_accuracy: 0.9769 - val_loss: 0.0864 - val_categorical_accuracy: 0.9776\n",
            "Epoch 287/300\n",
            "46/51 [==========================>...] - ETA: 0s - loss: 0.0370 - categorical_accuracy: 0.9871\n",
            "Epoch 287: val_loss did not improve from 0.03783\n",
            "51/51 [==============================] - 0s 9ms/step - loss: 0.0358 - categorical_accuracy: 0.9875 - val_loss: 0.1517 - val_categorical_accuracy: 0.9800\n",
            "Epoch 288/300\n",
            "50/51 [============================>.] - ETA: 0s - loss: 0.0226 - categorical_accuracy: 0.9937\n",
            "Epoch 288: val_loss did not improve from 0.03783\n",
            "51/51 [==============================] - 1s 10ms/step - loss: 0.0226 - categorical_accuracy: 0.9938 - val_loss: 0.0505 - val_categorical_accuracy: 0.9825\n",
            "Epoch 289/300\n",
            "50/51 [============================>.] - ETA: 0s - loss: 0.0452 - categorical_accuracy: 0.9881\n",
            "Epoch 289: val_loss did not improve from 0.03783\n",
            "51/51 [==============================] - 1s 10ms/step - loss: 0.0451 - categorical_accuracy: 0.9881 - val_loss: 0.1545 - val_categorical_accuracy: 0.9726\n",
            "Epoch 290/300\n",
            "46/51 [==========================>...] - ETA: 0s - loss: 0.0460 - categorical_accuracy: 0.9885\n",
            "Epoch 290: val_loss did not improve from 0.03783\n",
            "51/51 [==============================] - 1s 10ms/step - loss: 0.0425 - categorical_accuracy: 0.9894 - val_loss: 0.0706 - val_categorical_accuracy: 0.9800\n",
            "Epoch 291/300\n",
            "51/51 [==============================] - ETA: 0s - loss: 0.0281 - categorical_accuracy: 0.9913\n",
            "Epoch 291: val_loss did not improve from 0.03783\n",
            "51/51 [==============================] - 0s 10ms/step - loss: 0.0281 - categorical_accuracy: 0.9913 - val_loss: 0.1221 - val_categorical_accuracy: 0.9751\n",
            "Epoch 292/300\n",
            "47/51 [==========================>...] - ETA: 0s - loss: 0.0728 - categorical_accuracy: 0.9827\n",
            "Epoch 292: val_loss did not improve from 0.03783\n",
            "51/51 [==============================] - 1s 10ms/step - loss: 0.0692 - categorical_accuracy: 0.9838 - val_loss: 0.1329 - val_categorical_accuracy: 0.9776\n",
            "Epoch 293/300\n",
            "49/51 [===========================>..] - ETA: 0s - loss: 0.0330 - categorical_accuracy: 0.9904\n",
            "Epoch 293: val_loss did not improve from 0.03783\n",
            "51/51 [==============================] - 1s 10ms/step - loss: 0.0325 - categorical_accuracy: 0.9906 - val_loss: 0.0911 - val_categorical_accuracy: 0.9850\n",
            "Epoch 294/300\n",
            "48/51 [===========================>..] - ETA: 0s - loss: 0.0292 - categorical_accuracy: 0.9902\n",
            "Epoch 294: val_loss did not improve from 0.03783\n",
            "51/51 [==============================] - 1s 10ms/step - loss: 0.0281 - categorical_accuracy: 0.9906 - val_loss: 0.1374 - val_categorical_accuracy: 0.9776\n",
            "Epoch 295/300\n",
            "47/51 [==========================>...] - ETA: 0s - loss: 0.0303 - categorical_accuracy: 0.9920\n",
            "Epoch 295: val_loss did not improve from 0.03783\n",
            "51/51 [==============================] - 1s 10ms/step - loss: 0.0296 - categorical_accuracy: 0.9925 - val_loss: 0.0602 - val_categorical_accuracy: 0.9800\n",
            "Epoch 296/300\n",
            "50/51 [============================>.] - ETA: 0s - loss: 0.0321 - categorical_accuracy: 0.9869\n",
            "Epoch 296: val_loss did not improve from 0.03783\n",
            "51/51 [==============================] - 1s 11ms/step - loss: 0.0321 - categorical_accuracy: 0.9869 - val_loss: 0.0690 - val_categorical_accuracy: 0.9875\n",
            "Epoch 297/300\n",
            "49/51 [===========================>..] - ETA: 0s - loss: 0.0309 - categorical_accuracy: 0.9885\n",
            "Epoch 297: val_loss did not improve from 0.03783\n",
            "51/51 [==============================] - 1s 10ms/step - loss: 0.0336 - categorical_accuracy: 0.9875 - val_loss: 0.1327 - val_categorical_accuracy: 0.9825\n",
            "Epoch 298/300\n",
            "49/51 [===========================>..] - ETA: 0s - loss: 0.0309 - categorical_accuracy: 0.9917\n",
            "Epoch 298: val_loss did not improve from 0.03783\n",
            "51/51 [==============================] - 1s 10ms/step - loss: 0.0307 - categorical_accuracy: 0.9919 - val_loss: 0.0936 - val_categorical_accuracy: 0.9825\n",
            "Epoch 299/300\n",
            "49/51 [===========================>..] - ETA: 0s - loss: 0.1293 - categorical_accuracy: 0.9688\n",
            "Epoch 299: val_loss did not improve from 0.03783\n",
            "51/51 [==============================] - 1s 10ms/step - loss: 0.1269 - categorical_accuracy: 0.9694 - val_loss: 0.1248 - val_categorical_accuracy: 0.9776\n",
            "Epoch 300/300\n",
            "49/51 [===========================>..] - ETA: 0s - loss: 0.0803 - categorical_accuracy: 0.9815\n",
            "Epoch 300: val_loss did not improve from 0.03783\n",
            "51/51 [==============================] - 1s 11ms/step - loss: 0.0803 - categorical_accuracy: 0.9813 - val_loss: 0.1207 - val_categorical_accuracy: 0.9800\n",
            "Training completed in time:  0:02:32.154994\n"
          ]
        }
      ]
    },
    {
      "cell_type": "code",
      "source": [
        "pd.DataFrame(history.history).plot(figsize=(10,7))\n",
        "plt.legend(loc='center')\n",
        "plt.show()"
      ],
      "metadata": {
        "colab": {
          "base_uri": "https://localhost:8080/"
        },
        "id": "-qW_2F3Or0uy",
        "outputId": "b3e5799f-29ae-45f4-95a2-8223dfb2a77d"
      },
      "execution_count": null,
      "outputs": [
        {
          "output_type": "display_data",
          "data": {
            "image/png": "[encoded data removed]",
            "text/plain": [
              "<Figure size 720x504 with 1 Axes>"
            ]
          },
          "metadata": {}
        }
      ]
    },
    {
      "cell_type": "markdown",
      "source": [
        "## Prediction with random samples from train / test data"
      ],
      "metadata": {
        "id": "b1PKVROcm-Hl"
      }
    },
    {
      "cell_type": "code",
      "source": [
        "for i in range(10):\n",
        "    file = random.sample(file_list,1)\n",
        "    audio, sample_rate = librosa.load(file[0], res_type='kaiser_fast') \n",
        "    X = features_extractor(audio, sample_rate)\n",
        "    print(f' {file[0]} :  {np.argmax(model.predict(X.reshape(1,1,-1)))}' )"
      ],
      "metadata": {
        "colab": {
          "base_uri": "https://localhost:8080/"
        },
        "id": "ptJXwRQ17IGe",
        "outputId": "eb899e1a-a581-443d-dc02-569995c2ed6d"
      },
      "execution_count": null,
      "outputs": [
        {
          "output_type": "stream",
          "name": "stdout",
          "text": [
            " 1_nicolas_13.wav :  1\n",
            " 8_theo_10.wav :  8\n",
            " 6_yweweler_13.wav :  6\n",
            " 5_jackson_14.wav :  5\n",
            " 8_theo_30.wav :  8\n",
            " 2_yweweler_8.wav :  2\n",
            " 7_theo_49.wav :  7\n",
            " 6_nicolas_25.wav :  6\n",
            " 8_nicolas_29.wav :  8\n",
            " 9_yweweler_47.wav :  9\n"
          ]
        }
      ]
    },
    {
      "cell_type": "code",
      "source": [
        "#from google.colab import files\n",
        "#files.upload()"
      ],
      "metadata": {
        "id": "DKYLqlw94y_a"
      },
      "execution_count": null,
      "outputs": []
    },
    {
      "cell_type": "code",
      "source": [
        "model.save('../keras_digit')"
      ],
      "metadata": {
        "colab": {
          "base_uri": "https://localhost:8080/"
        },
        "id": "KVVhTre7Zig1",
        "outputId": "1fd81844-56b3-48f9-92f2-0225ea7e0a63"
      },
      "execution_count": null,
      "outputs": [
        {
          "output_type": "stream",
          "name": "stdout",
          "text": [
            "INFO:tensorflow:Assets written to: ../keras_digit/assets\n"
          ]
        }
      ]
    }
  ]
}